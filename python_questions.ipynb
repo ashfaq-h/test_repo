{
  "nbformat": 4,
  "nbformat_minor": 0,
  "metadata": {
    "colab": {
      "provenance": []
    },
    "kernelspec": {
      "name": "python3",
      "display_name": "Python 3"
    },
    "language_info": {
      "name": "python"
    }
  },
  "cells": [
    {
      "cell_type": "markdown",
      "source": [
        "## Geeks-for-Geeks python questions\n",
        "https://www.geeksforgeeks.org/python-programming-examples/"
      ],
      "metadata": {
        "id": "dO_vBXh9ekbN"
      }
    },
    {
      "cell_type": "code",
      "source": [
        "# Q1 Python program to add two numbers\n",
        "\n",
        "def add_num(a,b):\n",
        "  return(int(a)+ int(b))\n",
        "\n",
        "a= input()\n",
        "b= input()\n",
        "print(add_num(a,b))\n"
      ],
      "metadata": {
        "id": "cd5QSFuULlS7",
        "colab": {
          "base_uri": "https://localhost:8080/"
        },
        "outputId": "2aadc7c0-8f05-4d31-d01a-6218ebe0d535"
      },
      "execution_count": null,
      "outputs": [
        {
          "output_type": "stream",
          "name": "stdout",
          "text": [
            "4\n",
            "7\n",
            "11\n"
          ]
        }
      ]
    },
    {
      "cell_type": "code",
      "source": [
        "# Q2 Maximum of two numbers in Python\n",
        "def max_num(a,b):\n",
        "  if a > b:\n",
        "    return a\n",
        "  elif b > a:\n",
        "    return b\n",
        "  else:\n",
        "    print(\"both are equal\")\n",
        "a = int(input())\n",
        "b = int(input())\n",
        "print(max_num(a,b))"
      ],
      "metadata": {
        "colab": {
          "base_uri": "https://localhost:8080/"
        },
        "id": "J9JDpIgNPrDJ",
        "outputId": "65640acd-79f2-4f16-e87b-17ed8619565d"
      },
      "execution_count": null,
      "outputs": [
        {
          "output_type": "stream",
          "name": "stdout",
          "text": [
            "3\n",
            "12\n",
            "12\n"
          ]
        }
      ]
    },
    {
      "cell_type": "code",
      "source": [
        "\n",
        "# Q3 Python Program for factorial of a number\n",
        "# recursive function\n",
        "\n",
        "def fact_num(n):\n",
        "  if n == 0 or n == 1:\n",
        "    return 1\n",
        "  else:\n",
        "    return(n * fact_num(n-1))\n",
        "\n",
        "n = int(input())\n",
        "fact_num(n)\n"
      ],
      "metadata": {
        "id": "7WP4_0SVLlHw",
        "colab": {
          "base_uri": "https://localhost:8080/"
        },
        "outputId": "2f83996a-a45f-472b-cd29-67356cc65826"
      },
      "execution_count": null,
      "outputs": [
        {
          "name": "stdout",
          "output_type": "stream",
          "text": [
            "8\n"
          ]
        },
        {
          "output_type": "execute_result",
          "data": {
            "text/plain": [
              "40320"
            ]
          },
          "metadata": {},
          "execution_count": 23
        }
      ]
    },
    {
      "cell_type": "code",
      "source": [
        "# Q4 Python Program for simple interest\n",
        "# SI = (principal * interest * time(years))/100\n",
        "\n",
        "def simp_int(p, r, t):\n",
        "  return((p*r*t)/100)\n",
        "\n",
        "p = float(input())\n",
        "r = float(input())\n",
        "t = float(input())\n",
        "\n",
        "simp_int(p, r, t)"
      ],
      "metadata": {
        "colab": {
          "base_uri": "https://localhost:8080/"
        },
        "id": "DKldnRkHZEK1",
        "outputId": "e74cd061-ae01-48b5-e474-091b0ceb5bfa"
      },
      "execution_count": null,
      "outputs": [
        {
          "name": "stdout",
          "output_type": "stream",
          "text": [
            "2000\n",
            "2\n",
            "3\n"
          ]
        },
        {
          "output_type": "execute_result",
          "data": {
            "text/plain": [
              "120.0"
            ]
          },
          "metadata": {},
          "execution_count": 25
        }
      ]
    },
    {
      "cell_type": "code",
      "source": [
        "# Q5 Python Program for compound interest\n",
        "# amount = p*(1 + r/100)**t\n",
        "# CI = amount - p\n",
        "\n",
        "def comp_int(p, r, t):\n",
        "  amount =  p*(1 + r/100)**t\n",
        "  return(round((amount-p),3))\n",
        "\n",
        "p = float(input())\n",
        "r = float(input())\n",
        "t = float(input())\n",
        "3\n",
        "\n",
        "comp_int(p, r, t)"
      ],
      "metadata": {
        "colab": {
          "base_uri": "https://localhost:8080/"
        },
        "id": "K30KevKRaqfr",
        "outputId": "12a621cd-0a98-4f1b-b673-20931fc0b4db"
      },
      "execution_count": null,
      "outputs": [
        {
          "name": "stdout",
          "output_type": "stream",
          "text": [
            "2000\n",
            "2\n",
            "3\n"
          ]
        },
        {
          "output_type": "execute_result",
          "data": {
            "text/plain": [
              "122.416"
            ]
          },
          "metadata": {},
          "execution_count": 44
        }
      ]
    },
    {
      "cell_type": "code",
      "source": [
        "# Q6 Python Program to check Armstrong Number\n",
        "# A number that equals the sum of its digits, each raised to a power. For ex., a number like 153 is an Armstrong no because 1^3 + 5^3 + 3^3 = 153\n",
        "\n",
        "def arms_num(n):\n",
        "  sum = 0\n",
        "  for i in str(n):\n",
        "    k = int(i)**len(str(n))\n",
        "    sum += k\n",
        "  if sum == n:\n",
        "    print(f'{n} is an Armstrong number.')\n",
        "  else:\n",
        "    print(f'{n} is not an Armstrong number.')\n",
        "\n",
        "arms_num(int(input()))"
      ],
      "metadata": {
        "colab": {
          "base_uri": "https://localhost:8080/"
        },
        "id": "KE0ZAg9laqiC",
        "outputId": "8ee58901-e4e9-4fe8-81e5-b5adce77c72e"
      },
      "execution_count": null,
      "outputs": [
        {
          "output_type": "stream",
          "name": "stdout",
          "text": [
            "153\n",
            "153 is an Armstrong number.\n"
          ]
        }
      ]
    },
    {
      "cell_type": "code",
      "source": [
        "# Q7 Python Program for Program to find area of a circle\n",
        "\n",
        "import math\n",
        "\n",
        "def circle_area(r):\n",
        "  return(round((math.pi)* (r**2), 2))\n",
        "\n",
        "r = int(input('Enter the radius of the circle - '))\n",
        "\n",
        "circle_area(r)"
      ],
      "metadata": {
        "colab": {
          "base_uri": "https://localhost:8080/"
        },
        "id": "Jd6TT0WLaqk6",
        "outputId": "45b0e743-f8ba-4174-950b-915dbf43a039"
      },
      "execution_count": null,
      "outputs": [
        {
          "name": "stdout",
          "output_type": "stream",
          "text": [
            "Enter the radius of the circle - 4\n"
          ]
        },
        {
          "output_type": "execute_result",
          "data": {
            "text/plain": [
              "50.27"
            ]
          },
          "metadata": {},
          "execution_count": 48
        }
      ]
    },
    {
      "cell_type": "code",
      "source": [
        "# Q8 Python program to print all Prime numbers in an Interval\n",
        "\n",
        "def prime_range(x, y):\n",
        "  prime_list = []\n",
        "  for i in range(x, y):\n",
        "    if i == 0 or i == 1:\n",
        "      continue\n",
        "    else:\n",
        "      for j in range(2, int(i/2)+1):\n",
        "        if i % j == 0:\n",
        "          break\n",
        "      else:\n",
        "        prime_list.append(i)\n",
        "  return(print(prime_list))\n",
        "\n",
        "a = int(input('Enter the first value of the interval - '))\n",
        "b = int(input('Enter the last value of the interval - '))\n",
        "\n",
        "prime_range(a, b)"
      ],
      "metadata": {
        "id": "HsdeJHs-aqnG",
        "colab": {
          "base_uri": "https://localhost:8080/"
        },
        "outputId": "c23e9d2e-61d1-40ea-f7b8-65828dd04981"
      },
      "execution_count": 15,
      "outputs": [
        {
          "output_type": "stream",
          "name": "stdout",
          "text": [
            "Enter the first value of the interval - 2\n",
            "Enter the last value of the interval - 27\n",
            "[2, 3, 5, 7, 11, 13, 17, 19, 23]\n"
          ]
        }
      ]
    },
    {
      "cell_type": "code",
      "source": [
        "# Q9 Python program to check whether a number is Prime or not\n",
        "\n",
        "def prime_check(n):\n",
        "  if n>1:\n",
        "    for i in range(2, int(n/2)+1):\n",
        "      if n%i == 0:\n",
        "        print(f'{n} is not a prime number')\n",
        "        break\n",
        "    else:\n",
        "      print(f'{n} is a prime number')\n",
        "  else:\n",
        "    print(f'{n} is not a prime number')\n",
        "\n",
        "k = int(input('Enter a number - '))\n",
        "\n",
        "prime_check(k)"
      ],
      "metadata": {
        "id": "2ayERcxKaqpY",
        "colab": {
          "base_uri": "https://localhost:8080/"
        },
        "outputId": "e2b37bd1-5ac6-4251-f1b5-227d64a1b257"
      },
      "execution_count": 11,
      "outputs": [
        {
          "output_type": "stream",
          "name": "stdout",
          "text": [
            "Enter a number - 53\n",
            "53 is a prime number\n"
          ]
        }
      ]
    },
    {
      "cell_type": "code",
      "source": [
        "# Q10 Python Program for n-th Fibonacci number\n",
        "# 0 1 1 2 3 5 8 13 21 34 ...\n",
        "\n",
        "def fibo_num():\n",
        ""
      ],
      "metadata": {
        "id": "J03QNNOraqsJ"
      },
      "execution_count": null,
      "outputs": []
    },
    {
      "cell_type": "code",
      "source": [],
      "metadata": {
        "id": "uS2yGCE2aquc"
      },
      "execution_count": null,
      "outputs": []
    },
    {
      "cell_type": "code",
      "source": [],
      "metadata": {
        "id": "kzXmfb5Taqw4"
      },
      "execution_count": null,
      "outputs": []
    },
    {
      "cell_type": "code",
      "source": [],
      "metadata": {
        "id": "hJQUIleZaqy9"
      },
      "execution_count": null,
      "outputs": []
    }
  ]
}