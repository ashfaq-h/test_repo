{
  "nbformat": 4,
  "nbformat_minor": 0,
  "metadata": {
    "colab": {
      "provenance": [],
      "toc_visible": true,
      "include_colab_link": true
    },
    "kernelspec": {
      "name": "python3",
      "display_name": "Python 3"
    },
    "language_info": {
      "name": "python"
    }
  },
  "cells": [
    {
      "cell_type": "markdown",
      "metadata": {
        "id": "view-in-github",
        "colab_type": "text"
      },
      "source": [
        "<a href=\"https://colab.research.google.com/github/ashfaq-h/test_repo/blob/master/python_questions.ipynb\" target=\"_parent\"><img src=\"https://colab.research.google.com/assets/colab-badge.svg\" alt=\"Open In Colab\"/></a>"
      ]
    },
    {
      "cell_type": "markdown",
      "source": [
        "## Geeks for Geeks python questions\n",
        "https://www.geeksforgeeks.org/python-programming-examples/"
      ],
      "metadata": {
        "id": "dO_vBXh9ekbN"
      }
    },
    {
      "cell_type": "code",
      "source": [
        "# Q1 Python program to add two numbers\n",
        "\n",
        "def add_num(a,b):\n",
        "  return(int(a)+ int(b))\n",
        "\n",
        "a= input()\n",
        "b= input()\n",
        "print(add_num(a,b))\n"
      ],
      "metadata": {
        "id": "cd5QSFuULlS7",
        "colab": {
          "base_uri": "https://localhost:8080/"
        },
        "outputId": "2aadc7c0-8f05-4d31-d01a-6218ebe0d535"
      },
      "execution_count": 4,
      "outputs": [
        {
          "output_type": "stream",
          "name": "stdout",
          "text": [
            "4\n",
            "7\n",
            "11\n"
          ]
        }
      ]
    },
    {
      "cell_type": "code",
      "source": [
        "# Q2 Maximum of two numbers in Python\n",
        "def max_num(a,b):\n",
        "  if a > b:\n",
        "    return a\n",
        "  elif b > a:\n",
        "    return b\n",
        "  else:\n",
        "    print(\"both are equal\")\n",
        "a = int(input())\n",
        "b = int(input())\n",
        "print(max_num(a,b))"
      ],
      "metadata": {
        "colab": {
          "base_uri": "https://localhost:8080/"
        },
        "id": "J9JDpIgNPrDJ",
        "outputId": "65640acd-79f2-4f16-e87b-17ed8619565d"
      },
      "execution_count": 5,
      "outputs": [
        {
          "output_type": "stream",
          "name": "stdout",
          "text": [
            "3\n",
            "12\n",
            "12\n"
          ]
        }
      ]
    },
    {
      "cell_type": "code",
      "source": [
        "\n",
        "# Q3 Python Program for factorial of a number\n",
        "# recursive function\n",
        "\n",
        "def fact_num(n):\n",
        "  if n == 0 or n == 1:\n",
        "    return 1\n",
        "  else:\n",
        "    return(n * fact_num(n-1))\n",
        "\n",
        "n = int(input())\n",
        "fact_num(n)\n"
      ],
      "metadata": {
        "id": "7WP4_0SVLlHw",
        "colab": {
          "base_uri": "https://localhost:8080/"
        },
        "outputId": "2f83996a-a45f-472b-cd29-67356cc65826"
      },
      "execution_count": 23,
      "outputs": [
        {
          "name": "stdout",
          "output_type": "stream",
          "text": [
            "8\n"
          ]
        },
        {
          "output_type": "execute_result",
          "data": {
            "text/plain": [
              "40320"
            ]
          },
          "metadata": {},
          "execution_count": 23
        }
      ]
    },
    {
      "cell_type": "code",
      "source": [
        "# Q4 Python Program for simple interest\n",
        "# SI = (principal * interest * time(years))/100\n",
        "\n",
        "def simp_int(p, r, t):\n",
        "  return((p*r*t)/100)\n",
        "\n",
        "p = float(input())\n",
        "r = float(input())\n",
        "t = float(input())\n",
        "\n",
        "simp_int(p, r, t)"
      ],
      "metadata": {
        "colab": {
          "base_uri": "https://localhost:8080/"
        },
        "id": "DKldnRkHZEK1",
        "outputId": "e74cd061-ae01-48b5-e474-091b0ceb5bfa"
      },
      "execution_count": 25,
      "outputs": [
        {
          "name": "stdout",
          "output_type": "stream",
          "text": [
            "2000\n",
            "2\n",
            "3\n"
          ]
        },
        {
          "output_type": "execute_result",
          "data": {
            "text/plain": [
              "120.0"
            ]
          },
          "metadata": {},
          "execution_count": 25
        }
      ]
    },
    {
      "cell_type": "code",
      "source": [
        "# Q5 Python Program for compound interest\n",
        "# amount = p*(1 + r/100)**t\n",
        "# CI = amount - p\n",
        "\n",
        "def comp_int(p, r, t):\n",
        "  amount =  p*(1 + r/100)**t\n",
        "  return(round((amount-p),3))\n",
        "\n",
        "p = float(input())\n",
        "r = float(input())\n",
        "t = float(input())\n",
        "3\n",
        "\n",
        "comp_int(p, r, t)"
      ],
      "metadata": {
        "colab": {
          "base_uri": "https://localhost:8080/"
        },
        "id": "K30KevKRaqfr",
        "outputId": "12a621cd-0a98-4f1b-b673-20931fc0b4db"
      },
      "execution_count": 44,
      "outputs": [
        {
          "name": "stdout",
          "output_type": "stream",
          "text": [
            "2000\n",
            "2\n",
            "3\n"
          ]
        },
        {
          "output_type": "execute_result",
          "data": {
            "text/plain": [
              "122.416"
            ]
          },
          "metadata": {},
          "execution_count": 44
        }
      ]
    },
    {
      "cell_type": "code",
      "source": [
        "# Q6 Python Program to check Armstrong Number\n",
        "# A number that equals the sum of its digits, each raised to a power. For ex., a number like 153 is an Armstrong no because 1^3 + 5^3 + 3^3 = 153\n",
        "\n",
        "def arms_num(n):\n",
        "  sum = 0\n",
        "  for i in str(n):\n",
        "    k = int(i)**len(str(n))\n",
        "    sum += k\n",
        "  if sum == n:\n",
        "    print(f'{n} is an Armstrong number.')\n",
        "  else:\n",
        "    print(f'{n} is not an Armstrong number.')\n",
        "\n",
        "arms_num(int(input()))"
      ],
      "metadata": {
        "colab": {
          "base_uri": "https://localhost:8080/"
        },
        "id": "KE0ZAg9laqiC",
        "outputId": "8ee58901-e4e9-4fe8-81e5-b5adce77c72e"
      },
      "execution_count": 45,
      "outputs": [
        {
          "output_type": "stream",
          "name": "stdout",
          "text": [
            "153\n",
            "153 is an Armstrong number.\n"
          ]
        }
      ]
    },
    {
      "cell_type": "code",
      "source": [
        "# Q7 Python Program for Program to find area of a circle\n",
        "\n",
        "def\n",
        "\n",
        "\n"
      ],
      "metadata": {
        "colab": {
          "base_uri": "https://localhost:8080/"
        },
        "id": "Jd6TT0WLaqk6",
        "outputId": "740dd866-f3a6-480c-c918-b48e867d52de"
      },
      "execution_count": 34,
      "outputs": [
        {
          "output_type": "stream",
          "name": "stdout",
          "text": [
            "370\n"
          ]
        }
      ]
    },
    {
      "cell_type": "code",
      "source": [
        "# Q8 Python program to print all Prime numbers in an Interval\n"
      ],
      "metadata": {
        "id": "HsdeJHs-aqnG"
      },
      "execution_count": null,
      "outputs": []
    },
    {
      "cell_type": "code",
      "source": [],
      "metadata": {
        "id": "2ayERcxKaqpY"
      },
      "execution_count": null,
      "outputs": []
    },
    {
      "cell_type": "code",
      "source": [],
      "metadata": {
        "id": "J03QNNOraqsJ"
      },
      "execution_count": null,
      "outputs": []
    },
    {
      "cell_type": "code",
      "source": [],
      "metadata": {
        "id": "uS2yGCE2aquc"
      },
      "execution_count": null,
      "outputs": []
    },
    {
      "cell_type": "code",
      "source": [],
      "metadata": {
        "id": "kzXmfb5Taqw4"
      },
      "execution_count": null,
      "outputs": []
    },
    {
      "cell_type": "code",
      "source": [],
      "metadata": {
        "id": "hJQUIleZaqy9"
      },
      "execution_count": null,
      "outputs": []
    }
  ]
}