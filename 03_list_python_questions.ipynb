{
  "nbformat": 4,
  "nbformat_minor": 0,
  "metadata": {
    "colab": {
      "provenance": []
    },
    "kernelspec": {
      "name": "python3",
      "display_name": "Python 3"
    },
    "language_info": {
      "name": "python"
    }
  },
  "cells": [
    {
      "cell_type": "markdown",
      "source": [
        "## Geeks-for-Geeks List program python questions\n",
        "https://www.geeksforgeeks.org/python-programming-examples/"
      ],
      "metadata": {
        "id": "ff9iFra_i_a9"
      }
    },
    {
      "cell_type": "code",
      "source": [
        "# Q1 Python program to interchange first and last elements in a list\n",
        "\n",
        "def interchange_ele(l):\n",
        "  l[0], l[-1] = l[-1], l[0]\n",
        "  return(print(f'The final list is: {l}'))\n",
        "\n",
        "# Taking the list as user input\n",
        "n = int(input('Enter the number of elemets of the list: '))\n",
        "l1 = []\n",
        "for i in range(0, n):\n",
        "  e = int(input())\n",
        "  l1.append(e)\n",
        "print(f'The given list is: {l1}')\n",
        "\n",
        "interchange_ele(l1)"
      ],
      "metadata": {
        "id": "xHR8DTmZNZ30",
        "colab": {
          "base_uri": "https://localhost:8080/"
        },
        "outputId": "8fe1d6a3-0336-45c6-8abe-c9e6b841ed18"
      },
      "execution_count": 4,
      "outputs": [
        {
          "output_type": "stream",
          "name": "stdout",
          "text": [
            "Enter the number of elemets of the list: 5\n",
            "1\n",
            "3\n",
            "5\n",
            "7\n",
            "9\n",
            "The given list is: [1, 3, 5, 7, 9]\n",
            "The final list is: [9, 3, 5, 7, 1]\n"
          ]
        }
      ]
    },
    {
      "cell_type": "code",
      "source": [
        "# Q2 Python program to swap two elements in a list\n",
        "\n",
        "def swap_ele(l, pos1, pos2):\n",
        "  l[pos1], l[pos2] = l[pos2], l[pos1]\n",
        "  return(print(f'The final list after swapping is: {l}'))\n",
        "\n",
        "# Taking the list as user input\n",
        "n = int(input('Enter the number of elemets of the list: '))\n",
        "l1 = []\n",
        "for i in range(0, n):\n",
        "  e = int(input())\n",
        "  l1.append(e)\n",
        "print(f'The given list is: {l1}')\n",
        "\n",
        "position1 = int(input('Enter the first position of the list to be swapped: '))\n",
        "position2 = int(input('Enter the second position of the list to be swapped: '))\n",
        "\n",
        "swap_ele(l1, position1, position2)"
      ],
      "metadata": {
        "colab": {
          "base_uri": "https://localhost:8080/"
        },
        "id": "vv9wBeWuI8VQ",
        "outputId": "6ece377f-6589-4b88-ee3c-7f05bd75504a"
      },
      "execution_count": 5,
      "outputs": [
        {
          "output_type": "stream",
          "name": "stdout",
          "text": [
            "Enter the number of elemets of the list: 5\n",
            "2\n",
            "4\n",
            "6\n",
            "8\n",
            "10\n",
            "The given list is: [2, 4, 6, 8, 10]\n",
            "Enter the first position of the list to be swapped: 2\n",
            "Enter the second position of the list to be swapped: 3\n",
            "The final list after swapping is: [2, 4, 8, 6, 10]\n"
          ]
        }
      ]
    },
    {
      "cell_type": "code",
      "source": [
        "# Q3 Python | Ways to find length of list\n",
        "\n",
        "def list_len(l1):\n",
        "  count = 0\n",
        "  for i in l1:\n",
        "    count += 1\n",
        "  return(print(f'The length of the list is: {count}'))\n",
        "\n",
        "l = [2, 3, 4, 5, 6]\n",
        "\n",
        "list_len(l)"
      ],
      "metadata": {
        "colab": {
          "base_uri": "https://localhost:8080/"
        },
        "id": "EvrogFDvI8ci",
        "outputId": "d35a6765-d5a6-4d5c-9976-68b33bcc2a68"
      },
      "execution_count": 6,
      "outputs": [
        {
          "output_type": "stream",
          "name": "stdout",
          "text": [
            "The length of the list is: 5\n"
          ]
        }
      ]
    },
    {
      "cell_type": "code",
      "source": [
        "# Q4 Python | Ways to check if element exists in list\n",
        "\n",
        "def ele_check(lst, e):\n",
        "  if e in lst:\n",
        "    (print(f'{e} is present in the list'))\n",
        "  else:\n",
        "    print((f'{e} is not present in the list'))\n",
        "\n",
        "# Taking the list as user input\n",
        "n = int(input('Enter the number of elemets of the list: '))\n",
        "l1 = []\n",
        "for i in range(0, n):\n",
        "  e = int(input())\n",
        "  l1.append(e)\n",
        "print(f'The given list is: {l1}')\n",
        "\n",
        "n = int(input('Enter the number to find in the list: '))\n",
        "\n",
        "ele_check(l1, n)"
      ],
      "metadata": {
        "colab": {
          "base_uri": "https://localhost:8080/"
        },
        "id": "hElxHeBDI8fZ",
        "outputId": "c17e3ad8-23b1-4bed-8033-8209a3d87720"
      },
      "execution_count": 25,
      "outputs": [
        {
          "output_type": "stream",
          "name": "stdout",
          "text": [
            "Enter the number of elemets of the list: 5\n",
            "2\n",
            "4\n",
            "6\n",
            "8\n",
            "10\n",
            "The given list is: [2, 4, 6, 8, 10]\n",
            "Enter the number to find in the list: 8\n",
            "8 is present in the list\n"
          ]
        }
      ]
    },
    {
      "cell_type": "code",
      "source": [
        "# Q5 Different ways to clear a list in Python\n",
        "\n",
        "def list_clear(lst):\n",
        "  lst.clear()\n",
        "  return(print(f'The final list is: {lst}'))\n",
        "\n",
        "l1 = [2, 3, 4, 5, 6]\n",
        "list_clear(l1)"
      ],
      "metadata": {
        "colab": {
          "base_uri": "https://localhost:8080/"
        },
        "id": "bouAVM_oI8iE",
        "outputId": "d8fe446a-69c4-484a-9954-8ea68cfbce4a"
      },
      "execution_count": 27,
      "outputs": [
        {
          "output_type": "stream",
          "name": "stdout",
          "text": [
            "The final list is: []\n"
          ]
        }
      ]
    },
    {
      "cell_type": "code",
      "source": [
        "# Q6 Python | Reversing a List\n",
        "\n",
        "def list_reverse(lst):\n",
        "  lst = lst[::-1]\n",
        "  print(f'The Reversed list is: {lst}')\n",
        "\n",
        "def list_reverse2(lst):\n",
        "  k = []\n",
        "  for i in range(1, len(lst)):\n",
        "    k.append(lst[-i])\n",
        "  k.append(lst[0])\n",
        "  print(k)\n",
        "\n",
        "\n",
        "l1 = [2, 3, 4, 5, 6]\n",
        "\n",
        "list_reverse2(l1)"
      ],
      "metadata": {
        "colab": {
          "base_uri": "https://localhost:8080/"
        },
        "id": "wdUD0DfSI8ko",
        "outputId": "e63cf1f9-f45c-441e-b6a0-d732a6011424"
      },
      "execution_count": 2,
      "outputs": [
        {
          "output_type": "stream",
          "name": "stdout",
          "text": [
            "[6, 5, 4, 3, 2]\n"
          ]
        }
      ]
    },
    {
      "cell_type": "code",
      "source": [],
      "metadata": {
        "id": "zVgY4eSHzT2Q"
      },
      "execution_count": null,
      "outputs": []
    },
    {
      "cell_type": "code",
      "source": [],
      "metadata": {
        "id": "HgICc9MVzT5G"
      },
      "execution_count": null,
      "outputs": []
    }
  ]
}