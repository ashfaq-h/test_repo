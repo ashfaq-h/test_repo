{
  "nbformat": 4,
  "nbformat_minor": 0,
  "metadata": {
    "colab": {
      "provenance": []
    },
    "kernelspec": {
      "name": "python3",
      "display_name": "Python 3"
    },
    "language_info": {
      "name": "python"
    }
  },
  "cells": [
    {
      "cell_type": "markdown",
      "source": [
        "## Geeks-for-Geeks List program python questions\n",
        "https://www.geeksforgeeks.org/python-programming-examples/"
      ],
      "metadata": {
        "id": "ff9iFra_i_a9"
      }
    },
    {
      "cell_type": "code",
      "source": [
        "# Q1 Python program to interchange first and last elements in a list\n",
        "\n",
        "def interchange_ele(l):\n",
        "  l[0], l[-1] = l[-1], l[0]\n",
        "  return(print(f'The final list is: {l}'))\n",
        "\n",
        "# Taking the list as user input\n",
        "n = int(input('Enter the number of elemets of the list: '))\n",
        "l1 = []\n",
        "for i in range(0, n):\n",
        "  e = int(input())\n",
        "  l1.append(e)\n",
        "print(f'The given list is: {l1}')\n",
        "\n",
        "interchange_ele(l1)"
      ],
      "metadata": {
        "id": "xHR8DTmZNZ30",
        "colab": {
          "base_uri": "https://localhost:8080/"
        },
        "outputId": "8fe1d6a3-0336-45c6-8abe-c9e6b841ed18"
      },
      "execution_count": null,
      "outputs": [
        {
          "output_type": "stream",
          "name": "stdout",
          "text": [
            "Enter the number of elemets of the list: 5\n",
            "1\n",
            "3\n",
            "5\n",
            "7\n",
            "9\n",
            "The given list is: [1, 3, 5, 7, 9]\n",
            "The final list is: [9, 3, 5, 7, 1]\n"
          ]
        }
      ]
    },
    {
      "cell_type": "code",
      "source": [
        "# Q2 Python program to swap two elements in a list\n",
        "\n",
        "def swap_ele(l, pos1, pos2):\n",
        "  l[pos1], l[pos2] = l[pos2], l[pos1]\n",
        "  return(print(f'The final list after swapping is: {l}'))\n",
        "\n",
        "# Taking the list as user input\n",
        "n = int(input('Enter the number of elemets of the list: '))\n",
        "l1 = []\n",
        "for i in range(0, n):\n",
        "  e = int(input())\n",
        "  l1.append(e)\n",
        "print(f'The given list is: {l1}')\n",
        "\n",
        "position1 = int(input('Enter the first position of the list to be swapped: '))\n",
        "position2 = int(input('Enter the second position of the list to be swapped: '))\n",
        "\n",
        "swap_ele(l1, position1, position2)"
      ],
      "metadata": {
        "colab": {
          "base_uri": "https://localhost:8080/"
        },
        "id": "vv9wBeWuI8VQ",
        "outputId": "6ece377f-6589-4b88-ee3c-7f05bd75504a"
      },
      "execution_count": null,
      "outputs": [
        {
          "output_type": "stream",
          "name": "stdout",
          "text": [
            "Enter the number of elemets of the list: 5\n",
            "2\n",
            "4\n",
            "6\n",
            "8\n",
            "10\n",
            "The given list is: [2, 4, 6, 8, 10]\n",
            "Enter the first position of the list to be swapped: 2\n",
            "Enter the second position of the list to be swapped: 3\n",
            "The final list after swapping is: [2, 4, 8, 6, 10]\n"
          ]
        }
      ]
    },
    {
      "cell_type": "code",
      "source": [
        "# Q3 Python | Ways to find length of list\n",
        "\n",
        "def list_len(l1):\n",
        "  count = 0\n",
        "  for i in l1:\n",
        "    count += 1\n",
        "  return(print(f'The length of the list is: {count}'))\n",
        "\n",
        "l = [2, 3, 4, 5, 6]\n",
        "\n",
        "list_len(l)"
      ],
      "metadata": {
        "colab": {
          "base_uri": "https://localhost:8080/"
        },
        "id": "EvrogFDvI8ci",
        "outputId": "d35a6765-d5a6-4d5c-9976-68b33bcc2a68"
      },
      "execution_count": null,
      "outputs": [
        {
          "output_type": "stream",
          "name": "stdout",
          "text": [
            "The length of the list is: 5\n"
          ]
        }
      ]
    },
    {
      "cell_type": "code",
      "source": [
        "# Q4 Python | Ways to check if element exists in list\n",
        "\n",
        "def ele_check(lst, e):\n",
        "  if e in lst:\n",
        "    (print(f'{e} is present in the list'))\n",
        "  else:\n",
        "    print((f'{e} is not present in the list'))\n",
        "\n",
        "# Taking the list as user input\n",
        "n = int(input('Enter the number of elemets of the list: '))\n",
        "l1 = []\n",
        "for i in range(0, n):\n",
        "  e = int(input())\n",
        "  l1.append(e)\n",
        "print(f'The given list is: {l1}')\n",
        "\n",
        "n = int(input('Enter the number to find in the list: '))\n",
        "\n",
        "ele_check(l1, n)"
      ],
      "metadata": {
        "colab": {
          "base_uri": "https://localhost:8080/"
        },
        "id": "hElxHeBDI8fZ",
        "outputId": "c17e3ad8-23b1-4bed-8033-8209a3d87720"
      },
      "execution_count": null,
      "outputs": [
        {
          "output_type": "stream",
          "name": "stdout",
          "text": [
            "Enter the number of elemets of the list: 5\n",
            "2\n",
            "4\n",
            "6\n",
            "8\n",
            "10\n",
            "The given list is: [2, 4, 6, 8, 10]\n",
            "Enter the number to find in the list: 8\n",
            "8 is present in the list\n"
          ]
        }
      ]
    },
    {
      "cell_type": "code",
      "source": [
        "# Q5 Different ways to clear a list in Python\n",
        "\n",
        "def list_clear(lst):\n",
        "  lst.clear()\n",
        "  return(print(f'The final list is: {lst}'))\n",
        "\n",
        "l1 = [2, 3, 4, 5, 6]\n",
        "list_clear(l1)"
      ],
      "metadata": {
        "colab": {
          "base_uri": "https://localhost:8080/"
        },
        "id": "bouAVM_oI8iE",
        "outputId": "d8fe446a-69c4-484a-9954-8ea68cfbce4a"
      },
      "execution_count": null,
      "outputs": [
        {
          "output_type": "stream",
          "name": "stdout",
          "text": [
            "The final list is: []\n"
          ]
        }
      ]
    },
    {
      "cell_type": "code",
      "source": [
        "# Q6 Python | Reversing a List\n",
        "\n",
        "def list_reverse(lst):\n",
        "  lst = lst[::-1]\n",
        "  print(f'The Reversed list is: {lst}')\n",
        "\n",
        "def list_reverse2(lst):\n",
        "  k = []\n",
        "  for i in range(1, len(lst)):\n",
        "    k.append(lst[-i])\n",
        "  k.append(lst[0])\n",
        "  print(f'The reversed list is: {k}')\n",
        "\n",
        "\n",
        "l1 = [2, 3, 4, 5, 6]\n",
        "\n",
        "list_reverse2(l1)"
      ],
      "metadata": {
        "colab": {
          "base_uri": "https://localhost:8080/"
        },
        "id": "wdUD0DfSI8ko",
        "outputId": "d60249d4-55be-4689-9f9d-0205b2c504b3"
      },
      "execution_count": null,
      "outputs": [
        {
          "output_type": "stream",
          "name": "stdout",
          "text": [
            "The reversed list is: [6, 5, 4, 3, 2]\n"
          ]
        }
      ]
    },
    {
      "cell_type": "code",
      "source": [
        "# Q7 Python program to find sum of elements in list\n",
        "\n",
        "def list_sum(lst):\n",
        "  sum = 0\n",
        "  for i in lst:\n",
        "    sum += i\n",
        "  print(f'The sum of the elements of the list is: {sum}')\n",
        "\n",
        "l1 = [2, 3, 4, 5, 6]\n",
        "list_sum(l1)"
      ],
      "metadata": {
        "colab": {
          "base_uri": "https://localhost:8080/"
        },
        "id": "zVgY4eSHzT2Q",
        "outputId": "505f3d23-9547-4278-e94b-498815156947"
      },
      "execution_count": null,
      "outputs": [
        {
          "output_type": "stream",
          "name": "stdout",
          "text": [
            "The sum of the elements of the list is: 20\n"
          ]
        }
      ]
    },
    {
      "cell_type": "code",
      "source": [
        "# Q8 Python | Multiply all numbers in the list\n",
        "\n",
        "def list_prod(lst):\n",
        "  prod = 1\n",
        "  for i in lst:\n",
        "    prod *= i\n",
        "  print(f'The product of all the elements of the lit is: {prod}')\n",
        "\n",
        "l1 = [2, 3, 4, 5, 6]\n",
        "list_prod(l1)"
      ],
      "metadata": {
        "colab": {
          "base_uri": "https://localhost:8080/"
        },
        "id": "HgICc9MVzT5G",
        "outputId": "12318482-5076-45bf-ba05-fb8baedc1a66"
      },
      "execution_count": null,
      "outputs": [
        {
          "output_type": "stream",
          "name": "stdout",
          "text": [
            "The product of all the elements of the lit is: 720\n"
          ]
        }
      ]
    },
    {
      "cell_type": "code",
      "source": [
        "# Q9 Python program to find smallest number in a list\n",
        "\n",
        "def list_small(lst):\n",
        "  ele = lst[0]\n",
        "  for i in lst:\n",
        "    if i < ele:\n",
        "      ele = i\n",
        "  print(f'The smallest number in the given list is: {ele}')\n",
        "\n",
        "l1 = [3, 4, 5, 6, -7, -10, 2, 0]\n",
        "list_small(l1)"
      ],
      "metadata": {
        "colab": {
          "base_uri": "https://localhost:8080/"
        },
        "id": "6yvEJjWd1HsA",
        "outputId": "2c2bc916-b0e8-49be-9a91-e55c7c9eade1"
      },
      "execution_count": null,
      "outputs": [
        {
          "output_type": "stream",
          "name": "stdout",
          "text": [
            "The smallest number in the given list is: -10\n"
          ]
        }
      ]
    },
    {
      "cell_type": "code",
      "source": [
        "# Q10 Python program to find largest number in a list\n",
        "\n",
        "def list_large(lst):\n",
        "  ele = lst[0]\n",
        "  for i in lst:\n",
        "    if i > ele:\n",
        "      ele = i\n",
        "  print(f'The largest number of the given list is: {ele}')\n",
        "\n",
        "l1 = [3, 4, 5, 6, -7, -10, 2, 0]\n",
        "list_large(l1)"
      ],
      "metadata": {
        "colab": {
          "base_uri": "https://localhost:8080/"
        },
        "id": "gxDaKam1nyVo",
        "outputId": "452829ef-e80e-496a-ff38-bf96ec1f3443"
      },
      "execution_count": null,
      "outputs": [
        {
          "output_type": "stream",
          "name": "stdout",
          "text": [
            "The largest number of the given list is: 6\n"
          ]
        }
      ]
    },
    {
      "cell_type": "code",
      "source": [
        "# Q11 Python program to find second largest number in a list\n",
        "\n",
        "def list_sec_large(lst):\n",
        "  print(f'The Second largest number in the list is: {sorted(lst)[-2]}')\n",
        "\n",
        "l1 = [3, 4, 5, 6, -7, -10, 2, 0]\n",
        "list_sec_large(l1)"
      ],
      "metadata": {
        "colab": {
          "base_uri": "https://localhost:8080/"
        },
        "id": "wzbhfI20o1U8",
        "outputId": "454590be-21c5-4747-d3fd-ba3230b0e771"
      },
      "execution_count": null,
      "outputs": [
        {
          "output_type": "stream",
          "name": "stdout",
          "text": [
            "The Second largest number in the list is: 5\n"
          ]
        }
      ]
    },
    {
      "cell_type": "code",
      "source": [
        "# Q12 Python program to find N largest elements from a list\n",
        "\n",
        "def list_n_large(lst, n):\n",
        "  print(f'The nth largest number in the list is: {sorted(lst)[-n]}')\n",
        "\n",
        "l1 = [3, 4, 5, 6, -7, -10, 2, 0]\n",
        "n = int(input('Enter the value of n: '))\n",
        "list_n_large(l1, n)"
      ],
      "metadata": {
        "colab": {
          "base_uri": "https://localhost:8080/"
        },
        "id": "dxPwyAZ2o1Xh",
        "outputId": "3e12aa3b-a29e-4471-b1b5-637a0554857f"
      },
      "execution_count": null,
      "outputs": [
        {
          "output_type": "stream",
          "name": "stdout",
          "text": [
            "Enter the value of n: 3\n",
            "The nth largest number in the list is: 4\n"
          ]
        }
      ]
    },
    {
      "cell_type": "code",
      "source": [
        "# Q13 Python program to print even numbers in a list\n",
        "\n",
        "def list_even(lst):\n",
        "  new_lst =[]\n",
        "  for i in lst:\n",
        "    if i%2 == 0:\n",
        "      new_lst.append(i)\n",
        "  print(f'Even numbers in the list are: {new_lst}')\n",
        "\n",
        "l1 = [3, 4, 5, 6, -7, -10, 2, 0]\n",
        "list_even(l1)"
      ],
      "metadata": {
        "colab": {
          "base_uri": "https://localhost:8080/"
        },
        "id": "9ldWuOv3Rixy",
        "outputId": "86e97e83-fab8-44b7-9fdd-0b09816d1509"
      },
      "execution_count": null,
      "outputs": [
        {
          "output_type": "stream",
          "name": "stdout",
          "text": [
            "Even numbers in the list are: [4, 6, -10, 2, 0]\n"
          ]
        }
      ]
    },
    {
      "cell_type": "code",
      "source": [
        "# Q14 Python program to print odd numbers in a List\n",
        "\n",
        "def list_odd(lst):\n",
        "  new_lst = []\n",
        "  for i in lst:\n",
        "    if i%2 != 0:\n",
        "      new_lst.append(i)\n",
        "  print(f'Odd numbers in the list areL {new_lst}')\n",
        "\n",
        "l1 = [3, 4, 5, 6, -7, -10, 2, 0]\n",
        "list_odd(l1)"
      ],
      "metadata": {
        "colab": {
          "base_uri": "https://localhost:8080/"
        },
        "id": "UcFpcgvwRi0n",
        "outputId": "6a3e75dc-26f4-4c29-a166-63602e76679e"
      },
      "execution_count": null,
      "outputs": [
        {
          "output_type": "stream",
          "name": "stdout",
          "text": [
            "Odd numbers in the list areL [3, 5, -7]\n"
          ]
        }
      ]
    },
    {
      "cell_type": "code",
      "source": [
        "# Q15 Python program to print all even numbers in a range\n",
        "\n",
        "def even_range(r1, r2):\n",
        "  new_lst = []\n",
        "  for i in range(r1, r2+1):\n",
        "    if i%2 == 0:\n",
        "      new_lst.append(i)\n",
        "  print(f'Even numbers in the range of {r1} & {r2} are: {new_lst}')\n",
        "\n",
        "r1 = int(input(f'Enter the starting value of the range: '))\n",
        "r2 = int(input(f'Enter the ending value of the range: '))\n",
        "even_range(r1, r2)"
      ],
      "metadata": {
        "colab": {
          "base_uri": "https://localhost:8080/"
        },
        "id": "ZEvpoCU3Ri3Z",
        "outputId": "18b40df4-ce47-46d0-830f-d0095a38ad5e"
      },
      "execution_count": null,
      "outputs": [
        {
          "output_type": "stream",
          "name": "stdout",
          "text": [
            "Enter the starting value of the range: 3\n",
            "Enter the ending value of the range: 14\n",
            "Even numbers in the range of 3 & 14 are: [4, 6, 8, 10, 12, 14]\n"
          ]
        }
      ]
    },
    {
      "cell_type": "code",
      "source": [
        "# Q16 Python program to print all odd numbers in a range\n",
        "\n",
        "def odd_range(r1, r2):\n",
        "  new_lst = []\n",
        "  for i in range(r1, r2+1):\n",
        "    if i%2 != 0:\n",
        "      new_lst.append(i)\n",
        "  print(f'Odd numbers in the range of {r1} & {r2} are: {new_lst}')\n",
        "\n",
        "r1 = int(input(f'Enter the starting value of the range: '))\n",
        "r2 = int(input(f'Enter the ending value of the range: '))\n",
        "odd_range(r1, r2)"
      ],
      "metadata": {
        "colab": {
          "base_uri": "https://localhost:8080/"
        },
        "id": "wMIKLoTfRi55",
        "outputId": "95f1a59b-5063-420f-c3f2-bd59d58fc88a"
      },
      "execution_count": null,
      "outputs": [
        {
          "output_type": "stream",
          "name": "stdout",
          "text": [
            "Enter the starting value of the range: 2\n",
            "Enter the ending value of the range: 15\n",
            "Odd numbers in the range of 2 & 15 are: [3, 5, 7, 9, 11, 13, 15]\n"
          ]
        }
      ]
    },
    {
      "cell_type": "code",
      "source": [
        "# Q17 Python program to print positive numbers in a list\n",
        "\n",
        "def list_pos(lst):\n",
        "  new_lst = []\n",
        "  for i in lst:\n",
        "    if i>0:\n",
        "      new_lst.append(i)\n",
        "  print(f'Positive numbers in the list are: {new_lst}')\n",
        "\n",
        "l1 = [3, 4, 5, 6, -7, -10, 2, 0]\n",
        "list_pos(l1)"
      ],
      "metadata": {
        "colab": {
          "base_uri": "https://localhost:8080/"
        },
        "id": "e7DVeE8bZTNA",
        "outputId": "412650a9-5585-4f7e-8add-7a4d88ed2ef1"
      },
      "execution_count": null,
      "outputs": [
        {
          "output_type": "stream",
          "name": "stdout",
          "text": [
            "Positive numbers in the list are: [3, 4, 5, 6, 2]\n"
          ]
        }
      ]
    },
    {
      "cell_type": "code",
      "source": [
        "# Q18 Python program to print negative numbers in a list\n",
        "\n",
        "def list_neg(lst):\n",
        "  new_lst = []\n",
        "  for i in lst:\n",
        "    if i<0:\n",
        "      new_lst.append(i)\n",
        "  print(f'Negative numbers in the list are: {new_lst}')\n",
        "\n",
        "l1 = [3, 4, 5, 6, -7, -10, 2, 0]\n",
        "list_neg(l1)"
      ],
      "metadata": {
        "colab": {
          "base_uri": "https://localhost:8080/"
        },
        "id": "6C4-l8SoZTkJ",
        "outputId": "2348218f-73b1-4980-da7b-d78ae320b933"
      },
      "execution_count": null,
      "outputs": [
        {
          "output_type": "stream",
          "name": "stdout",
          "text": [
            "Negative numbers in the list are: [-7, -10]\n"
          ]
        }
      ]
    },
    {
      "cell_type": "code",
      "source": [
        "# Q19 Python program to print all positive numbers in a range\n",
        "\n",
        "def positive_range(r1, r2):\n",
        "  new_lst = []\n",
        "  for i in range(r1, r2+1):\n",
        "    if i >= 0:\n",
        "      new_lst.append(i)\n",
        "  print(f'Postive numbers in the range of {r1} & {r2} are: {new_lst}')\n",
        "\n",
        "r1 = int(input(f'Enter the starting value of the range: '))\n",
        "r2 = int(input(f'Enter the ending value of the range: '))\n",
        "\n",
        "positive_range(r1, r2)"
      ],
      "metadata": {
        "colab": {
          "base_uri": "https://localhost:8080/"
        },
        "id": "1Hs8zTxOZTne",
        "outputId": "ed09c5c1-bda9-4ba7-a77b-1da46dacd60d"
      },
      "execution_count": null,
      "outputs": [
        {
          "output_type": "stream",
          "name": "stdout",
          "text": [
            "Enter the starting value of the range: -7\n",
            "Enter the ending value of the range: 6\n",
            "Postive numbers in the range of -7 & 6 are: [0, 1, 2, 3, 4, 5, 6]\n"
          ]
        }
      ]
    },
    {
      "cell_type": "code",
      "source": [
        "# Q20 Python program to print all negative numbers in a range\n",
        "\n",
        "def negative_range(r1, r2):\n",
        "  new_lst = []\n",
        "  for i in range(r1, r2+1):\n",
        "    if i < 0:\n",
        "      new_lst.append(i)\n",
        "  print(f'Negative numbers in the range of {r1} & {r2} are: {new_lst}')\n",
        "\n",
        "r1 = int(input(f'Enter the starting value of the range: '))\n",
        "r2 = int(input(f'Enter the ending value of the range: '))\n",
        "\n",
        "negative_range(r1, r2)"
      ],
      "metadata": {
        "colab": {
          "base_uri": "https://localhost:8080/"
        },
        "id": "jVJQtPoVblbL",
        "outputId": "bb670378-aebc-4cbc-c072-5b91edf4becb"
      },
      "execution_count": null,
      "outputs": [
        {
          "output_type": "stream",
          "name": "stdout",
          "text": [
            "Enter the starting value of the range: -7\n",
            "Enter the ending value of the range: 6\n",
            "Negative numbers in the range of -7 & 6 are: [-7, -6, -5, -4, -3, -2, -1]\n"
          ]
        }
      ]
    },
    {
      "cell_type": "code",
      "source": [
        "# Q21 Remove multiple elements from a list in Python\n",
        "\n",
        "def remove_ele(lst, rm_lst):\n",
        "  new_lst = lst.copy()\n",
        "  for i in lst:\n",
        "    if i in rm_lst:\n",
        "      new_lst.remove(i)\n",
        "  print(new_lst)\n",
        "\n",
        "l1 = [3, 4, 5, 6, -7, -10, 2, 3, 0]\n",
        "l2 = [3, 4]\n",
        "remove_ele(l1, l2)"
      ],
      "metadata": {
        "id": "BBkIqtxObleu",
        "colab": {
          "base_uri": "https://localhost:8080/"
        },
        "outputId": "2caf7047-f81b-4d25-ae45-2312c8ad30e5"
      },
      "execution_count": 21,
      "outputs": [
        {
          "output_type": "stream",
          "name": "stdout",
          "text": [
            "[5, 6, -7, -10, 2, 0]\n"
          ]
        }
      ]
    },
    {
      "cell_type": "code",
      "source": [
        "# Q22 Python – Remove empty List from List\n",
        "\n",
        "def remove_empty_lst(lst):\n",
        "  new_lst = []\n",
        "  for i in lst:\n",
        "    if i != []:\n",
        "      new_lst.append(i)\n",
        "  print(f'The list without the empty list is: {new_lst}')\n",
        "\n",
        "l1 = [3, 4, 5, 6, -7, [], -10, 2, [], 3, 0]\n",
        "remove_empty_lst(l1)"
      ],
      "metadata": {
        "colab": {
          "base_uri": "https://localhost:8080/"
        },
        "id": "7VMdyn5qEYs7",
        "outputId": "eddbedca-0d7e-4161-fdff-8a6d1cb404c1"
      },
      "execution_count": 22,
      "outputs": [
        {
          "output_type": "stream",
          "name": "stdout",
          "text": [
            "The list without the empty list is: [3, 4, 5, 6, -7, -10, 2, 3, 0]\n"
          ]
        }
      ]
    },
    {
      "cell_type": "code",
      "source": [
        "# Q23 Python | Cloning or Copying a list\n",
        "\n",
        "def list_copy(lst):\n",
        "  new_lst = []\n",
        "  for i in lst:\n",
        "    new_lst.append(i)\n",
        "  print(f'The cloned list is: {new_lst}')\n",
        "\n",
        "l1 = [3, 4, 5, 6, -7, [], -10, 2, [3], 3, 0]\n",
        "list_copy(l1)"
      ],
      "metadata": {
        "colab": {
          "base_uri": "https://localhost:8080/"
        },
        "id": "5EF42_6pEYz6",
        "outputId": "23a2eb4e-0dd3-4392-9a51-366a1897d832"
      },
      "execution_count": 24,
      "outputs": [
        {
          "output_type": "stream",
          "name": "stdout",
          "text": [
            "The cloned list is: [3, 4, 5, 6, -7, [], -10, 2, [3], 3, 0]\n"
          ]
        }
      ]
    },
    {
      "cell_type": "code",
      "source": [
        "# Q24 Python | Count occurrences of an element in a list\n",
        "\n",
        "def list_count(lst, ele):\n",
        "  count = 0\n",
        "  for i in lst:\n",
        "    if i == ele:\n",
        "      count += 1\n",
        "  print(f'The number of times {ele} is repeated in list is: {count}')\n",
        "\n",
        "l1 = [3, 4, 5, 6, 3, -7, [], -10, 2, [3], 3, 0, 3]\n",
        "list_count(l1, 3)"
      ],
      "metadata": {
        "colab": {
          "base_uri": "https://localhost:8080/"
        },
        "id": "g7JdmuS8JM7H",
        "outputId": "798d73be-e520-4140-cb56-d01a66776df8"
      },
      "execution_count": 26,
      "outputs": [
        {
          "output_type": "stream",
          "name": "stdout",
          "text": [
            "The number of times 3 is repeated in list is: 4\n"
          ]
        }
      ]
    },
    {
      "cell_type": "code",
      "source": [
        "# Q25 Python | Remove empty tuples from a list\n",
        "\n",
        "def remove_empty_tuples(lst):\n",
        "  new_lst = []\n",
        "  for i in lst:\n",
        "    if i != ():\n",
        "      new_lst.append(i)\n",
        "  print(f'The list without the empty tuple is: {new_lst}')\n",
        "\n",
        "l1 = [3, 4, 5, 6, (), -7, [], -10, 2, [], (), 3, 0]\n",
        "remove_empty_tuples(l1)"
      ],
      "metadata": {
        "colab": {
          "base_uri": "https://localhost:8080/"
        },
        "id": "NsYWbnQLJNEA",
        "outputId": "726b9491-fdee-449a-e19f-a14d9ed6585f"
      },
      "execution_count": 27,
      "outputs": [
        {
          "output_type": "stream",
          "name": "stdout",
          "text": [
            "The list without the empty tuple is: [3, 4, 5, 6, -7, [], -10, 2, [], 3, 0]\n"
          ]
        }
      ]
    },
    {
      "cell_type": "code",
      "source": [
        "# Q26 Python | Program to print duplicates from a list of integers\n",
        "\n",
        "def list_dup(lst):\n",
        "  new_lst = []\n",
        "  copy_lst = lst.copy()\n",
        "  for i in lst:\n",
        "    copy_lst.remove(i)\n",
        "    if i in copy_lst:\n",
        "      new_lst.append(i)\n",
        "  print(f'The list containing the duplicate elements is: {list(set(new_lst))}')\n",
        "\n",
        "l1 = [3, 4, 5, 6, 0, (), 0, -7, -10, 2, (), 3, -7, 0]\n",
        "list_dup(l1)"
      ],
      "metadata": {
        "colab": {
          "base_uri": "https://localhost:8080/"
        },
        "id": "B7xP8Ro1MZRY",
        "outputId": "16d0002e-0ee0-4159-cffc-334e7acd3908"
      },
      "execution_count": 50,
      "outputs": [
        {
          "output_type": "stream",
          "name": "stdout",
          "text": [
            "The list containing the duplicate elements is: [0, -7, 3, ()]\n"
          ]
        }
      ]
    },
    {
      "cell_type": "code",
      "source": [
        "# Q27 Python program to find Cumulative sum of a list\n",
        "\n",
        "def list_cumulative(lst):\n",
        "  new_lst = []\n",
        "  count = 0\n",
        "  for i in lst:\n",
        "    count += i\n",
        "    new_lst.append(count)\n",
        "  print(f'The cumulative sum of list is: {new_lst}')\n",
        "\n",
        "l1 = [3, 4, 5, 6, 0, 0, -7, -10, 2, 3, -7, 0]\n",
        "list_cumulative(l1)"
      ],
      "metadata": {
        "colab": {
          "base_uri": "https://localhost:8080/"
        },
        "id": "jsRRX-jlTMGH",
        "outputId": "c016a9fa-ab66-47c4-8bce-2f9a00b44b6d"
      },
      "execution_count": 54,
      "outputs": [
        {
          "output_type": "stream",
          "name": "stdout",
          "text": [
            "The cumulative sum of list is: [3, 7, 12, 18, 18, 18, 11, 1, 3, 6, -1, -1]\n"
          ]
        }
      ]
    },
    {
      "cell_type": "code",
      "source": [
        "# Q28 Python | Sum of number digits in List\n",
        "\n",
        "def list_num_digit(lst):\n",
        "  new_lst = []\n",
        "  for i in lst:\n",
        "    count = 0\n",
        "    var = str(i)\n",
        "    for j in var:\n",
        "      count += int(j)\n",
        "    new_lst.append(count)\n",
        "  print(f'The list with sum of number digits is: {new_lst}')\n",
        "\n",
        "l1 = [23, 24, 56, 3, 222]\n",
        "list_num_digit(l1)"
      ],
      "metadata": {
        "colab": {
          "base_uri": "https://localhost:8080/"
        },
        "id": "bZCUQDw-TMNR",
        "outputId": "a33fb5ec-982f-4919-fce3-481c083ae83d"
      },
      "execution_count": 85,
      "outputs": [
        {
          "output_type": "stream",
          "name": "stdout",
          "text": [
            "The list with sum of number digits is: [5, 6, 11, 3, 6]\n"
          ]
        }
      ]
    },
    {
      "cell_type": "code",
      "source": [
        "# Q29 Break a list into chunks of size N in Python\n",
        "\n",
        "def list_chunk(lst, size):\n",
        "  new_lst = []\n",
        "  for i in range(0, len(lst), size):\n",
        "    new_lst.append(lst[i:i+size])\n",
        "  print(f'The list with chunks of list with size {size} is: {new_lst}')\n",
        "\n",
        "l1 = [3, 4, 5, 6, 0, (), 0, -7, -10, 2, (), 3, -7, 0]\n",
        "n = int(input('Enter the size if the chunks in the list: '))\n",
        "list_chunk(l1, n)"
      ],
      "metadata": {
        "colab": {
          "base_uri": "https://localhost:8080/"
        },
        "id": "qySQJmJHczt4",
        "outputId": "1f8b697f-75aa-4407-a4df-986313ae3c64"
      },
      "execution_count": 96,
      "outputs": [
        {
          "output_type": "stream",
          "name": "stdout",
          "text": [
            "Enter the size if the chunks in the list: 3\n",
            "The list with chunks of list with size 3 is: [[3, 4, 5], [6, 0, ()], [0, -7, -10], [2, (), 3], [-7, 0]]\n"
          ]
        }
      ]
    },
    {
      "cell_type": "code",
      "source": [
        "# Q30 Python | Sort the values of first list using second list\n",
        "\n",
        "def list_sort(lst1, lst2):\n",
        "  new_lst = list(set(lst2))\n",
        "  new_lst.sort()\n",
        "  new_lst2 = []\n",
        "  for i in new_lst:\n",
        "    for j in range(0, len(lst2)):\n",
        "      if (lst2[j] == i):\n",
        "        new_lst2.append(lst1[j])\n",
        "  print(new_lst2)\n",
        "\n",
        "list1 = [\"abc\", \"bc\", \"cde\", \"de\", \"ef\", \"fg\", \"gh\", \"hij\", \"ijk\"]\n",
        "list2 = [0, 1, 1, 0, 1, 2, 2, 0, 1]\n",
        "list_sort(list1, list2)"
      ],
      "metadata": {
        "colab": {
          "base_uri": "https://localhost:8080/"
        },
        "id": "ub2JvtYWtQIB",
        "outputId": "7435af8c-2c9a-4dec-feed-425b5c36dff0"
      },
      "execution_count": 100,
      "outputs": [
        {
          "output_type": "stream",
          "name": "stdout",
          "text": [
            "['abc', 'de', 'hij', 'bc', 'cde', 'ef', 'ijk', 'fg', 'gh']\n"
          ]
        }
      ]
    }
  ]
}