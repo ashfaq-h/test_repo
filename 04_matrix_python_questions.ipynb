{
  "nbformat": 4,
  "nbformat_minor": 0,
  "metadata": {
    "colab": {
      "provenance": []
    },
    "kernelspec": {
      "name": "python3",
      "display_name": "Python 3"
    },
    "language_info": {
      "name": "python"
    }
  },
  "cells": [
    {
      "cell_type": "markdown",
      "source": [
        "## Geeks-for-Geeks Matrix program python questions\n",
        "https://www.geeksforgeeks.org/python-programming-examples/"
      ],
      "metadata": {
        "id": "ff9iFra_i_a9"
      }
    },
    {
      "cell_type": "code",
      "source": [
        "# Q1 Python program to add two Matrices\n",
        "\n",
        "def matrix_addition(mat1, mat2):\n",
        "  res_mat = [[0, 0, 0], [0, 0, 0], [0, 0, 0]]\n",
        "  for i in range(len(mat1)):\n",
        "    for j in range(len(mat1[0])):\n",
        "      res_mat[i][j] = mat1[i][j] + mat2[i][j]\n",
        "  print(f'The sum of 2 matrices is: {res_mat}')\n",
        "\n",
        "X = [[1,2,3],\n",
        "    [4 ,5,6],\n",
        "    [7 ,8,9]]\n",
        "\n",
        "Y = [[9,8,7],\n",
        "    [6,5,4],\n",
        "    [3,2,1]]\n",
        "\n",
        "matrix_addition(X, Y)"
      ],
      "metadata": {
        "id": "X9ulAJpU-eh9",
        "colab": {
          "base_uri": "https://localhost:8080/"
        },
        "outputId": "8be6c5c8-3914-458e-c7fc-876b8de624e6"
      },
      "execution_count": null,
      "outputs": [
        {
          "output_type": "stream",
          "name": "stdout",
          "text": [
            "The sum of 2 matrices is: [[10, 10, 10], [10, 10, 10], [10, 10, 10]]\n"
          ]
        }
      ]
    },
    {
      "cell_type": "code",
      "source": [
        "# Q2 Python program to multiply two matrices\n",
        "\n",
        "def matrix_multiply(m1, m2):\n",
        "  rm = [[0, 0, 0], [0, 0, 0], [0, 0, 0]]\n",
        "  for i in range(len(m1)):\n",
        "    for j in range(len(m2[0])):\n",
        "      for k in range(len(m2)):\n",
        "        rm[i][j] += m1[i][k] * m2[k][j]\n",
        "  print(f'The resultant matrix after matrices are multiplied is: {rm}')\n",
        "\n",
        "x = [[1 ,2, 3],\n",
        "     [4 ,5, 6],\n",
        "     [7 ,8, 9]]\n",
        "\n",
        "y = [[9, 8, 7],\n",
        "     [6, 5, 4],\n",
        "     [3, 2, 1]]\n",
        "\n",
        "matrix_multiply(x, y)"
      ],
      "metadata": {
        "id": "mGGm2zv9TskX",
        "colab": {
          "base_uri": "https://localhost:8080/"
        },
        "outputId": "2abaf978-0369-4297-82ed-6ef54c947a6a"
      },
      "execution_count": null,
      "outputs": [
        {
          "output_type": "stream",
          "name": "stdout",
          "text": [
            "The resultant matrix after matrices are multiplied is: [[30, 24, 18], [84, 69, 54], [138, 114, 90]]\n"
          ]
        }
      ]
    },
    {
      "cell_type": "code",
      "source": [
        "# Q3 Python program for Matrix Product\n",
        "# Multiply all the values in all the lists of a matrix. [[1, 4, 5], [7, 3], [4]] --> 1680\n",
        "\n",
        "def matrix_prod(m):\n",
        "  prod = 1\n",
        "  for i in m:\n",
        "    for j in i:\n",
        "      prod *= j\n",
        "  print(prod)\n",
        "\n",
        "x = [[1, 4, 5],\n",
        "     [7, 3],\n",
        "     [4]]\n",
        "\n",
        "matrix_prod(x)"
      ],
      "metadata": {
        "id": "DSHraVRsVE7V",
        "colab": {
          "base_uri": "https://localhost:8080/"
        },
        "outputId": "3a4d0a7c-3dc8-481d-b3eb-e6728d055bc3"
      },
      "execution_count": null,
      "outputs": [
        {
          "output_type": "stream",
          "name": "stdout",
          "text": [
            "1680\n"
          ]
        }
      ]
    },
    {
      "cell_type": "code",
      "source": [
        "# Q4 Adding and Subtracting Matrices in Python\n",
        "\n",
        "def matrix_add_sub(m1, m2):\n",
        "  rm_add = [[0, 0, 0], [0, 0, 0], [0, 0, 0]]\n",
        "  rm_sub = [[0, 0, 0], [0, 0, 0], [0, 0, 0]]\n",
        "  for i in range(len(m1)):\n",
        "    for j in range(len(m1[0])):\n",
        "      rm_add[i][j] = m1[i][j] + m2[i][j]\n",
        "      rm_sub[i][j] = m1[i][j] - m2[i][j]\n",
        "  print(f'The resultant matrix after adding the given two matrices: {rm_add}')\n",
        "  print(f'The resultant matrix after subtrating the first matrix by second is: {rm_sub}')\n",
        "\n",
        "x = [[1 ,2, 3],\n",
        "     [4 ,5, 6],\n",
        "     [7 ,8, 9]]\n",
        "\n",
        "y = [[9, 8, 7],\n",
        "     [6, 5, 4],\n",
        "     [3, 2, 1]]\n",
        "\n",
        "matrix_add_sub(x, y)"
      ],
      "metadata": {
        "id": "G6D-FbJDTeWe",
        "colab": {
          "base_uri": "https://localhost:8080/"
        },
        "outputId": "decace74-0fd1-4dc3-d45a-cc366c1dd481"
      },
      "execution_count": 2,
      "outputs": [
        {
          "output_type": "stream",
          "name": "stdout",
          "text": [
            "The resultant matrix after adding the given two matrices: [[10, 10, 10], [10, 10, 10], [10, 10, 10]]\n",
            "The resultant matrix after subtrating the first matrix by second is: [[-8, -6, -4], [-2, 0, 2], [4, 6, 8]]\n"
          ]
        }
      ]
    },
    {
      "cell_type": "code",
      "source": [
        "# Q5 Transpose a matrix in Single line in Python\n",
        "\n",
        "def matrix_transpose(m):\n",
        "  # rm = [ [ 0 for i in range(len(m)) ] for j in range(len(m[0])) ]\n",
        "  # for i in range(m):\n",
        "  #   for j in range(len(m[0])):\n",
        "  #     rm[i][] = m[i][]\n",
        "  for i in range(N):\n",
        "    for j in range(N):\n",
        "      B[i][j] = A[j][i]"
      ],
      "metadata": {
        "id": "m6lJ6S3lYmRZ"
      },
      "execution_count": null,
      "outputs": []
    },
    {
      "cell_type": "code",
      "source": [
        "m = [[1 ,2, 3],\n",
        "     [4 ,5, 6]]\n"
      ],
      "metadata": {
        "id": "iUy_AntYhYw6"
      },
      "execution_count": 4,
      "outputs": []
    },
    {
      "cell_type": "code",
      "source": [
        "rm = [ [ 0 for i in range(len(m)) ] for j in range(len(m[0])) ]\n",
        "rm"
      ],
      "metadata": {
        "colab": {
          "base_uri": "https://localhost:8080/"
        },
        "id": "djNk9gOhhYz6",
        "outputId": "abb2ec9b-5adf-4504-b6ad-4fb16c649ff5"
      },
      "execution_count": 5,
      "outputs": [
        {
          "output_type": "execute_result",
          "data": {
            "text/plain": [
              "[[0, 0], [0, 0], [0, 0]]"
            ]
          },
          "metadata": {},
          "execution_count": 5
        }
      ]
    }
  ]
}