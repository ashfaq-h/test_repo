{
  "nbformat": 4,
  "nbformat_minor": 0,
  "metadata": {
    "colab": {
      "provenance": []
    },
    "kernelspec": {
      "name": "python3",
      "display_name": "Python 3"
    },
    "language_info": {
      "name": "python"
    }
  },
  "cells": [
    {
      "cell_type": "markdown",
      "source": [
        "## Geeks-for-Geeks Matrix program python questions\n",
        "https://www.geeksforgeeks.org/python-programming-examples/"
      ],
      "metadata": {
        "id": "ff9iFra_i_a9"
      }
    },
    {
      "cell_type": "code",
      "source": [
        "# Q1 Python program to add two Matrices\n",
        "\n",
        "def matrix_addition(mat1, mat2):\n",
        "  res_mat = [[0, 0, 0], [0, 0, 0], [0, 0, 0]]\n",
        "  for i in range(len(mat1)):\n",
        "    for j in range(len(mat1[0])):\n",
        "      res_mat[i][j] = mat1[i][j] + mat2[i][j]\n",
        "  print(f'The sum of 2 matrices is: {res_mat}')\n",
        "\n",
        "X = [[1,2,3],\n",
        "    [4 ,5,6],\n",
        "    [7 ,8,9]]\n",
        "\n",
        "Y = [[9,8,7],\n",
        "    [6,5,4],\n",
        "    [3,2,1]]\n",
        "\n",
        "matrix_addition(X, Y)"
      ],
      "metadata": {
        "id": "X9ulAJpU-eh9",
        "colab": {
          "base_uri": "https://localhost:8080/"
        },
        "outputId": "8be6c5c8-3914-458e-c7fc-876b8de624e6"
      },
      "execution_count": null,
      "outputs": [
        {
          "output_type": "stream",
          "name": "stdout",
          "text": [
            "The sum of 2 matrices is: [[10, 10, 10], [10, 10, 10], [10, 10, 10]]\n"
          ]
        }
      ]
    },
    {
      "cell_type": "code",
      "source": [
        "# Q2 Python program to multiply two matrices\n",
        "\n",
        "def matrix_multiply(m1, m2):\n",
        "  rm = [[0, 0, 0], [0, 0, 0], [0, 0, 0]]\n",
        "  for i in range(len(m1)):\n",
        "    for j in range(len(m2[0])):\n",
        "      for k in range(len(m2)):\n",
        "        rm[i][j] += m1[i][k] * m2[k][j]\n",
        "  print(f'The resultant matrix after matrices are multiplied is: {rm}')\n",
        "\n",
        "x = [[1 ,2, 3],\n",
        "     [4 ,5, 6],\n",
        "     [7 ,8, 9]]\n",
        "\n",
        "y = [[9, 8, 7],\n",
        "     [6, 5, 4],\n",
        "     [3, 2, 1]]\n",
        "\n",
        "matrix_multiply(x, y)"
      ],
      "metadata": {
        "id": "mGGm2zv9TskX",
        "colab": {
          "base_uri": "https://localhost:8080/"
        },
        "outputId": "2abaf978-0369-4297-82ed-6ef54c947a6a"
      },
      "execution_count": null,
      "outputs": [
        {
          "output_type": "stream",
          "name": "stdout",
          "text": [
            "The resultant matrix after matrices are multiplied is: [[30, 24, 18], [84, 69, 54], [138, 114, 90]]\n"
          ]
        }
      ]
    },
    {
      "cell_type": "code",
      "source": [
        "# Q3 Python program for Matrix Product\n",
        "# Multiply all the values in all the lists of a matrix. [[1, 4, 5], [7, 3], [4]] --> 1680\n",
        "\n",
        "def matrix_prod(m):\n",
        "  prod = 1\n",
        "  for i in m:\n",
        "    for j in i:\n",
        "      prod *= j\n",
        "  print(prod)\n",
        "\n",
        "x = [[1, 4, 5],\n",
        "     [7, 3],\n",
        "     [4]]\n",
        "\n",
        "matrix_prod(x)"
      ],
      "metadata": {
        "id": "DSHraVRsVE7V",
        "colab": {
          "base_uri": "https://localhost:8080/"
        },
        "outputId": "3a4d0a7c-3dc8-481d-b3eb-e6728d055bc3"
      },
      "execution_count": null,
      "outputs": [
        {
          "output_type": "stream",
          "name": "stdout",
          "text": [
            "1680\n"
          ]
        }
      ]
    },
    {
      "cell_type": "code",
      "source": [
        "# Q4 Adding and Subtracting Matrices in Python\n",
        "\n",
        "def matrix_add_sub(m1, m2):\n",
        "  rm_add = [[0, 0, 0], [0, 0, 0], [0, 0, 0]]\n",
        "  rm_sub = [[0, 0, 0], [0, 0, 0], [0, 0, 0]]\n",
        "  for i in range(len(m1)):\n",
        "    for j in range(len(m1[0])):\n",
        "      rm_add[i][j] = m1[i][j] + m2[i][j]\n",
        "      rm_sub[i][j] = m1[i][j] - m2[i][j]\n",
        "  print(f'The resultant matrix after adding the given two matrices: {rm_add}')\n",
        "  print(f'The resultant matrix after subtrating the first matrix by second is: {rm_sub}')\n",
        "\n",
        "x = [[1 ,2, 3],\n",
        "     [4 ,5, 6],\n",
        "     [7 ,8, 9]]\n",
        "\n",
        "y = [[9, 8, 7],\n",
        "     [6, 5, 4],\n",
        "     [3, 2, 1]]\n",
        "\n",
        "matrix_add_sub(x, y)"
      ],
      "metadata": {
        "id": "G6D-FbJDTeWe",
        "colab": {
          "base_uri": "https://localhost:8080/"
        },
        "outputId": "decace74-0fd1-4dc3-d45a-cc366c1dd481"
      },
      "execution_count": null,
      "outputs": [
        {
          "output_type": "stream",
          "name": "stdout",
          "text": [
            "The resultant matrix after adding the given two matrices: [[10, 10, 10], [10, 10, 10], [10, 10, 10]]\n",
            "The resultant matrix after subtrating the first matrix by second is: [[-8, -6, -4], [-2, 0, 2], [4, 6, 8]]\n"
          ]
        }
      ]
    },
    {
      "cell_type": "code",
      "source": [
        "# Q5 Transpose a matrix in Single line in Python\n",
        "\n",
        "def matrix_transpose(m):\n",
        "  rm = [ [ 0 for i in range(len(m)) ] for j in range(len(m[0])) ]\n",
        "  for i in range(len(m)):\n",
        "    for j in range(len(m[0])):\n",
        "      rm[j][i] = m[i][j]\n",
        "  print(f'The resultant transposed matrix of the given matrix is: {rm}')\n",
        "\n",
        "x = [[1 ,2, 3],\n",
        "     [4 ,5, 6],\n",
        "     [7 ,8, 9]]\n",
        "\n",
        "matrix_transpose(x)"
      ],
      "metadata": {
        "id": "m6lJ6S3lYmRZ",
        "colab": {
          "base_uri": "https://localhost:8080/"
        },
        "outputId": "2af21688-d41a-49ce-cc81-22fc13485264"
      },
      "execution_count": null,
      "outputs": [
        {
          "output_type": "stream",
          "name": "stdout",
          "text": [
            "The resultant transposed matrix of the given matrix is: [[1, 4, 7], [2, 5, 8], [3, 6, 9]]\n"
          ]
        }
      ]
    },
    {
      "cell_type": "code",
      "source": [
        "# Q6 Python | Matrix creation of n*n\n",
        "\n",
        "def matrix_create(n):\n",
        "  l1 = []\n",
        "  for i in range(1, n*n+1):\n",
        "    l1.append(i)\n",
        "  rm = []\n",
        "  i=0\n",
        "  while i<len(l1):\n",
        "    l2 = l1[i:i+n]\n",
        "    rm.append(l2)\n",
        "    i += n\n",
        "  print(f'The square matrix of size {n} is: {rm}')\n",
        "\n",
        "n = int(input('Enter the size of the matrix: '))\n",
        "matrix_create(n)"
      ],
      "metadata": {
        "id": "iUy_AntYhYw6",
        "colab": {
          "base_uri": "https://localhost:8080/"
        },
        "outputId": "670f6adf-2dca-4a2e-8a8e-87e258924650"
      },
      "execution_count": 12,
      "outputs": [
        {
          "output_type": "stream",
          "name": "stdout",
          "text": [
            "Enter the size of the matrix: 4\n",
            "The square matrix of size 4 is: [[1, 2, 3, 4], [5, 6, 7, 8], [9, 10, 11, 12], [13, 14, 15, 16]]\n"
          ]
        }
      ]
    },
    {
      "cell_type": "code",
      "source": [
        "# Q7 Python | Get Kth Column of Matrix\n",
        "\n",
        "def matrix_kcol(mat, k):\n",
        "  rm = []\n",
        "  for i in range(len(mat)):\n",
        "    rm.append(mat[i][k])\n",
        "  print(f'The kth column of the matrix is: {rm}')\n",
        "\n",
        "x = [[1 ,2, 3],\n",
        "     [4 ,5, 6],\n",
        "     [7 ,8, 9]]\n",
        "\n",
        "n = int(input('Enter the value of k for kth co9lumn of matrix: '))\n",
        "matrix_kcol(x, n)"
      ],
      "metadata": {
        "id": "2gg3XYT66U7r",
        "colab": {
          "base_uri": "https://localhost:8080/"
        },
        "outputId": "6e8328b7-e57c-4d87-ffc0-ebca8610716f"
      },
      "execution_count": 19,
      "outputs": [
        {
          "output_type": "stream",
          "name": "stdout",
          "text": [
            "Enter the value of k for kth co9lumn of matrix: 2\n",
            "The kth column of the matrix is: [3, 6, 9]\n"
          ]
        }
      ]
    },
    {
      "cell_type": "code",
      "source": [
        "# Q8 Python – Vertical Concatenation in Matrix\n",
        "# [[“ab”, “cd”], [“ef”, “gh”]]  ==> [\"abef\", \"cdgh\"]\n",
        "\n",
        "def matrix_vconcat(mat):\n",
        ""
      ],
      "metadata": {
        "id": "LneQ7ek1aIT7"
      },
      "execution_count": null,
      "outputs": []
    },
    {
      "cell_type": "code",
      "source": [],
      "metadata": {
        "id": "o_XutuUidibZ"
      },
      "execution_count": null,
      "outputs": []
    },
    {
      "cell_type": "code",
      "source": [],
      "metadata": {
        "id": "BVg20hvgdidu"
      },
      "execution_count": null,
      "outputs": []
    }
  ]
}