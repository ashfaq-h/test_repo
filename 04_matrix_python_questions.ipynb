{
  "nbformat": 4,
  "nbformat_minor": 0,
  "metadata": {
    "colab": {
      "provenance": []
    },
    "kernelspec": {
      "name": "python3",
      "display_name": "Python 3"
    },
    "language_info": {
      "name": "python"
    }
  },
  "cells": [
    {
      "cell_type": "markdown",
      "source": [
        "## Geeks-for-Geeks Matrix program python questions\n",
        "https://www.geeksforgeeks.org/python-programming-examples/"
      ],
      "metadata": {
        "id": "ff9iFra_i_a9"
      }
    },
    {
      "cell_type": "code",
      "source": [
        "# Q1 Python program to add two Matrices\n",
        "\n",
        "def matrix_addition(mat1, mat2):\n",
        "  res_mat = [[0, 0, 0], [0, 0, 0], [0, 0, 0]]\n",
        "  for i in range(len(mat1)):\n",
        "    for j in range(len(mat1[0])):\n",
        "      res_mat[i][j] = mat1[i][j] + mat2[i][j]\n",
        "  print(f'The sum of 2 matrices is: {res_mat}')\n",
        "\n",
        "X = [[1,2,3],\n",
        "    [4 ,5,6],\n",
        "    [7 ,8,9]]\n",
        "\n",
        "Y = [[9,8,7],\n",
        "    [6,5,4],\n",
        "    [3,2,1]]\n",
        "\n",
        "matrix_addition(X, Y)"
      ],
      "metadata": {
        "id": "X9ulAJpU-eh9",
        "colab": {
          "base_uri": "https://localhost:8080/"
        },
        "outputId": "8be6c5c8-3914-458e-c7fc-876b8de624e6"
      },
      "execution_count": null,
      "outputs": [
        {
          "output_type": "stream",
          "name": "stdout",
          "text": [
            "The sum of 2 matrices is: [[10, 10, 10], [10, 10, 10], [10, 10, 10]]\n"
          ]
        }
      ]
    },
    {
      "cell_type": "code",
      "source": [
        "# Q2 Python program to multiply two matrices\n",
        "\n",
        "def matrix_multiply(m1, m2):\n",
        "  rm = [[0, 0, 0], [0, 0, 0], [0, 0, 0]]\n",
        "  for i in range(len(m1)):\n",
        "    for j in range(len(m2[0])):\n",
        "      for k in range(len(m2)):\n",
        "        rm[i][j] += m1[i][k] * m2[k][j]\n",
        "  print(f'The resultant matrix after matrices are multiplied is: {rm}')\n",
        "\n",
        "x = [[1 ,2, 3],\n",
        "     [4 ,5, 6],\n",
        "     [7 ,8, 9]]\n",
        "\n",
        "y = [[9, 8, 7],\n",
        "     [6, 5, 4],\n",
        "     [3, 2, 1]]\n",
        "\n",
        "matrix_multiply(x, y)"
      ],
      "metadata": {
        "id": "mGGm2zv9TskX",
        "colab": {
          "base_uri": "https://localhost:8080/"
        },
        "outputId": "2abaf978-0369-4297-82ed-6ef54c947a6a"
      },
      "execution_count": 4,
      "outputs": [
        {
          "output_type": "stream",
          "name": "stdout",
          "text": [
            "The resultant matrix after matrices are multiplied is: [[30, 24, 18], [84, 69, 54], [138, 114, 90]]\n"
          ]
        }
      ]
    },
    {
      "cell_type": "code",
      "source": [
        "# Q3 Python program for Matrix Product\n",
        "\n",
        "def matrix_prod():\n",
        ""
      ],
      "metadata": {
        "id": "DSHraVRsVE7V"
      },
      "execution_count": 1,
      "outputs": []
    },
    {
      "cell_type": "code",
      "source": [],
      "metadata": {
        "id": "G6D-FbJDTeWe"
      },
      "execution_count": null,
      "outputs": []
    }
  ]
}