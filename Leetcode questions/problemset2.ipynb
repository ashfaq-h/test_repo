{
 "cells": [
  {
   "cell_type": "code",
   "execution_count": 5,
   "metadata": {},
   "outputs": [
    {
     "data": {
      "text/plain": [
       "(3, 5)"
      ]
     },
     "execution_count": 5,
     "metadata": {},
     "output_type": "execute_result"
    }
   ],
   "source": [
    "# Q1 Two sum\n",
    "\"\"\" Given an array of integers nums and an integer target, \n",
    "return indices of the two numbers such that they add up to target. \"\"\"\n",
    "\n",
    "def twosums(nums, target):\n",
    "    for i in range(len(nums)):\n",
    "        for j in range(i+1, len(nums)):\n",
    "            if nums[i] + nums[j] == target:\n",
    "                return [i, j]\n",
    "        \n",
    "num_maps = {}\n",
    "def twosums2(nums, target):\n",
    "    for i, num in enumerate(nums):\n",
    "        complement = target - num\n",
    "        if complement in num_maps:\n",
    "            return (num_maps[complement], i)\n",
    "        num_maps[num] = i\n",
    "\n",
    "l1 = [1, 2, 3, 6, 9, 10, 0, 7]\n",
    "tar = 16\n",
    "twosums2(l1, tar)"
   ]
  },
  {
   "cell_type": "code",
   "execution_count": 38,
   "metadata": {},
   "outputs": [
    {
     "data": {
      "text/plain": [
       "True"
      ]
     },
     "execution_count": 38,
     "metadata": {},
     "output_type": "execute_result"
    }
   ],
   "source": [
    "'''Given an integer x, return true if x is a palindrome, and false otherwise.'''\n",
    "\n",
    "def palindrome(x):\n",
    "    if x < 0:\n",
    "        return False\n",
    "    return str(x) == str(x)[::-1]\n",
    "\n",
    "\n",
    "def palindrome2(x):\n",
    "    if x < 0:\n",
    "        return False\n",
    "    reversed_half = 0\n",
    "    while x > reversed_half:\n",
    "        reversed_half = reversed_half * 10 + x % 10\n",
    "        x //= 10\n",
    "    return x == reversed_half or x == reversed_half // 10\n",
    "\n",
    "val = 23432\n",
    "palindrome2(val)"
   ]
  },
  {
   "cell_type": "code",
   "execution_count": 16,
   "metadata": {},
   "outputs": [
    {
     "data": {
      "text/plain": [
       "3"
      ]
     },
     "execution_count": 16,
     "metadata": {},
     "output_type": "execute_result"
    }
   ],
   "source": [
    "'''Given a string s, find the length of the longest substring without duplicate characters.'''\n",
    "\n",
    "def lengthOfLongestSubstring(s):\n",
    "    k = ''\n",
    "    for i in s:\n",
    "        if i not in k:\n",
    "            k = k + i\n",
    "        else:\n",
    "            break\n",
    "    return(len(k))\n",
    "\n",
    "s = 'abcadb'\n",
    "lengthOfLongestSubstring(s)"
   ]
  },
  {
   "cell_type": "code",
   "execution_count": 9,
   "metadata": {},
   "outputs": [
    {
     "data": {
      "text/plain": [
       "'fl'"
      ]
     },
     "execution_count": 9,
     "metadata": {},
     "output_type": "execute_result"
    }
   ],
   "source": [
    "'''Write a function to find the longest common prefix string amongst an array of strings.'''\n",
    "\n",
    "def longestCommonPrefix(strs):\n",
    "    # Start with the first string as the initial prefix\n",
    "    prefix = strs[0]\n",
    "    # Compare the prefix with each string in the list\n",
    "    for string in strs[1:]:\n",
    "        # Check each character in the current string\n",
    "        while not string.startswith(prefix):\n",
    "            prefix = prefix[:-1]  # Shorten the prefix by one character\n",
    "            if not prefix: return \"\"  # No common prefix found\n",
    "    return prefix\n",
    "\n",
    "strs = [\"flower\",\"flow\",\"flight\"]\n",
    "longestCommonPrefix(strs)"
   ]
  },
  {
   "cell_type": "code",
   "execution_count": 3,
   "metadata": {},
   "outputs": [
    {
     "data": {
      "text/plain": [
       "True"
      ]
     },
     "execution_count": 3,
     "metadata": {},
     "output_type": "execute_result"
    }
   ],
   "source": [
    "'''Given a string s containing just the characters '(', ')', '{', '}', '[' and ']', \n",
    "determine if the input string is valid'''\n",
    "\n",
    "def isValid(s):\n",
    "    # Dictionary to map closing brackets to opening brackets\n",
    "    bracket_map = {')': '(', '}': '{', ']': '['}\n",
    "    stack = []\n",
    "    \n",
    "    # Traverse through the string\n",
    "    for char in s:\n",
    "        # If it's a closing bracket, check if the stack is empty or the top element is the matching opening bracket\n",
    "        if char in bracket_map:\n",
    "            top_element = stack.pop() if stack else '#'\n",
    "            if bracket_map[char] != top_element:\n",
    "                return False\n",
    "        else:\n",
    "            # If it's an opening bracket, push it onto the stack\n",
    "            stack.append(char)\n",
    "    \n",
    "    # If the stack is empty, the string is valid\n",
    "    return not stack\n",
    "\n",
    "brackets = '{[{}[()]]}' \n",
    "isValid(brackets)"
   ]
  },
  {
   "cell_type": "code",
   "execution_count": 3,
   "metadata": {},
   "outputs": [
    {
     "data": {
      "text/plain": [
       "3"
      ]
     },
     "execution_count": 3,
     "metadata": {},
     "output_type": "execute_result"
    }
   ],
   "source": [
    "'''Given two strings needle and haystack, return the index of the first occurrence of needle in haystack, \n",
    "or -1 if needle is not part of haystack.'''\n",
    "\n",
    "def strStr(haystack, needle):\n",
    "    # Use the find method to return the index of the first occurrence of needle in haystack\n",
    "    return haystack.find(needle)\n",
    "\n",
    "def strStr2(haystack, needle):\n",
    "    # If needle is an empty string, return 0 as the first occurrence is at index 0\n",
    "    if not needle:\n",
    "        return 0\n",
    "    \n",
    "    # Get the lengths of both haystack and needle\n",
    "    haystack_len = len(haystack)\n",
    "    needle_len = len(needle)\n",
    "    \n",
    "    # Iterate through haystack, checking for the substring match\n",
    "    for i in range(haystack_len - needle_len + 1):\n",
    "        # Check if the substring from i to i + needle_len matches the needle\n",
    "        if haystack[i:i + needle_len] == needle:\n",
    "            return i\n",
    "    \n",
    "    # If no match is found, return -1\n",
    "    return -1\n",
    "\n",
    "haystack = \"sadbutsad\"\n",
    "needle = \"but\"\n",
    "\n",
    "strStr2(haystack, needle)"
   ]
  },
  {
   "cell_type": "code",
   "execution_count": 7,
   "metadata": {},
   "outputs": [
    {
     "data": {
      "text/plain": [
       "4"
      ]
     },
     "execution_count": 7,
     "metadata": {},
     "output_type": "execute_result"
    }
   ],
   "source": [
    "'''Given a sorted array of distinct integers and a target value, return the index if the target is found. \n",
    "If not, return the index where it would be if it were inserted in order.'''\n",
    "\n",
    "def searchInsert( nums, target):\n",
    "    \"\"\"\n",
    "    :type nums: List[int]\n",
    "    :type target: int\n",
    "    :rtype: int\n",
    "    \"\"\"\n",
    "\n",
    "    for i in range(len(nums)):\n",
    "        if nums[i] == target:\n",
    "            return i\n",
    "\n",
    "        elif nums[i] > target:\n",
    "            return (i)\n",
    "    return len(nums)\n",
    "        \n",
    "nums = [1,3,5,6, 10, 15]\n",
    "target = 8\n",
    "\n",
    "searchInsert(nums, target)\n"
   ]
  },
  {
   "cell_type": "code",
   "execution_count": 1,
   "metadata": {},
   "outputs": [
    {
     "data": {
      "text/plain": [
       "4"
      ]
     },
     "execution_count": 1,
     "metadata": {},
     "output_type": "execute_result"
    }
   ],
   "source": [
    "'''Given a string s consisting of words and spaces, return the length of the last word in the string.\n",
    "A word is a maximal substring consisting of non-space characters only.'''\n",
    "\n",
    "def lengthOfLastWord(s):\n",
    "    l = s.split()\n",
    "    return len(l[-1])\n",
    "\n",
    "k = 'fly me   to   the moon     '\n",
    "lengthOfLastWord(k)"
   ]
  },
  {
   "cell_type": "code",
   "execution_count": 4,
   "metadata": {},
   "outputs": [
    {
     "data": {
      "text/plain": [
       "[2, 5, 0]"
      ]
     },
     "execution_count": 4,
     "metadata": {},
     "output_type": "execute_result"
    }
   ],
   "source": [
    "'''You are given a large integer represented as an integer array digits, where each digits[i] is the ith digit of the integer. \n",
    "The digits are ordered from most significant to least significant in left-to-right order. The large integer does not contain any leading 0's.\n",
    "\n",
    "Increment the large integer by one and return the resulting array of digits.'''\n",
    "\n",
    "def plusOne(digits):\n",
    "        num = int(''.join(map(str, digits)))\n",
    "        num += 1\n",
    "        return list(map(int, str(num)))\n",
    "\n",
    "def plusOne2(digits):\n",
    "        n = len(digits)\n",
    "        for i in range(n - 1, -1, -1):  # Traverse from right to left\n",
    "            if digits[i] < 9:\n",
    "                digits[i] += 1\n",
    "                return digits           # Early exit if no carry\n",
    "            digits[i] = 0\n",
    "        return [1] + digits\n",
    "\n",
    "\n",
    "d = [2, 4, 9]\n",
    "plusOne(d)"
   ]
  },
  {
   "cell_type": "code",
   "execution_count": null,
   "metadata": {},
   "outputs": [
    {
     "data": {
      "text/plain": [
       "'100'"
      ]
     },
     "execution_count": 1,
     "metadata": {},
     "output_type": "execute_result"
    }
   ],
   "source": [
    "'''Given two binary strings a and b, return their sum as a binary string.'''\n",
    "\n",
    "def addBinary(a: str, b: str) -> str:\n",
    "    num_a = int(a, 2)  # Convert binary string to integer\n",
    "    num_b = int(b, 2)\n",
    "    return bin(num_a + num_b)[2:]  # Convert sum back to binary string \n",
    "\n",
    "i1 = '11'\n",
    "i2 = '1'\n",
    "addBinary(i1, i2)"
   ]
  },
  {
   "cell_type": "code",
   "execution_count": 4,
   "metadata": {},
   "outputs": [
    {
     "data": {
      "text/plain": [
       "46339"
      ]
     },
     "execution_count": 4,
     "metadata": {},
     "output_type": "execute_result"
    }
   ],
   "source": [
    "'''Given a non-negative integer x, return the square root of x rounded down to the nearest integer. \n",
    "The returned integer should be non-negative as well.\n",
    "You must not use any built-in exponent function or operator.'''\n",
    "\n",
    "def mySqrt(x):\n",
    "    \"\"\"\n",
    "    :type x: int\n",
    "    :rtype: int\n",
    "    \"\"\"\n",
    "    if x == 0:\n",
    "        return 0\n",
    "    for k in range(1, x+1):\n",
    "        if k * k  > x:\n",
    "            return k-1\n",
    "    return x\n",
    "\n",
    "def mySqrt2(x):\n",
    "    if x == 0:\n",
    "        return 0\n",
    "    left, right = 1, x\n",
    "    while left <= right:\n",
    "        mid = (left + right)//2\n",
    "        if mid * mid == x:\n",
    "            return mid\n",
    "        elif mid * mid < x:\n",
    "            left = mid + 1\n",
    "        else:\n",
    "            right = mid -1\n",
    "    return right\n",
    "\n",
    "x = 2147395599\n",
    "mySqrt2(x)"
   ]
  },
  {
   "cell_type": "code",
   "execution_count": null,
   "metadata": {},
   "outputs": [],
   "source": []
  },
  {
   "cell_type": "code",
   "execution_count": null,
   "metadata": {},
   "outputs": [],
   "source": []
  },
  {
   "cell_type": "code",
   "execution_count": null,
   "metadata": {},
   "outputs": [],
   "source": []
  },
  {
   "cell_type": "code",
   "execution_count": null,
   "metadata": {},
   "outputs": [],
   "source": []
  },
  {
   "cell_type": "code",
   "execution_count": null,
   "metadata": {},
   "outputs": [],
   "source": []
  }
 ],
 "metadata": {
  "kernelspec": {
   "display_name": "Python 3",
   "language": "python",
   "name": "python3"
  },
  "language_info": {
   "codemirror_mode": {
    "name": "ipython",
    "version": 3
   },
   "file_extension": ".py",
   "mimetype": "text/x-python",
   "name": "python",
   "nbconvert_exporter": "python",
   "pygments_lexer": "ipython3",
   "version": "3.12.0"
  }
 },
 "nbformat": 4,
 "nbformat_minor": 2
}
