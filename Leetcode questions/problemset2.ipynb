{
 "cells": [
  {
   "cell_type": "code",
   "execution_count": 23,
   "metadata": {},
   "outputs": [
    {
     "data": {
      "text/plain": [
       "(4, 5)"
      ]
     },
     "execution_count": 23,
     "metadata": {},
     "output_type": "execute_result"
    }
   ],
   "source": [
    "# Q1 Two sum\n",
    "\"\"\" Given an array of integers nums and an integer target, \n",
    "return indices of the two numbers such that they add up to target. \"\"\"\n",
    "\n",
    "def twosums(nums, target):\n",
    "    for i in range(len(nums)):\n",
    "        for j in range(i+1, len(nums)):\n",
    "            if nums[i] + nums[j] == target:\n",
    "                return [i, j]\n",
    "        \n",
    "num_maps = {}\n",
    "def twosums2(nums, target):\n",
    "    for i, num in enumerate(nums):\n",
    "        complement = target - num\n",
    "        if complement in num_maps:\n",
    "            return (num_maps[complement], i)\n",
    "        num_maps[num] = i\n",
    "\n",
    "l1 = [1, 2, 3, 4, 9, 7]\n",
    "tar = 16\n",
    "twosums2(l1, tar)"
   ]
  },
  {
   "cell_type": "code",
   "execution_count": 38,
   "metadata": {},
   "outputs": [
    {
     "data": {
      "text/plain": [
       "True"
      ]
     },
     "execution_count": 38,
     "metadata": {},
     "output_type": "execute_result"
    }
   ],
   "source": [
    "'''Given an integer x, return true if x is a palindrome, and false otherwise.'''\n",
    "\n",
    "def palindrome(x):\n",
    "    if x < 0:\n",
    "        return False\n",
    "    return str(x) == str(x)[::-1]\n",
    "\n",
    "\n",
    "def palindrome2(x):\n",
    "    if x < 0:\n",
    "        return False\n",
    "    reversed_half = 0\n",
    "    while x > reversed_half:\n",
    "        reversed_half = reversed_half * 10 + x % 10\n",
    "        x //= 10\n",
    "    return x == reversed_half or x == reversed_half // 10\n",
    "\n",
    "val = 23432\n",
    "palindrome2(val)"
   ]
  },
  {
   "cell_type": "code",
   "execution_count": 16,
   "metadata": {},
   "outputs": [
    {
     "data": {
      "text/plain": [
       "3"
      ]
     },
     "execution_count": 16,
     "metadata": {},
     "output_type": "execute_result"
    }
   ],
   "source": [
    "'''Given a string s, find the length of the longest substring without duplicate characters.'''\n",
    "\n",
    "def lengthOfLongestSubstring(s):\n",
    "    k = ''\n",
    "    for i in s:\n",
    "        if i not in k:\n",
    "            k = k + i\n",
    "        else:\n",
    "            break\n",
    "    return(len(k))\n",
    "\n",
    "s = 'abcadb'\n",
    "lengthOfLongestSubstring(s)"
   ]
  },
  {
   "cell_type": "code",
   "execution_count": 25,
   "metadata": {},
   "outputs": [
    {
     "data": {
      "text/plain": [
       "'fl'"
      ]
     },
     "execution_count": 25,
     "metadata": {},
     "output_type": "execute_result"
    }
   ],
   "source": [
    "'''Write a function to find the longest common prefix string amongst an array of strings.'''\n",
    "\n",
    "def longestCommonPrefix(strs):\n",
    "    # Start with the first string as the initial prefix\n",
    "    prefix = strs[0]\n",
    "    # Compare the prefix with each string in the list\n",
    "    for string in strs[1:]:\n",
    "        # Check each character in the current string\n",
    "        while not string.startswith(prefix):\n",
    "            prefix = prefix[:-1]  # Shorten the prefix by one character\n",
    "            if not prefix: return \"\"  # No common prefix found\n",
    "    return prefix\n",
    "\n",
    "strs = [\"flower\",\"flow\",\"flight\"]\n",
    "longestCommonPrefix(strs)"
   ]
  },
  {
   "cell_type": "code",
   "execution_count": null,
   "metadata": {},
   "outputs": [
    {
     "name": "stdout",
     "output_type": "stream",
     "text": [
      ")\n",
      "}\n",
      "]\n"
     ]
    }
   ],
   "source": [
    "'''Given a string s containing just the characters '(', ')', '{', '}', '[' and ']', \n",
    "determine if the input string is valid'''\n",
    "\n",
    "def isValid(s):\n",
    "    # Dictionary to map closing brackets to opening brackets\n",
    "    bracket_map = {')': '(', '}': '{', ']': '['}\n",
    "    stack = []\n",
    "    \n",
    "    # Traverse through the string\n",
    "    for char in s:\n",
    "        # If it's a closing bracket, check if the stack is empty or the top element is the matching opening bracket\n",
    "        if char in bracket_map:\n",
    "            top_element = stack.pop() if stack else '#'\n",
    "            if bracket_map[char] != top_element:\n",
    "                return False\n",
    "        else:\n",
    "            # If it's an opening bracket, push it onto the stack\n",
    "            stack.append(char)\n",
    "    \n",
    "    # If the stack is empty, the string is valid\n",
    "    return not stack\n",
    "\n",
    "    \n",
    "\n"
   ]
  },
  {
   "cell_type": "code",
   "execution_count": null,
   "metadata": {},
   "outputs": [],
   "source": []
  },
  {
   "cell_type": "code",
   "execution_count": null,
   "metadata": {},
   "outputs": [],
   "source": []
  },
  {
   "cell_type": "code",
   "execution_count": null,
   "metadata": {},
   "outputs": [],
   "source": []
  },
  {
   "cell_type": "code",
   "execution_count": null,
   "metadata": {},
   "outputs": [],
   "source": []
  },
  {
   "cell_type": "code",
   "execution_count": null,
   "metadata": {},
   "outputs": [],
   "source": []
  },
  {
   "cell_type": "code",
   "execution_count": null,
   "metadata": {},
   "outputs": [],
   "source": []
  }
 ],
 "metadata": {
  "kernelspec": {
   "display_name": "Python 3",
   "language": "python",
   "name": "python3"
  },
  "language_info": {
   "codemirror_mode": {
    "name": "ipython",
    "version": 3
   },
   "file_extension": ".py",
   "mimetype": "text/x-python",
   "name": "python",
   "nbconvert_exporter": "python",
   "pygments_lexer": "ipython3",
   "version": "3.12.0"
  }
 },
 "nbformat": 4,
 "nbformat_minor": 2
}
