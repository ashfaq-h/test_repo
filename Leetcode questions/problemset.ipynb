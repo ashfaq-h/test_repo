{
 "cells": [
  {
   "cell_type": "markdown",
   "metadata": {},
   "source": [
    "## Leetcode problemset\n",
    "https://leetcode.com/problemset/"
   ]
  },
  {
   "cell_type": "code",
   "execution_count": 15,
   "metadata": {},
   "outputs": [
    {
     "data": {
      "text/plain": [
       "[1, 3]"
      ]
     },
     "execution_count": 15,
     "metadata": {},
     "output_type": "execute_result"
    }
   ],
   "source": [
    "# Q1 Two sum\n",
    "\"\"\" Given an array of integers nums and an integer target, \n",
    "return indices of the two numbers such that they add up to target. \"\"\"\n",
    "\n",
    "\n",
    "def twoSum(nums: list[int], target: int) -> list[int]:\n",
    "    premap= {}\n",
    "    for i, n in enumerate(nums):\n",
    "        diff = target - n\n",
    "        if diff in premap:\n",
    "            return [premap[diff], i]\n",
    "        premap[n] = i\n",
    "    return\n",
    "\n",
    "lst = [3, 4, 11, 6]\n",
    "target = 10\n",
    "twoSum(lst, target)"
   ]
  },
  {
   "cell_type": "code",
   "execution_count": null,
   "metadata": {},
   "outputs": [],
   "source": [
    "# Q2 Palindrome Number\n",
    "\"\"\"Given an integer x, return true if x is a palindrome and false otherwise.\n",
    "\"\"\"\n",
    "\n",
    "def isPalindrome(self, x: int) -> bool:"
   ]
  },
  {
   "cell_type": "code",
   "execution_count": null,
   "metadata": {},
   "outputs": [],
   "source": []
  },
  {
   "cell_type": "code",
   "execution_count": null,
   "metadata": {},
   "outputs": [],
   "source": []
  }
 ],
 "metadata": {
  "kernelspec": {
   "display_name": "Python 3",
   "language": "python",
   "name": "python3"
  },
  "language_info": {
   "codemirror_mode": {
    "name": "ipython",
    "version": 3
   },
   "file_extension": ".py",
   "mimetype": "text/x-python",
   "name": "python",
   "nbconvert_exporter": "python",
   "pygments_lexer": "ipython3",
   "version": "3.12.0"
  }
 },
 "nbformat": 4,
 "nbformat_minor": 2
}
