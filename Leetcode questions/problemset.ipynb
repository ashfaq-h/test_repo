{
 "cells": [
  {
   "cell_type": "markdown",
   "metadata": {},
   "source": [
    "## Leetcode problemset\n",
    "https://leetcode.com/problemset/"
   ]
  },
  {
   "cell_type": "code",
   "execution_count": 15,
   "metadata": {},
   "outputs": [
    {
     "data": {
      "text/plain": [
       "[1, 3]"
      ]
     },
     "execution_count": 15,
     "metadata": {},
     "output_type": "execute_result"
    }
   ],
   "source": [
    "# Q1 Two sum\n",
    "\"\"\" Given an array of integers nums and an integer target, \n",
    "return indices of the two numbers such that they add up to target. \"\"\"\n",
    "\n",
    "\n",
    "def twoSum(nums: list[int], target: int) -> list[int]:\n",
    "    premap= {}\n",
    "    for i, n in enumerate(nums):\n",
    "        diff = target - n\n",
    "        if diff in premap:\n",
    "            return [premap[diff], i]\n",
    "        premap[n] = i\n",
    "    return\n",
    "\n",
    "lst = [3, 4, 11, 6]\n",
    "target = 10\n",
    "twoSum(lst, target)"
   ]
  },
  {
   "cell_type": "code",
   "execution_count": 2,
   "metadata": {},
   "outputs": [
    {
     "name": "stdout",
     "output_type": "stream",
     "text": [
      "4 1\n",
      "6 3\n"
     ]
    }
   ],
   "source": [
    "lst = [3, 4, 11, 6]\n",
    "tar = 10\n",
    "\n",
    "for i in range(len(lst)):\n",
    "    if abs(lst[i] - tar) in lst:\n",
    "        print(lst[i], i)"
   ]
  },
  {
   "cell_type": "code",
   "execution_count": 2,
   "metadata": {},
   "outputs": [
    {
     "name": "stdout",
     "output_type": "stream",
     "text": [
      "(0, 3)\n",
      "(1, 4)\n",
      "(2, 11)\n",
      "(3, 6)\n"
     ]
    }
   ],
   "source": [
    "lst = [3, 4, 11, 6]\n",
    "\n",
    "for i in enumerate(lst):\n",
    "    print(i)"
   ]
  },
  {
   "cell_type": "code",
   "execution_count": 4,
   "metadata": {},
   "outputs": [
    {
     "name": "stdout",
     "output_type": "stream",
     "text": [
      "4\n"
     ]
    }
   ],
   "source": [
    "def list_function(x):\n",
    "    for y in x:\n",
    "        return (y) \n",
    "\n",
    "n = [4, 5, 7]\n",
    "print(list_function(n))"
   ]
  },
  {
   "cell_type": "code",
   "execution_count": 5,
   "metadata": {},
   "outputs": [
    {
     "name": "stdout",
     "output_type": "stream",
     "text": [
      "4\n",
      "5\n",
      "7\n"
     ]
    }
   ],
   "source": [
    "def list_function(x):\n",
    "    for y in x:\n",
    "        print(y)\n",
    "\n",
    "n = [4, 5, 7]\n",
    "list_function(n)"
   ]
  },
  {
   "cell_type": "code",
   "execution_count": 6,
   "metadata": {},
   "outputs": [
    {
     "data": {
      "text/plain": [
       "[1, 3]"
      ]
     },
     "execution_count": 6,
     "metadata": {},
     "output_type": "execute_result"
    }
   ],
   "source": [
    "def two_sum(nums, tar):\n",
    "    premap= {}\n",
    "    for i, n in enumerate(nums):\n",
    "        diff = tar - n\n",
    "        if diff in premap:\n",
    "            return [premap[diff], i]\n",
    "        premap[n] = i\n",
    "    return\n",
    "\n",
    "lst = [3, 4, 11, 6]\n",
    "target = 10\n",
    "two_sum(lst, target)"
   ]
  },
  {
   "cell_type": "code",
   "execution_count": null,
   "metadata": {},
   "outputs": [],
   "source": []
  }
 ],
 "metadata": {
  "kernelspec": {
   "display_name": "Python 3",
   "language": "python",
   "name": "python3"
  },
  "language_info": {
   "codemirror_mode": {
    "name": "ipython",
    "version": 3
   },
   "file_extension": ".py",
   "mimetype": "text/x-python",
   "name": "python",
   "nbconvert_exporter": "python",
   "pygments_lexer": "ipython3",
   "version": "3.12.0"
  }
 },
 "nbformat": 4,
 "nbformat_minor": 2
}
