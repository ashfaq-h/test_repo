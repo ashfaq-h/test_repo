{
 "cells": [
  {
   "cell_type": "markdown",
   "metadata": {},
   "source": [
    "## Leetcode problemset\n",
    "https://leetcode.com/problemset/"
   ]
  },
  {
   "cell_type": "code",
   "execution_count": 15,
   "metadata": {},
   "outputs": [
    {
     "data": {
      "text/plain": [
       "[1, 3]"
      ]
     },
     "execution_count": 15,
     "metadata": {},
     "output_type": "execute_result"
    }
   ],
   "source": [
    "# Q1 Two sum\n",
    "\"\"\" Given an array of integers nums and an integer target, \n",
    "return indices of the two numbers such that they add up to target. \"\"\"\n",
    "\n",
    "from typing import List\n",
    "class Solution1:\n",
    "    def twoSum(self, nums: List[int], target: int) -> List[int]:\n",
    "        premap= {}\n",
    "        for i, n in enumerate(nums):\n",
    "            diff = target - n\n",
    "            if diff in premap:\n",
    "                return [premap[diff], i]\n",
    "            premap[n] = i\n",
    "        return\n",
    "\n",
    "solution_instance = Solution1()\n",
    "result = solution_instance.twoSum([2, 7, 11, 15], 9)\n",
    "print(result) "
   ]
  },
  {
   "cell_type": "code",
   "execution_count": 29,
   "metadata": {},
   "outputs": [
    {
     "name": "stdout",
     "output_type": "stream",
     "text": [
      "True\n"
     ]
    }
   ],
   "source": [
    "# Q2 Palindrome Number\n",
    "\"\"\"Given an integer x, return true if x is a palindrome and false otherwise.\n",
    "\"\"\"\n",
    "from typing import List\n",
    "class Solution2:\n",
    "    def isPalindrome(self, x: int) -> bool:\n",
    "        return  str(x) == str(x)[::-1]\n",
    "\n",
    "isPalindrome_instance = Solution2()\n",
    "\n",
    "num = 121\n",
    "result = isPalindrome_instance.isPalindrome(num)\n",
    "print(result)"
   ]
  },
  {
   "cell_type": "code",
   "execution_count": 21,
   "metadata": {},
   "outputs": [
    {
     "name": "stdout",
     "output_type": "stream",
     "text": [
      "fl\n"
     ]
    }
   ],
   "source": [
    "# Q3 Longest Common Prefix\n",
    "\"\"\"Write a function to find the longest common prefix string amongst an array of strings.\n",
    "If there is no common prefix, return an empty string \"\".\n",
    "\"\"\"\n",
    "from typing import List\n",
    "class Solution3:\n",
    "    def longestCommonPrefix(self, strs: List[str]) -> str:\n",
    "        res = \"\"\n",
    "        for i in range(len(strs[0])):\n",
    "            for s in strs:\n",
    "                if i == len(s) or s[i] != strs[0][i]:\n",
    "                    return res\n",
    "            res += strs[0][i]\n",
    "        return res\n",
    "    \n",
    "is_longest_prefix = Solution3()\n",
    "str1 = [\"flower\",\"flow\",\"flight\"]\n",
    "\n",
    "result = is_longest_prefix.longestCommonPrefix(str1)\n",
    "print(result)"
   ]
  },
  {
   "cell_type": "code",
   "execution_count": 37,
   "metadata": {},
   "outputs": [
    {
     "name": "stdout",
     "output_type": "stream",
     "text": [
      "False\n"
     ]
    }
   ],
   "source": [
    "# Q4 Valid Parentheses\n",
    "\"\"\"Given a string s containing just the characters '(', ')', '{', '}', '[' and ']', \n",
    "determine if the input string is valid.\"\"\"\n",
    "\n",
    "class Solution4:\n",
    "    def isValid(self, s:str) -> bool:\n",
    "        dict1 = {'}': '{', ']':'[', ')':'('}\n",
    "        stack = []\n",
    "\n",
    "        for c in s:\n",
    "            if c in dict1:\n",
    "                if stack and stack[-1] == dict1[c]:\n",
    "                    stack.pop()\n",
    "                else:\n",
    "                    return False\n",
    "            else:\n",
    "                stack.append(c)\n",
    "        return True if not stack else False\n",
    "    \n",
    "Valid_paranthesis = Solution4()\n",
    "s = \"()[]{}(\"\n",
    "\n",
    "result = Valid_paranthesis.isValid(s)\n",
    "print(result)"
   ]
  },
  {
   "cell_type": "code",
   "execution_count": null,
   "metadata": {},
   "outputs": [],
   "source": [
    "# Q5 Merge Two Sorted Lists\n",
    "\n",
    "\"\"\"Merge the two lists into one sorted list. The list should be made by \n",
    "splicing together the nodes of the first two lists.\"\"\"\n",
    "from typing import List\n",
    "class Solution:\n",
    "    def mergeTwoLists(self, list1: Optional[ListNode], list2: Optional[ListNode]) -> Optional[ListNode]:"
   ]
  },
  {
   "cell_type": "code",
   "execution_count": null,
   "metadata": {},
   "outputs": [],
   "source": []
  }
 ],
 "metadata": {
  "kernelspec": {
   "display_name": "Python 3",
   "language": "python",
   "name": "python3"
  },
  "language_info": {
   "codemirror_mode": {
    "name": "ipython",
    "version": 3
   },
   "file_extension": ".py",
   "mimetype": "text/x-python",
   "name": "python",
   "nbconvert_exporter": "python",
   "pygments_lexer": "ipython3",
   "version": "3.12.0"
  }
 },
 "nbformat": 4,
 "nbformat_minor": 2
}
