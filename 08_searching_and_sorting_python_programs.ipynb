{
 "cells": [
  {
   "cell_type": "markdown",
   "metadata": {},
   "source": [
    "## Geeks-for-Geeks Searching and Sorting python programs\n",
    "https://www.geeksforgeeks.org/python-programming-examples/"
   ]
  },
  {
   "cell_type": "code",
   "execution_count": 16,
   "metadata": {},
   "outputs": [
    {
     "name": "stdout",
     "output_type": "stream",
     "text": [
      "The index of the given value of 60 in the list is: 5\n"
     ]
    }
   ],
   "source": [
    "# P1 Python Program for Binary Search (Recursive and Iterative)\n",
    "'''this search algorithm takes advantage of a collection of elements that is already sorted by ignoring half of the elements \n",
    "after just one comparison. \n",
    "\n",
    "Compare x with the middle element.\n",
    "If x matches with the middle element, we return the mid index.\n",
    "Else if x is greater than the mid element, then x can only lie in the right (greater) half subarray after the mid element. \n",
    "Then we apply the algorithm again for the right half.\n",
    "Else if x is smaller, the target x must lie in the left (lower) half. So we apply the algorithm for the left half.\n",
    "'''\n",
    "\n",
    "def binary_search(lst, val):\n",
    "    low = 0\n",
    "    up = len(lst)-1\n",
    "    while low <= up:\n",
    "        mid = (low + up)//2\n",
    "        if lst[mid] == val:\n",
    "            return lst.index(val)\n",
    "        else:\n",
    "            if val < lst[mid]:\n",
    "                up = mid\n",
    "            else:\n",
    "                low = mid\n",
    "\n",
    "lst = [ 2, 3, 4, 10, 40, 60, 72]\n",
    "value = 60\n",
    "print(f'The index of the given value of {value} in the list is: {binary_search(lst, value)}')    "
   ]
  },
  {
   "cell_type": "code",
   "execution_count": 3,
   "metadata": {},
   "outputs": [
    {
     "name": "stdout",
     "output_type": "stream",
     "text": [
      "The index of the given value of 100 in the list is: 7\n"
     ]
    }
   ],
   "source": [
    "# P2 Python Program for Linear Search\n",
    "'''\n",
    "Start from the leftmost element of arr[] and one by one compare x with each element of arr[]\n",
    "If x matches with an element, return the index.'''\n",
    "\n",
    "def liner_search(lst, val):\n",
    "    for i in lst:\n",
    "        if i == val:\n",
    "            return lst.index(i)\n",
    "    return -1\n",
    "\n",
    "lst = [10, 20, 80, 30, 60, 50, 110, 100, 130, 170]\n",
    "value = 100\n",
    "print(f'The index of the given value of {value} in the list is: {liner_search(lst, value)}')"
   ]
  },
  {
   "cell_type": "code",
   "execution_count": 18,
   "metadata": {},
   "outputs": [
    {
     "name": "stdout",
     "output_type": "stream",
     "text": [
      "The sorted list of the given list by insertion sort method is: [-4, 1, 2, 3, 5, 6]\n"
     ]
    }
   ],
   "source": [
    "# P3 Python Program for Insertion Sort\n",
    "\n",
    "def insertion_sort(lst):\n",
    "    for i in range(1, len(lst)):\n",
    "        j = i\n",
    "        while lst[j-1] > lst[j] and j > 0:\n",
    "            lst[j-1], lst[j] = lst[j], lst[j-1]\n",
    "            j -= 1\n",
    "    return lst\n",
    "\n",
    "lst = [2, 6, 5, 1, 3, -4]\n",
    "print(f'The sorted list of the given list by insertion sort method is: {insertion_sort(lst)}')"
   ]
  },
  {
   "cell_type": "code",
   "execution_count": null,
   "metadata": {},
   "outputs": [],
   "source": [
    "# P5 Python Program for QuickSort\n",
    "\n",
    "def egjbhegjkbrgk\n",
    "dvjhbel"
   ]
  },
  {
   "cell_type": "code",
   "execution_count": null,
   "metadata": {},
   "outputs": [],
   "source": []
  },
  {
   "cell_type": "code",
   "execution_count": null,
   "metadata": {},
   "outputs": [],
   "source": []
  }
 ],
 "metadata": {
  "kernelspec": {
   "display_name": "Python 3",
   "language": "python",
   "name": "python3"
  },
  "language_info": {
   "codemirror_mode": {
    "name": "ipython",
    "version": 3
   },
   "file_extension": ".py",
   "mimetype": "text/x-python",
   "name": "python",
   "nbconvert_exporter": "python",
   "pygments_lexer": "ipython3",
   "version": "3.12.0"
  }
 },
 "nbformat": 4,
 "nbformat_minor": 2
}
