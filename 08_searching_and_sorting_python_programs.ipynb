{
 "cells": [
  {
   "cell_type": "markdown",
   "metadata": {},
   "source": [
    "## Geeks-for-Geeks Searching and Sorting python programs\n",
    "https://www.geeksforgeeks.org/python-programming-examples/"
   ]
  },
  {
   "cell_type": "code",
   "execution_count": 16,
   "metadata": {},
   "outputs": [
    {
     "name": "stdout",
     "output_type": "stream",
     "text": [
      "The index of the given value of 60 in the list is: 5\n"
     ]
    }
   ],
   "source": [
    "# P1 Python Program for Binary Search (Recursive and Iterative)\n",
    "'''this search algorithm takes advantage of a collection of elements that is already sorted by ignoring half of the elements \n",
    "after just one comparison. \n",
    "\n",
    "Compare x with the middle element.\n",
    "If x matches with the middle element, we return the mid index.\n",
    "Else if x is greater than the mid element, then x can only lie in the right (greater) half subarray after the mid element. \n",
    "Then we apply the algorithm again for the right half.\n",
    "Else if x is smaller, the target x must lie in the left (lower) half. So we apply the algorithm for the left half.\n",
    "'''\n",
    "\n",
    "def binary_search(lst, val):\n",
    "    low = 0\n",
    "    up = len(lst)-1\n",
    "    while low <= up:\n",
    "        mid = (low + up)//2\n",
    "        if lst[mid] == val:\n",
    "            return lst.index(val)\n",
    "        else:\n",
    "            if val < lst[mid]:\n",
    "                up = mid\n",
    "            else:\n",
    "                low = mid\n",
    "\n",
    "lst = [ 2, 3, 4, 10, 40, 60, 72]\n",
    "value = 60\n",
    "print(f'The index of the given value of {value} in the list is: {binary_search(lst, value)}')    "
   ]
  },
  {
   "cell_type": "code",
   "execution_count": 3,
   "metadata": {},
   "outputs": [
    {
     "name": "stdout",
     "output_type": "stream",
     "text": [
      "The index of the given value of 100 in the list is: 7\n"
     ]
    }
   ],
   "source": [
    "# P2 Python Program for Linear Search\n",
    "'''\n",
    "Start from the leftmost element of arr[] and one by one compare x with each element of arr[]\n",
    "If x matches with an element, return the index.'''\n",
    "\n",
    "def liner_search(lst, val):\n",
    "    for i in lst:\n",
    "        if i == val:\n",
    "            return lst.index(i)\n",
    "    return -1\n",
    "\n",
    "lst = [10, 20, 80, 30, 60, 50, 110, 100, 130, 170]\n",
    "value = 100\n",
    "print(f'The index of the given value of {value} in the list is: {liner_search(lst, value)}')"
   ]
  },
  {
   "cell_type": "code",
   "execution_count": 18,
   "metadata": {},
   "outputs": [
    {
     "name": "stdout",
     "output_type": "stream",
     "text": [
      "The sorted list of the given list by insertion sort method is: [-4, 1, 2, 3, 5, 6]\n"
     ]
    }
   ],
   "source": [
    "# P3 Python Program for Insertion Sort\n",
    "\n",
    "def insertion_sort(lst):\n",
    "    for i in range(1, len(lst)):\n",
    "        j = i\n",
    "        while lst[j-1] > lst[j] and j > 0:\n",
    "            lst[j-1], lst[j] = lst[j], lst[j-1]\n",
    "            j -= 1\n",
    "    return lst\n",
    "\n",
    "lst = [2, 6, 5, 1, 3, -4]\n",
    "print(f'The sorted list of the given list by insertion sort method is: {insertion_sort(lst)}')"
   ]
  },
  {
   "cell_type": "code",
   "execution_count": 3,
   "metadata": {},
   "outputs": [
    {
     "name": "stdout",
     "output_type": "stream",
     "text": [
      "Sorted Array in Ascending Order: [-2, 1, 1, 4, 7, 9, 10]\n"
     ]
    }
   ],
   "source": [
    "# Q4 Python Program for QuickSort\n",
    "\n",
    "def quick_sort(arr):\n",
    "\tif len(arr) <= 1:\n",
    "\t\treturn arr\n",
    "\telse:\n",
    "\t\tpivot = arr[0]\n",
    "\t\tleft = [x for x in arr[1:] if x < pivot]\n",
    "\t\tright = [x for x in arr[1:] if x >= pivot]\n",
    "\t\treturn quick_sort(left) + [pivot] + quick_sort(right)\n",
    "\n",
    "# Example usage\n",
    "arr = [1, 7, 4, 1, 10, 9, -2]\n",
    "sorted_arr = quick_sort(arr)\n",
    "print(\"Sorted Array in Ascending Order:\", sorted_arr)"
   ]
  },
  {
   "cell_type": "code",
   "execution_count": 4,
   "metadata": {},
   "outputs": [
    {
     "name": "stdout",
     "output_type": "stream",
     "text": [
      "The array after sorting in Ascending Order by selection sort is: [-202, -97, -9, -2, 0, 11, 45, 88, 747]\n"
     ]
    }
   ],
   "source": [
    "# Q5 Python Program for Selection Sort\n",
    "# time complexity O(n*n)\n",
    "#sorting by finding min_index\n",
    "def selection_sort(array, size):\n",
    "\t\n",
    "\tfor ind in range(size):\n",
    "\t\tmin_index = ind\n",
    "\n",
    "\t\tfor j in range(ind + 1, size):\n",
    "\t\t\t# select the minimum element in every iteration\n",
    "\t\t\tif array[j] < array[min_index]:\n",
    "\t\t\t\tmin_index = j\n",
    "\t\t# swapping the elements to sort the array\n",
    "\t\t(array[ind], array[min_index]) = (array[min_index], array[ind])\n",
    "\n",
    "arr = [-2, 45, 0, 11, -9,88,-97,-202,747]\n",
    "size = len(arr)\n",
    "selection_sort(arr, size)\n",
    "print('The array after sorting in Ascending Order by selection sort is:', arr)"
   ]
  },
  {
   "cell_type": "code",
   "execution_count": 6,
   "metadata": {},
   "outputs": [
    {
     "name": "stdout",
     "output_type": "stream",
     "text": [
      "Sorted Array is,  [2, 10, 12, 18, 18, 39, 72, 85]\n"
     ]
    }
   ],
   "source": [
    "# Q6 Python Program for Bubble Sort\n",
    "\n",
    "def bubble_sort(elements):\n",
    "    # Looping from size of array from last index[-1] to index [0]\n",
    "    for n in range(len(elements)-1, 0, -1):\n",
    "        swapped = False\n",
    "        for i in range(n):\n",
    "            if elements[i] > elements[i + 1]:\n",
    "                swapped = True\n",
    "                # swapping data if the element is less than next element in the array\n",
    "                elements[i], elements[i + 1] = elements[i + 1], elements[i]\n",
    "        if not swapped:\n",
    "            # exiting the function if we didn't make a single swap\n",
    "            # meaning that the array is already sorted.\n",
    "            return\n",
    "\n",
    "elements = [39, 12, 18, 85, 72, 10, 2, 18]\n",
    "\n",
    "bubble_sort(elements)\n",
    "print(\"Sorted Array is, \", elements)"
   ]
  }
 ],
 "metadata": {
  "kernelspec": {
   "display_name": "Python 3",
   "language": "python",
   "name": "python3"
  },
  "language_info": {
   "codemirror_mode": {
    "name": "ipython",
    "version": 3
   },
   "file_extension": ".py",
   "mimetype": "text/x-python",
   "name": "python",
   "nbconvert_exporter": "python",
   "pygments_lexer": "ipython3",
   "version": "3.12.0"
  }
 },
 "nbformat": 4,
 "nbformat_minor": 2
}
