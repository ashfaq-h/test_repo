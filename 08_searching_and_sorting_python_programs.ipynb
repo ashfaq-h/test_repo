{
 "cells": [
  {
   "cell_type": "markdown",
   "metadata": {},
   "source": [
    "## Geeks-for-Geeks Searching and Sorting python programs\n",
    "https://www.geeksforgeeks.org/python-programming-examples/"
   ]
  },
  {
   "cell_type": "code",
   "execution_count": null,
   "metadata": {},
   "outputs": [],
   "source": [
    "# P1 Python Program for Binary Search (Recursive and Iterative)\n",
    "'''this search algorithm takes advantage of a collection of elements that is already sorted by ignoring half of the elements \n",
    "after just one comparison. \n",
    "\n",
    "Compare x with the middle element.\n",
    "If x matches with the middle element, we return the mid index.\n",
    "Else if x is greater than the mid element, then x can only lie in the right (greater) half subarray after the mid element. \n",
    "Then we apply the algorithm again for the right half.\n",
    "Else if x is smaller, the target x must lie in the left (lower) half. So we apply the algorithm for the left half.\n",
    "'''\n",
    "\n"
   ]
  },
  {
   "cell_type": "code",
   "execution_count": 1,
   "metadata": {},
   "outputs": [
    {
     "ename": "SyntaxError",
     "evalue": "invalid syntax (2361593570.py, line 5)",
     "output_type": "error",
     "traceback": [
      "\u001b[1;36m  Cell \u001b[1;32mIn[1], line 5\u001b[1;36m\u001b[0m\n\u001b[1;33m    if\u001b[0m\n\u001b[1;37m       ^\u001b[0m\n\u001b[1;31mSyntaxError\u001b[0m\u001b[1;31m:\u001b[0m invalid syntax\n"
     ]
    }
   ],
   "source": [
    "lst = [ 2, 3, 4, 10, 40, 60, 72]#, 90, 50 ]\n",
    "val = 40\n",
    "\n",
    "def bin_search(lst, val):\n",
    "    if \n",
    "\n",
    "    if lst[len(lst)//2] == val:\n",
    "        print(lst.index(val))\n",
    "\n",
    "    if val < lst[len(lst)//2]:\n",
    "        lst = lst[:len(lst)//2]\n",
    "        bin_search(lst, val)\n",
    "    else:\n",
    "        lst = lst[len(lst)//2:]\n",
    "        bin_search(lst, val)\n",
    "\n",
    "# bin_search(lst, val)"
   ]
  },
  {
   "cell_type": "code",
   "execution_count": 12,
   "metadata": {},
   "outputs": [
    {
     "data": {
      "text/plain": [
       "40"
      ]
     },
     "execution_count": 12,
     "metadata": {},
     "output_type": "execute_result"
    }
   ],
   "source": [
    " lst[len(lst)//2]"
   ]
  },
  {
   "cell_type": "code",
   "execution_count": null,
   "metadata": {},
   "outputs": [],
   "source": []
  },
  {
   "cell_type": "code",
   "execution_count": null,
   "metadata": {},
   "outputs": [],
   "source": []
  }
 ],
 "metadata": {
  "kernelspec": {
   "display_name": "Python 3",
   "language": "python",
   "name": "python3"
  },
  "language_info": {
   "codemirror_mode": {
    "name": "ipython",
    "version": 3
   },
   "file_extension": ".py",
   "mimetype": "text/x-python",
   "name": "python",
   "nbconvert_exporter": "python",
   "pygments_lexer": "ipython3",
   "version": "3.12.0"
  }
 },
 "nbformat": 4,
 "nbformat_minor": 2
}
