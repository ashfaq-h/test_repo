{
 "cells": [
  {
   "cell_type": "markdown",
   "metadata": {},
   "source": [
    "## Geeks-for-Geeks Tuple program python questions\n",
    "https://www.geeksforgeeks.org/python-programming-examples/"
   ]
  },
  {
   "cell_type": "code",
   "execution_count": 3,
   "metadata": {},
   "outputs": [
    {
     "name": "stdout",
     "output_type": "stream",
     "text": [
      "The size of the given tuple is 88 bytes\n"
     ]
    }
   ],
   "source": [
    "# Q1 Python program to Find the size of a Tuple\n",
    "\n",
    "import sys\n",
    "def tuple_size(t):\n",
    "    print(f'The size of the given tuple is {sys.getsizeof(t)} bytes')\n",
    "\n",
    "tuple1 = (\"A\", 1, \"B\", 2, \"C\", 3)\n",
    "tuple_size(tuple1)"
   ]
  },
  {
   "cell_type": "code",
   "execution_count": 8,
   "metadata": {},
   "outputs": [
    {
     "name": "stdout",
     "output_type": "stream",
     "text": [
      "The maximum and minimum of the elements of given tuple are 9 and 1 respectively\n"
     ]
    }
   ],
   "source": [
    "# Q2 Python – Maximum and Minimum K elements in Tuple\n",
    "\n",
    "def tuple_max_min(t):\n",
    "    print(f'The maximum and minimum of the elements of given tuple are {sorted(t)[-1]} and {sorted(t)[1]} respectively')\n",
    "\n",
    "tuple1 = (2, 3, 4, 5, 1, 9, 7, 6, 1)\n",
    "tuple_max_min(tuple1)"
   ]
  },
  {
   "cell_type": "code",
   "execution_count": 17,
   "metadata": {},
   "outputs": [
    {
     "name": "stdout",
     "output_type": "stream",
     "text": [
      "The list of tuples from given list having number and its cube in each tuple is: [(3, 27), (4, 64), (5, 125), (1, 1)]\n"
     ]
    }
   ],
   "source": [
    "# Q3 Create a list of tuples from given list having number and its cube in each tuple\n",
    "\n",
    "def tuple_cube(t):\n",
    "    l = []\n",
    "    for i in t:\n",
    "        m = [i]\n",
    "        m.append(i**3)\n",
    "        l.append(tuple(m))\n",
    "    print(f'The list of tuples from given list having number and its cube in each tuple is: {l}')\n",
    "\n",
    "list_of_num = [3, 4, 5, 1]\n",
    "tuple_cube(list_of_num)"
   ]
  },
  {
   "cell_type": "code",
   "execution_count": 21,
   "metadata": {},
   "outputs": [
    {
     "name": "stdout",
     "output_type": "stream",
     "text": [
      "The final list when the given tuple is added to the list is: [3, 4, 5, 1, 2, 6, 7, 8]\n",
      "The final tuple when the given list is added to the tuple is: (2, 6, 7, 8, 3, 4, 5, 1)\n"
     ]
    }
   ],
   "source": [
    "# Q4 Python – Adding Tuple to List and vice – versa\n",
    "\n",
    "def add_list_tup(tup, lst):\n",
    "    print(f'The final list when the given tuple is added to the list is: {lst + list(tup)}')\n",
    "    print(f'The final tuple when the given list is added to the tuple is: {tuple(list(tup)+ lst)}')\n",
    "\n",
    "list_num = [3, 4, 5, 1]\n",
    "tuple_num = (2, 6, 7, 8)\n",
    "add_list_tup(tuple_num, list_num)"
   ]
  },
  {
   "cell_type": "code",
   "execution_count": 3,
   "metadata": {},
   "outputs": [
    {
     "name": "stdout",
     "output_type": "stream",
     "text": [
      "Closest pair to Kth index element in Tuple is: (19, 23)\n"
     ]
    }
   ],
   "source": [
    "# Q5 Python – Closest Pair to Kth index element in Tuple\n",
    "\n",
    "def closest_pair_k(lst, tupl, k):\n",
    "    idx = 0\n",
    "    for i in range(len(test_list)):\n",
    "        if tup[0] in test_list[i]:\n",
    "            idx = i\n",
    "            break\n",
    "        elif tup[1] in test_list[i]:\n",
    "            idx = i\n",
    "            break\n",
    "    min_diff = abs(idx - K)\n",
    "    closest_pair = test_list[idx]\n",
    "    for i in range(len(test_list)):\n",
    "        if tup[0] in test_list[i] or tup[1] in test_list[i]:\n",
    "            diff = abs(i - K)\n",
    "            if diff < min_diff:\n",
    "                min_diff\n",
    "    for i in range(len(test_list)):\n",
    "        if tup[0] in test_list[i] or tup[1] in test_list[i]:\n",
    "            diff = abs(i - K)\n",
    "            if diff < min_diff:\n",
    "                min_diff = diff\n",
    "                closest_pair = test_list[i]\n",
    "    print(\"Closest pair to Kth index element in Tuple is: \" + str(closest_pair))\n",
    "\n",
    "test_list = [(3, 4), (78, 76),(2, 3), (9, 8), (19, 23)]\n",
    "tup = (17, 23)\n",
    "k = 1\n",
    "closest_pair_k(test_list, tup, k)"
   ]
  },
  {
   "cell_type": "code",
   "execution_count": 90,
   "metadata": {},
   "outputs": [
    {
     "name": "stdout",
     "output_type": "stream",
     "text": [
      "The list of tuples after joining the similar initial element is: [(5, 6, 7, 8), (6, 10, 7), (7, 13)]\n"
     ]
    }
   ],
   "source": [
    "# Q6 Python – Join Tuples if similar initial element\n",
    "# [(5, 6), (5, 7), (5, 8), (6, 10), (6, 7), (7, 13)]  --> [(5, 6, 7, 8), (6, 10, 7), (7, 13)] \n",
    "\n",
    "def tuple_join1(test_list):\n",
    "    output = []\n",
    "    initial_ele = []\n",
    "\n",
    "    for i in test_list:\n",
    "        if i[0] not in initial_ele:\n",
    "            initial_ele.append(i[0])\n",
    "\n",
    "    for j in initial_ele:\n",
    "        first = []\n",
    "        first.append(j)\n",
    "        for k in test_list:\n",
    "            if j == k[0]:\n",
    "                first.append(k[1])\n",
    "        output.append(tuple(first))\n",
    "    print(f'The list of tuples after joining the similar initial element is: {output}')\n",
    "\n",
    "# Method 2 (not good)\n",
    "def tuple_join2(k):\n",
    "    k2 = k.copy()\n",
    "    l = []\n",
    "    for i in k:\n",
    "        l.append(i[0])\n",
    "\n",
    "    d = {}\n",
    "    for i in l:\n",
    "        d[i] = l.count(i)\n",
    "    l3 = []\n",
    "    d2 = d.copy()\n",
    "    for i in d.values():\n",
    "        l2 = [list(d2.keys())[0]]\n",
    "        for i2 in range(i):\n",
    "            l2.append(k2[i2][1])\n",
    "        k2 = k2[i2+1:]\n",
    "        del d2[list(d2.keys())[0]]\n",
    "        l3.append(tuple(l2))\n",
    "    print(f'The list of tuples after joining the similar initial element is: {l3}')\n",
    "\n",
    "\n",
    "lst = [(5, 6), (5, 7), (5, 8), (6, 10), (6, 7), (7, 13)]\n",
    "tuple_join1(lst)"
   ]
  },
  {
   "cell_type": "code",
   "execution_count": 97,
   "metadata": {},
   "outputs": [
    {
     "name": "stdout",
     "output_type": "stream",
     "text": [
      "The list of digits in the tuple list is: [1, 5, 3, 9]\n"
     ]
    }
   ],
   "source": [
    "# Q7 Python – Extract digits from Tuple list\n",
    "# [(15, 3), (3, 9)]  --> [9, 5, 3, 1]\n",
    "\n",
    "def tuple_digits(lst):\n",
    "    lst = [(15, 3), (3, 9)]\n",
    "    new_lst = []\n",
    "    for i in lst:\n",
    "        for j in i:\n",
    "            for k in str(j):\n",
    "                if int(k) not in new_lst:\n",
    "                    new_lst.append(int(k))\n",
    "    print(f'The list of digits in the tuple list is: {new_lst}')\n",
    "\n",
    "tup_lst = [(15, 3), (3, 9)]\n",
    "tuple_digits(tup_lst)"
   ]
  },
  {
   "cell_type": "code",
   "execution_count": 12,
   "metadata": {},
   "outputs": [
    {
     "name": "stdout",
     "output_type": "stream",
     "text": [
      "All pair combinations of the given 2 tuples are: [(15, 4), (4, 15), (15, 9), (9, 15), (3, 4), (4, 3), (3, 9), (9, 3)]\n"
     ]
    }
   ],
   "source": [
    "# Q8 Python – All pair combinations of 2 tuples\n",
    "# (15, 3), (4, 9) --> [(15, 3), (3, 15), (15, 4), (4, 15), (3, 4), (4, 3), (3, 9), (9, 3)]\n",
    "\n",
    "def tuple_pair_comb(tup1, tup2):\n",
    "    new_lst = []\n",
    "    for i in tup1:\n",
    "        for j in tup2:\n",
    "            new_lst.append((i, j))\n",
    "            new_lst.append((j, i))\n",
    "    print(f'All pair combinations of the given 2 tuples are: {new_lst}')\n",
    "\n",
    "tuple1 = (15, 3)\n",
    "tuple2 = (4, 9)\n",
    "tuple_pair_comb(tuple1, tuple2)"
   ]
  },
  {
   "cell_type": "code",
   "execution_count": 21,
   "metadata": {},
   "outputs": [
    {
     "name": "stdout",
     "output_type": "stream",
     "text": [
      "The new list of tuples after removing the tuples of the given length 3 is: [(4, 5), (4,), (1,), (3, 4, 6, 7)]\n"
     ]
    }
   ],
   "source": [
    "# Q9 Python – Remove Tuples of Length K\n",
    "\n",
    "def tuple_remove_k(tup_lst, k):\n",
    "    new_lst = []\n",
    "    for i in tup_lst:\n",
    "        if len(i) != k:\n",
    "            new_lst.append(i)\n",
    "    print(f'The new list of tuples after removing the tuples of the given length {k} is: {new_lst}')\n",
    "\n",
    "tuple_lst = [(4, 5), (4, ), (8, 6, 7), (1, ), (3, 4, 6, 7)]\n",
    "tup_len = int(input('Enter the length of the tuple to be removed from the list of tuples: '))\n",
    "tuple_remove_k(tuple_lst, tup_len)"
   ]
  },
  {
   "cell_type": "code",
   "execution_count": 46,
   "metadata": {},
   "outputs": [
    {
     "name": "stdout",
     "output_type": "stream",
     "text": [
      "The new list of tuples sorted by 2nd element is: [('defg', 2), ('Geeks', 8), ('for', 24), ('abcd', 30)]\n"
     ]
    }
   ],
   "source": [
    "# Q10 Sort a list of tuples by second Item\n",
    "# [('for', 24), ('Geeks', 8), ('abcd', 30), ('defg', 2)] --> [('defg', 2), ('Geeks', 8), ('for', 24), ('abcd', 30)]\n",
    "\n",
    "def tup_sort_second(tup_lst):\n",
    "    new_lst = []\n",
    "    for i in tup_lst:\n",
    "        if i[1] not in new_lst:\n",
    "            new_lst.append(i[1])\n",
    "    new_lst = sorted(new_lst)\n",
    "    \n",
    "    new_lst2 = []\n",
    "    for ele in new_lst:\n",
    "        for i in tup_lst:\n",
    "            for j in i:\n",
    "                if j == ele:\n",
    "                    new_lst2.append(i)\n",
    "    print(f'The new list of tuples sorted by 2nd element is: {new_lst2}')\n",
    "\n",
    "# Method2 --> Bubble sort method\n",
    "def sort_tuple_second_ele(tup):\n",
    "  for i in range(0, len(tup)):\n",
    "      first = i\n",
    "      for j in range(i+1, len(tup)):\n",
    "            if tup[first][1] > tup[j][1]:\n",
    "              first = j\n",
    "      tup[i], tup[first] = tup[first], tup[i]\n",
    "  print(\"Sort a list of tuple by second element : \", tup)\n",
    "\n",
    "# Method3\n",
    "def tup_sort_second3(tup_lst):\n",
    "    tup_lst.sort(key = lambda x: x[1])\n",
    "    print(f'The new list of tuples sorted by 2nd element is: {tup_lst}')\n",
    "\n",
    "# Method4\n",
    "def tup_sort_second4(tup_lst):\n",
    "    print(f'The new list of tuples sorted by 2nd element is: {sorted(tup_lst, key = lambda x: x[1])}')\n",
    "\n",
    "\n",
    "tuple_lst = [('for', 24), ('Geeks', 8), ('abcd', 30), ('defg', 2)]\n",
    "tup_sort_second(tuple_lst)"
   ]
  },
  {
   "cell_type": "code",
   "execution_count": 48,
   "metadata": {},
   "outputs": [
    {
     "name": "stdout",
     "output_type": "stream",
     "text": [
      "The new list of tuples sorted by 2nd element is: [('CS', 10), ('abcd', 7), ('best', 9), ('Gfg', 3)]\n"
     ]
    }
   ],
   "source": [
    "# Q11 Python program to Order Tuples using external List\n",
    "\n",
    "def tuple_ord_extlst(tup_lst, ord_lst):\n",
    "    new_lst = []\n",
    "    for ele in ord_lst:\n",
    "        for i in tup_lst:\n",
    "            for j in i:\n",
    "                if j == ele:\n",
    "                    new_lst.append(i)\n",
    "    print(f'The new list of tuples sorted by 2nd element is: {new_lst}')\n",
    "\n",
    "tup_lst = [('Gfg', 3), ('best', 9), ('CS', 10), ('abcd', 7)]\n",
    "ord_lst = ['CS','abcd', 'best', 'Gfg']\n",
    "tuple_ord_extlst(tup_lst, ord_lst)"
   ]
  },
  {
   "cell_type": "code",
   "execution_count": 52,
   "metadata": {},
   "outputs": [
    {
     "name": "stdout",
     "output_type": "stream",
     "text": [
      "The given flattened tuple of list to tuple is (5, 6, 6, 7, 8, 9, 3)\n"
     ]
    }
   ],
   "source": [
    "# Q12 Python – Flatten tuple of List to tuple\n",
    "\n",
    "def tuple_flat(tup):\n",
    "    new_lst = []\n",
    "    for i in tup:\n",
    "        for j in i:\n",
    "            new_lst.append(j)\n",
    "    print(f'The given flattened tuple of list to tuple is {tuple(new_lst)}')\n",
    "\n",
    "tup = ([5, 6], [6, 7, 8, 9], [3])\n",
    "tuple_flat(tup)"
   ]
  },
  {
   "cell_type": "code",
   "execution_count": null,
   "metadata": {},
   "outputs": [],
   "source": []
  },
  {
   "cell_type": "code",
   "execution_count": null,
   "metadata": {},
   "outputs": [],
   "source": []
  },
  {
   "cell_type": "code",
   "execution_count": null,
   "metadata": {},
   "outputs": [],
   "source": []
  }
 ],
 "metadata": {
  "kernelspec": {
   "display_name": "Python 3",
   "language": "python",
   "name": "python3"
  },
  "language_info": {
   "codemirror_mode": {
    "name": "ipython",
    "version": 3
   },
   "file_extension": ".py",
   "mimetype": "text/x-python",
   "name": "python",
   "nbconvert_exporter": "python",
   "pygments_lexer": "ipython3",
   "version": "3.12.0"
  }
 },
 "nbformat": 4,
 "nbformat_minor": 2
}
