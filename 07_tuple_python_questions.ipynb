{
 "cells": [
  {
   "cell_type": "markdown",
   "metadata": {},
   "source": [
    "## Geeks-for-Geeks Tuple program python questions\n",
    "https://www.geeksforgeeks.org/python-programming-examples/"
   ]
  },
  {
   "cell_type": "code",
   "execution_count": 3,
   "metadata": {},
   "outputs": [
    {
     "name": "stdout",
     "output_type": "stream",
     "text": [
      "The size of the given tuple is 88 bytes\n"
     ]
    }
   ],
   "source": [
    "# Q1 Python program to Find the size of a Tuple\n",
    "\n",
    "import sys\n",
    "def tuple_size(t):\n",
    "    print(f'The size of the given tuple is {sys.getsizeof(t)} bytes')\n",
    "\n",
    "tuple1 = (\"A\", 1, \"B\", 2, \"C\", 3)\n",
    "tuple_size(tuple1)"
   ]
  },
  {
   "cell_type": "code",
   "execution_count": 8,
   "metadata": {},
   "outputs": [
    {
     "name": "stdout",
     "output_type": "stream",
     "text": [
      "The maximum and minimum of the elements of given tuple are 9 and 1 respectively\n"
     ]
    }
   ],
   "source": [
    "# Q2 Python – Maximum and Minimum K elements in Tuple\n",
    "\n",
    "def tuple_max_min(t):\n",
    "    print(f'The maximum and minimum of the elements of given tuple are {sorted(t)[-1]} and {sorted(t)[1]} respectively')\n",
    "\n",
    "tuple1 = (2, 3, 4, 5, 1, 9, 7, 6, 1)\n",
    "tuple_max_min(tuple1)"
   ]
  },
  {
   "cell_type": "code",
   "execution_count": 17,
   "metadata": {},
   "outputs": [
    {
     "name": "stdout",
     "output_type": "stream",
     "text": [
      "The list of tuples from given list having number and its cube in each tuple is: [(3, 27), (4, 64), (5, 125), (1, 1)]\n"
     ]
    }
   ],
   "source": [
    "# Q3 Create a list of tuples from given list having number and its cube in each tuple\n",
    "\n",
    "def tuple_cube(t):\n",
    "    l = []\n",
    "    for i in t:\n",
    "        m = [i]\n",
    "        m.append(i**3)\n",
    "        l.append(tuple(m))\n",
    "    print(f'The list of tuples from given list having number and its cube in each tuple is: {l}')\n",
    "\n",
    "list_of_num = [3, 4, 5, 1]\n",
    "tuple_cube(list_of_num)"
   ]
  },
  {
   "cell_type": "code",
   "execution_count": 19,
   "metadata": {},
   "outputs": [
    {
     "name": "stdout",
     "output_type": "stream",
     "text": [
      "The final list when the given tuple is added to the list is: [2, 6, 7, 8, 3, 4, 5, 1]\n",
      "The final tuple when the given list is added to the tuple is: (3, 4, 5, 1, 2, 6, 7, 8)\n"
     ]
    }
   ],
   "source": [
    "# Q4 Python – Adding Tuple to List and vice – versa\n",
    "\n",
    "def add_list_tup(tup, lst):\n",
    "    print(f'The final list when the given tuple is added to the list is: {list(tup) + lst}')\n",
    "    print(f'The final tuple when the given list is added to the tuple is: {tuple(lst + list(tup))}')\n",
    "\n",
    "list_num = [3, 4, 5, 1]\n",
    "tuple_num = (2, 6, 7, 8)\n",
    "add_list_tup(tuple_num, list_num)"
   ]
  },
  {
   "cell_type": "code",
   "execution_count": null,
   "metadata": {},
   "outputs": [],
   "source": []
  }
 ],
 "metadata": {
  "kernelspec": {
   "display_name": "Python 3",
   "language": "python",
   "name": "python3"
  },
  "language_info": {
   "codemirror_mode": {
    "name": "ipython",
    "version": 3
   },
   "file_extension": ".py",
   "mimetype": "text/x-python",
   "name": "python",
   "nbconvert_exporter": "python",
   "pygments_lexer": "ipython3",
   "version": "3.12.0"
  }
 },
 "nbformat": 4,
 "nbformat_minor": 2
}
