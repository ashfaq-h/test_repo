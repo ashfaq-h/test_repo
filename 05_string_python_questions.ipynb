{
  "nbformat": 4,
  "nbformat_minor": 0,
  "metadata": {
    "colab": {
      "provenance": []
    },
    "kernelspec": {
      "name": "python3",
      "display_name": "Python 3"
    },
    "language_info": {
      "name": "python"
    }
  },
  "cells": [
    {
      "cell_type": "markdown",
      "source": [
        "## Geeks-for-Geeks String program python questions\n",
        "https://www.geeksforgeeks.org/python-programming-examples/"
      ],
      "metadata": {
        "id": "ff9iFra_i_a9"
      }
    },
    {
      "cell_type": "code",
      "source": [
        "# Q1 Python program to check if a string is palindrome or not\n",
        "\n",
        "def string_palindrome(s):\n",
        "  if s == s[::-1]:\n",
        "    print('The given string is Palindrome')\n",
        "  else:\n",
        "    print('The given string is not Palindrome')\n",
        "\n",
        "\n",
        "def string_palindrome2(s):\n",
        "  new = ''\n",
        "  for i in s:\n",
        "    new = i + new\n",
        "  if new == s:\n",
        "    print('The given string is Palindrome')\n",
        "  else:\n",
        "    print('The given string is not Palindrome')\n",
        "\n",
        "\n",
        "string1 = 'abcdef'\n",
        "string2 = 'malayalam'\n",
        "\n",
        "string_palindrome2(string2)"
      ],
      "metadata": {
        "id": "X9ulAJpU-eh9",
        "colab": {
          "base_uri": "https://localhost:8080/"
        },
        "outputId": "51198d51-0c1f-44d4-e28c-7cfe2756ecd8"
      },
      "execution_count": null,
      "outputs": [
        {
          "output_type": "stream",
          "name": "stdout",
          "text": [
            "The given string is Palindrome\n"
          ]
        }
      ]
    },
    {
      "cell_type": "code",
      "source": [
        "# Q2 Python program to check whether the string is Symmetrical or Palindrome\n",
        "\n",
        "def string_palin_symm(s):\n",
        "  s2 = ''\n",
        "  for i in s:\n",
        "    s2 = i + s2\n",
        "  if s[:len(s)//2] == s[len(s)//2:] and s == s2:\n",
        "    print(f'The given string \"{s}\" is both symmetrical and palindrome')\n",
        "  elif s[:len(s)//2] == s[len(s)//2:]:\n",
        "    print(f'The given string \"{s}\" is symmetrical and not palindrome')\n",
        "  elif s == s2:\n",
        "    print(f'The given string \"{s}\" is palindrome but not symmetrical')\n",
        "  else:\n",
        "    print(f'The given string \"{s}\" is neither symmetrical nor palindrome')\n",
        "\n",
        "string1 = 'malayalam'\n",
        "string2 = 'amaama'\n",
        "string3 = 'abcdef'\n",
        "\n",
        "string_palin_symm(string2)"
      ],
      "metadata": {
        "id": "GgaOa6xCK-OO",
        "colab": {
          "base_uri": "https://localhost:8080/"
        },
        "outputId": "63897ee1-4a5a-419e-823e-a67b28ca8645"
      },
      "execution_count": null,
      "outputs": [
        {
          "output_type": "stream",
          "name": "stdout",
          "text": [
            "The given string \"amaama\" is both symmetrical and palindrome\n"
          ]
        }
      ]
    },
    {
      "cell_type": "code",
      "source": [
        "# Q3 Reverse words in a given String in Python\n",
        "\n",
        "def string_reverse(s):\n",
        "  s2 = ''\n",
        "  for i in s:\n",
        "    s2 = i + s2\n",
        "  print(f'The reverse of the given string \"{s}\" is: \"{s2}\"')\n",
        "\n",
        "string1 = 'abcdefg'\n",
        "string_reverse(string1)"
      ],
      "metadata": {
        "colab": {
          "base_uri": "https://localhost:8080/"
        },
        "id": "dPxHEK6640it",
        "outputId": "93f5db93-8ed1-4f66-dc41-46ef2551a687"
      },
      "execution_count": null,
      "outputs": [
        {
          "output_type": "stream",
          "name": "stdout",
          "text": [
            "The reverse of the given string \"abcdefg\" is: \"gfedcba\"\n"
          ]
        }
      ]
    },
    {
      "cell_type": "code",
      "source": [
        "# Q4 Ways to remove i’th character from string in Python\n",
        "\n",
        "def string_ithremove(s, i):\n",
        "  k = ''\n",
        "  for j in s:\n",
        "    if j == s[i:i+1]:\n",
        "      pass\n",
        "    else:\n",
        "      k += j\n",
        "  print(f'The string after removing the given string \"{s}\" is: \"{k}\"')\n",
        "\n",
        "string1 = 'abcdefg'\n",
        "i = int(input('Enter the index of the string to be removed: '))\n",
        "\n",
        "string_ithremove(string1, i)"
      ],
      "metadata": {
        "colab": {
          "base_uri": "https://localhost:8080/"
        },
        "id": "w-Ojjs7-40lO",
        "outputId": "77e0f5e2-1991-4203-ec5b-2a46d61a6688"
      },
      "execution_count": null,
      "outputs": [
        {
          "output_type": "stream",
          "name": "stdout",
          "text": [
            "Enter the index of the string to be removed: 4\n",
            "The string after removing the given string \"abcdefg\" is: \"abcdfg\"\n"
          ]
        }
      ]
    },
    {
      "cell_type": "code",
      "source": [
        "# Q5 Python | Check if a Substring is Present in a Given String\n",
        "\n",
        "def substring_check(s, sub):\n",
        "  if sub in s:\n",
        "    print(f'The given substring \"{sub}\" is Present in the string \"{s}\"')\n",
        "  else:\n",
        "    print(f'The given substring \"{sub}\" is Not Present in the string \"{s}\"')\n",
        "\n",
        "string1 = 'string is strong'\n",
        "subs = str(input('Enter the substring to be found in the string: '))\n",
        "\n",
        "substring_check(string1, subs)"
      ],
      "metadata": {
        "colab": {
          "base_uri": "https://localhost:8080/"
        },
        "id": "KzzJt55Y_jOB",
        "outputId": "a908e6da-4b3e-4e84-f7dd-42908c97e229"
      },
      "execution_count": null,
      "outputs": [
        {
          "output_type": "stream",
          "name": "stdout",
          "text": [
            "Enter the substring to be found in the string: ong\n",
            "The given substring \"ong\" is Present in the string \"string is strong\"\n"
          ]
        }
      ]
    },
    {
      "cell_type": "code",
      "source": [
        "# Q6 Python – Words Frequency in String Shorthands\n",
        "\n",
        "def word_freq(s):\n",
        "  l1 = s.split()\n",
        "  count = {}\n",
        "  for i in l1:\n",
        "    if i in count:\n",
        "      count[i] += 1\n",
        "    else:\n",
        "      count[i] = 1\n",
        "  print(f'The word count of the given string \"{s}\" is: {count}')\n",
        "\n",
        "sent = \"Apple Mango Orange Mango Guava Guava Mango\"\n",
        "word_freq(sent)"
      ],
      "metadata": {
        "id": "IKGy-pxX_jQR",
        "colab": {
          "base_uri": "https://localhost:8080/"
        },
        "outputId": "fac5bca2-7999-4b43-8882-7efd25f633d0"
      },
      "execution_count": 3,
      "outputs": [
        {
          "output_type": "stream",
          "name": "stdout",
          "text": [
            "The word count of the given string \"Apple Mango Orange Mango Guava Guava Mango\" is: {'Apple': 1, 'Mango': 3, 'Orange': 1, 'Guava': 2}\n"
          ]
        }
      ]
    },
    {
      "cell_type": "code",
      "source": [
        "# Q7 Python – Convert Snake case to Pascal case\n",
        "\n",
        "def snake_to_pascal(s):\n",
        "  k = s.split(\"_\")\n",
        "  res = []\n",
        "  for i in k:\n",
        "    i = i.capitalize()\n",
        "    res.append(i)\n",
        "  res = \"\".join(res)\n",
        "  print(f'The string after changing case is : {str(res)}')\n",
        "\n",
        "string = 'convert_this_string'\n",
        "snake_to_pascal(string)"
      ],
      "metadata": {
        "id": "M_DkDmNmevwk",
        "colab": {
          "base_uri": "https://localhost:8080/"
        },
        "outputId": "da3512a7-f241-4997-c6d7-e4f162776f37"
      },
      "execution_count": 6,
      "outputs": [
        {
          "output_type": "stream",
          "name": "stdout",
          "text": [
            "The string after changing case is : ConvertThisString\n"
          ]
        }
      ]
    },
    {
      "cell_type": "code",
      "source": [],
      "metadata": {
        "id": "m7hhPn6TVGW9"
      },
      "execution_count": null,
      "outputs": []
    },
    {
      "cell_type": "code",
      "source": [],
      "metadata": {
        "id": "sm4ZTlb0VH0t"
      },
      "execution_count": null,
      "outputs": []
    }
  ]
}