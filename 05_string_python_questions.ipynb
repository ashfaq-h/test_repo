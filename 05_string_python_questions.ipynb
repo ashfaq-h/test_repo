{
  "nbformat": 4,
  "nbformat_minor": 0,
  "metadata": {
    "colab": {
      "provenance": []
    },
    "kernelspec": {
      "name": "python3",
      "display_name": "Python 3"
    },
    "language_info": {
      "name": "python"
    }
  },
  "cells": [
    {
      "cell_type": "markdown",
      "source": [
        "## Geeks-for-Geeks String program python questions\n",
        "https://www.geeksforgeeks.org/python-programming-examples/"
      ],
      "metadata": {
        "id": "ff9iFra_i_a9"
      }
    },
    {
      "cell_type": "code",
      "source": [
        "# Q1 Python program to check if a string is palindrome or not\n",
        "\n",
        "def string_palindrome(s):\n",
        "  if s == s[::-1]:\n",
        "    print('The given string is Palindrome')\n",
        "  else:\n",
        "    print('The given string is not Palindrome')\n",
        "\n",
        "\n",
        "def string_palindrome2(s):\n",
        "  new = ''\n",
        "  for i in s:\n",
        "    new = i + new\n",
        "  if new == s:\n",
        "    print('The given string is Palindrome')\n",
        "  else:\n",
        "    print('The given string is not Palindrome')\n",
        "\n",
        "\n",
        "string1 = 'abcdef'\n",
        "string2 = 'malayalam'\n",
        "\n",
        "string_palindrome2(string2)"
      ],
      "metadata": {
        "id": "X9ulAJpU-eh9",
        "colab": {
          "base_uri": "https://localhost:8080/"
        },
        "outputId": "51198d51-0c1f-44d4-e28c-7cfe2756ecd8"
      },
      "execution_count": null,
      "outputs": [
        {
          "output_type": "stream",
          "name": "stdout",
          "text": [
            "The given string is Palindrome\n"
          ]
        }
      ]
    },
    {
      "cell_type": "code",
      "source": [
        "# Q2 Python program to check whether the string is Symmetrical or Palindrome\n",
        "\n",
        "def string_palin_symm(s):\n",
        "  s2 = ''\n",
        "  for i in s:\n",
        "    s2 = i + s2\n",
        "  if s[:len(s)//2] == s[len(s)//2:] and s == s2:\n",
        "    print(f'The given string \"{s}\" is both symmetrical and palindrome')\n",
        "  elif s[:len(s)//2] == s[len(s)//2:]:\n",
        "    print(f'The given string \"{s}\" is symmetrical and not palindrome')\n",
        "  elif s == s2:\n",
        "    print(f'The given string \"{s}\" is palindrome but not symmetrical')\n",
        "  else:\n",
        "    print(f'The given string \"{s}\" is neither symmetrical nor palindrome')\n",
        "\n",
        "string1 = 'malayalam'\n",
        "string2 = 'amaama'\n",
        "string3 = 'abcdef'\n",
        "\n",
        "string_palin_symm(string2)"
      ],
      "metadata": {
        "id": "GgaOa6xCK-OO",
        "colab": {
          "base_uri": "https://localhost:8080/"
        },
        "outputId": "63897ee1-4a5a-419e-823e-a67b28ca8645"
      },
      "execution_count": null,
      "outputs": [
        {
          "output_type": "stream",
          "name": "stdout",
          "text": [
            "The given string \"amaama\" is both symmetrical and palindrome\n"
          ]
        }
      ]
    },
    {
      "cell_type": "code",
      "source": [
        "# Q3 Reverse words in a given String in Python\n",
        "\n",
        "def string_reverse(s):\n",
        "  s2 = ''\n",
        "  for i in s:\n",
        "    s2 = i + s2\n",
        "  print(f'The reverse of the given string \"{s}\" is: \"{s2}\"')\n",
        "\n",
        "string1 = 'abcdefg'\n",
        "string_reverse(string1)"
      ],
      "metadata": {
        "colab": {
          "base_uri": "https://localhost:8080/"
        },
        "id": "dPxHEK6640it",
        "outputId": "93f5db93-8ed1-4f66-dc41-46ef2551a687"
      },
      "execution_count": null,
      "outputs": [
        {
          "output_type": "stream",
          "name": "stdout",
          "text": [
            "The reverse of the given string \"abcdefg\" is: \"gfedcba\"\n"
          ]
        }
      ]
    },
    {
      "cell_type": "code",
      "source": [
        "# Q4 Ways to remove i’th character from string in Python\n",
        "\n",
        "def string_ithremove(s, i):\n",
        "  k = ''\n",
        "  for j in s:\n",
        "    if j == s[i:i+1]:\n",
        "      pass\n",
        "    else:\n",
        "      k += j\n",
        "  print(f'The string after removing the given string \"{s}\" is: \"{k}\"')\n",
        "\n",
        "string1 = 'abcdefg'\n",
        "i = int(input('Enter the index of the string to be removed: '))\n",
        "\n",
        "string_ithremove(string1, i)"
      ],
      "metadata": {
        "colab": {
          "base_uri": "https://localhost:8080/"
        },
        "id": "w-Ojjs7-40lO",
        "outputId": "77e0f5e2-1991-4203-ec5b-2a46d61a6688"
      },
      "execution_count": null,
      "outputs": [
        {
          "output_type": "stream",
          "name": "stdout",
          "text": [
            "Enter the index of the string to be removed: 4\n",
            "The string after removing the given string \"abcdefg\" is: \"abcdfg\"\n"
          ]
        }
      ]
    },
    {
      "cell_type": "code",
      "source": [
        "# Q5 Python | Check if a Substring is Present in a Given String\n",
        "\n",
        "def substring_check(s, sub):\n",
        "  if sub in s:\n",
        "    print(f'The given substring \"{sub}\" is Present in the string \"{s}\"')\n",
        "  else:\n",
        "    print(f'The given substring \"{sub}\" is Not Present in the string \"{s}\"')\n",
        "\n",
        "string1 = 'string is strong'\n",
        "subs = str(input('Enter the substring to be found in the string: '))\n",
        "\n",
        "substring_check(string1, subs)"
      ],
      "metadata": {
        "colab": {
          "base_uri": "https://localhost:8080/"
        },
        "id": "KzzJt55Y_jOB",
        "outputId": "a908e6da-4b3e-4e84-f7dd-42908c97e229"
      },
      "execution_count": null,
      "outputs": [
        {
          "output_type": "stream",
          "name": "stdout",
          "text": [
            "Enter the substring to be found in the string: ong\n",
            "The given substring \"ong\" is Present in the string \"string is strong\"\n"
          ]
        }
      ]
    },
    {
      "cell_type": "code",
      "source": [
        "# Q6 Python – Words Frequency in String Shorthands\n",
        "\n",
        "def word_freq(s):\n",
        "  l1 = s.split()\n",
        "  count = {}\n",
        "  for i in l1:\n",
        "    if i in count:\n",
        "      count[i] += 1\n",
        "    else:\n",
        "      count[i] = 1\n",
        "  print(f'The word count of the given string \"{s}\" is: {count}')\n",
        "\n",
        "sent = \"Apple Mango Orange Mango Guava Guava Mango\"\n",
        "word_freq(sent)"
      ],
      "metadata": {
        "id": "IKGy-pxX_jQR",
        "colab": {
          "base_uri": "https://localhost:8080/"
        },
        "outputId": "fac5bca2-7999-4b43-8882-7efd25f633d0"
      },
      "execution_count": null,
      "outputs": [
        {
          "output_type": "stream",
          "name": "stdout",
          "text": [
            "The word count of the given string \"Apple Mango Orange Mango Guava Guava Mango\" is: {'Apple': 1, 'Mango': 3, 'Orange': 1, 'Guava': 2}\n"
          ]
        }
      ]
    },
    {
      "cell_type": "code",
      "source": [
        "# Q7 Python – Convert Snake case to Pascal case\n",
        "\n",
        "def snake_to_pascal(s):\n",
        "  k = s.split(\"_\")\n",
        "  res = []\n",
        "  for i in k:\n",
        "    i = i.capitalize()\n",
        "    res.append(i)\n",
        "  res = \"\".join(res)\n",
        "  print(f'The string after changing case is : {str(res)}')\n",
        "\n",
        "string = 'convert_this_string'\n",
        "snake_to_pascal(string)"
      ],
      "metadata": {
        "id": "M_DkDmNmevwk",
        "colab": {
          "base_uri": "https://localhost:8080/"
        },
        "outputId": "da3512a7-f241-4997-c6d7-e4f162776f37"
      },
      "execution_count": null,
      "outputs": [
        {
          "output_type": "stream",
          "name": "stdout",
          "text": [
            "The string after changing case is : ConvertThisString\n"
          ]
        }
      ]
    },
    {
      "cell_type": "code",
      "source": [
        "# Q8 Find length of a string in python\n",
        "\n",
        "def string_len(s):\n",
        "  count = 0\n",
        "  for i in s:\n",
        "    count += 1\n",
        "  print(f'1. The length of the given string \"{s}\" is: {count}')\n",
        "\n",
        "\n",
        "def string_len2(s):\n",
        "  print(f'2. The length of the given string \"{s}\" is: {len(s)}')\n",
        "\n",
        "string = 'this string'\n",
        "string_len2(string)"
      ],
      "metadata": {
        "colab": {
          "base_uri": "https://localhost:8080/"
        },
        "id": "m7hhPn6TVGW9",
        "outputId": "e942a3cd-a21c-4e6f-c45a-47a8afb53b51"
      },
      "execution_count": null,
      "outputs": [
        {
          "output_type": "stream",
          "name": "stdout",
          "text": [
            "2. The length of the given string \"this string\" is: 11\n"
          ]
        }
      ]
    },
    {
      "cell_type": "code",
      "source": [
        "# Q9 Python program to print even length words in a string\n",
        "\n",
        "def even_len_word(s):\n",
        "  l1 = s.split()\n",
        "  even_list = []\n",
        "  for i in l1:\n",
        "    if len(i)%2 == 0:\n",
        "      even_list.append(i)\n",
        "  print(f'The string with just even length of words is: \"{\" \".join(even_list)}\"')\n",
        "\n",
        "string = 'this string is a good one'\n",
        "even_len_word(string)"
      ],
      "metadata": {
        "id": "J4QDLqcUVmCs",
        "colab": {
          "base_uri": "https://localhost:8080/"
        },
        "outputId": "1b44317a-029b-442e-8a65-bdf9c6b1fcee"
      },
      "execution_count": null,
      "outputs": [
        {
          "output_type": "stream",
          "name": "stdout",
          "text": [
            "The string with just even length of words is: \"this string is good\"\n"
          ]
        }
      ]
    },
    {
      "cell_type": "code",
      "source": [
        "# Q10 Python program to accept the strings which contains all vowels:\n",
        "\n",
        "def all_vowels(s):\n",
        "  s2 = list(set(s))\n",
        "  s1 = list('aeiou')\n",
        "  s3 = []\n",
        "  for i in s1:\n",
        "    if i in s2:\n",
        "      s3.append(i)\n",
        "\n",
        "  if len(s1) == len(s3):\n",
        "    print(f'1. The given string \"{s}\" is Accepted, as it has all the vowels')\n",
        "  else:\n",
        "    print(f'1. The given string \"{s}\" is Not Accepted, as it does not have all the vowels')\n",
        "\n",
        "# method2 --> using the standard function - intersection()\n",
        "def all_vowels2(s):\n",
        "    if len(set(s).intersection(\"aeiou\")) == 5:\n",
        "        print(f'2. The given string \"{s}\" is Accepted, as it has all the vowels')\n",
        "    else:\n",
        "        print(f'2. The given string \"{s}\" is Not Accepted, as it does not have all the vowels')\n",
        "\n",
        "string = 'olisudgvliuvaebiu'\n",
        "all_vowels2(string)"
      ],
      "metadata": {
        "colab": {
          "base_uri": "https://localhost:8080/"
        },
        "id": "4KPyYJUOyZo5",
        "outputId": "ed237625-8301-4901-f15b-d7420c8ec5b7"
      },
      "execution_count": null,
      "outputs": [
        {
          "output_type": "stream",
          "name": "stdout",
          "text": [
            "2. The given string \"olisudgvliuvaebiu\" is Accepted, as it has all the vowels\n"
          ]
        }
      ]
    },
    {
      "cell_type": "code",
      "source": [
        "# Q11 Python | Count the Number of matching characters in a pair of string\n",
        "\n",
        "def charac_match_count(s1, s2):\n",
        "  new_str = \"\"\n",
        "  for i in s1:\n",
        "    if i in s2:\n",
        "      new_str += i\n",
        "  print(f'The count of the number of matching charatcers in the given strings \"{s1}\" and \"{s2}\" is: {len(set(new_str))}')\n",
        "\n",
        "string1 = 'aabcddekll12@'\n",
        "string2 = 'bb22ll@55k'\n",
        "charac_match_count(string1, string2)"
      ],
      "metadata": {
        "colab": {
          "base_uri": "https://localhost:8080/"
        },
        "id": "5baGw1ikyZv-",
        "outputId": "a852a8b0-f475-448d-cb82-a7fee016a80d"
      },
      "execution_count": null,
      "outputs": [
        {
          "output_type": "stream",
          "name": "stdout",
          "text": [
            "The count of the number of matching charatcers in the given strings \"aabcddekll12@\" and \"bb22ll@55k\" is: 5\n"
          ]
        }
      ]
    },
    {
      "cell_type": "code",
      "source": [
        "# Q12 Remove all duplicates from a given string in Python\n",
        "\n",
        "def remove_dup(s):\n",
        "  print(f'The final string after removing all the duplicates is: {\"\".join(set(s))}')\n",
        "\n",
        "\n",
        "# method2 --> the elemets are in order of the given string\n",
        "def remove_dup2(s):\n",
        "  k = \"\"\n",
        "  for i in s:\n",
        "    if i in k:\n",
        "      pass\n",
        "    else:\n",
        "      k += i\n",
        "  print(f'The final string after removing all the duplicates is: {k}')\n",
        "\n",
        "string1 = 'aabcddekll12@'\n",
        "remove_dup2(string1)"
      ],
      "metadata": {
        "id": "sm4ZTlb0VH0t",
        "colab": {
          "base_uri": "https://localhost:8080/"
        },
        "outputId": "392e7f00-4ff7-4b7d-fb3c-ba7d43da705b"
      },
      "execution_count": null,
      "outputs": [
        {
          "output_type": "stream",
          "name": "stdout",
          "text": [
            "The final string after removing all the duplicates is: abcdekl12@\n"
          ]
        }
      ]
    },
    {
      "cell_type": "code",
      "source": [
        "# Q13 Python – Least Frequent Character in String\n",
        "\n",
        "def least_freq(s):\n",
        "  k = {}\n",
        "  for i in s:\n",
        "    if i in k:\n",
        "      k[i]+= 1\n",
        "    else:\n",
        "      k[i]=1\n",
        "\n",
        "  new_s = ''\n",
        "  for i in k:\n",
        "    if k[i] == min(k.values()):\n",
        "      new_s += \"\".join(i)\n",
        "\n",
        "  print(f'The least frequest character in the given string \"{s}\" is: {min(new_s)}')\n",
        "\n",
        "string = 'GeeksforGeeks'\n",
        "least_freq(string)"
      ],
      "metadata": {
        "id": "mhKrjtdXC1mT",
        "colab": {
          "base_uri": "https://localhost:8080/"
        },
        "outputId": "784221f9-8048-40bc-80f9-5e6af4be8167"
      },
      "execution_count": null,
      "outputs": [
        {
          "output_type": "stream",
          "name": "stdout",
          "text": [
            "The least frequest character in the given string \"GeeksforGeeks\" is: f\n"
          ]
        }
      ]
    },
    {
      "cell_type": "code",
      "source": [
        "# Q14 Python | Maximum frequency character in String\n",
        "\n",
        "def most_freq(s):\n",
        "  k = {}\n",
        "  for i in s:\n",
        "    if i in k:\n",
        "      k[i]+= 1\n",
        "    else:\n",
        "      k[i]=1\n",
        "\n",
        "  max_list = []\n",
        "  for i in k:\n",
        "    if k[i] == max(k.values()):\n",
        "      max_list.append(i)\n",
        "\n",
        "  print(f'The least frequest character in the given string \"{s}\" is: {max(\"\".join(max_list))}')\n",
        "\n",
        "string = 'GeeksforGeeks'\n",
        "most_freq(string)"
      ],
      "metadata": {
        "id": "16e68DXuC1od",
        "colab": {
          "base_uri": "https://localhost:8080/"
        },
        "outputId": "2fab6c38-0bb3-4e63-9a9d-8ce1f16821b3"
      },
      "execution_count": null,
      "outputs": [
        {
          "output_type": "stream",
          "name": "stdout",
          "text": [
            "The least frequest character in the given string \"GeeksforGeeks\" is: e\n"
          ]
        }
      ]
    },
    {
      "cell_type": "code",
      "source": [
        "# Q15 Python | Program to check if a string contains any special character\n",
        "\n",
        "def special_char(s):\n",
        "  special_char = '[@_!#$%^&*()<>?/\\|}{~:]'\n",
        "  c = 0\n",
        "  for i in s:\n",
        "    if i in special_char:\n",
        "      c += 1\n",
        "\n",
        "  if c>0:\n",
        "    print(f'The given string \"{s}\" contain special character/s')\n",
        "  else:\n",
        "    print(f'The given string \"{s}\" do not contain special character/s')\n",
        "\n",
        "string = 'Geeksfor@Geeks'\n",
        "special_char(string)"
      ],
      "metadata": {
        "colab": {
          "base_uri": "https://localhost:8080/"
        },
        "id": "HyeGmRFR4uoV",
        "outputId": "dade21de-41f9-42d8-edd3-11cd95cca54a"
      },
      "execution_count": null,
      "outputs": [
        {
          "output_type": "stream",
          "name": "stdout",
          "text": [
            "The given string \"Geeksfor@Geeks\" contain special character/s\n"
          ]
        }
      ]
    },
    {
      "cell_type": "code",
      "source": [
        "# Q16 Generating random strings until a given string is generated\n",
        "\n",
        "# Python program to generate and match\n",
        "# the string from all random strings\n",
        "# of same length\n",
        "\n",
        "# Importing string, random\n",
        "# and time modules\n",
        "import string\n",
        "import random\n",
        "import time\n",
        "\n",
        "# all possible characters including\n",
        "# lowercase, uppercase and special symbols\n",
        "possibleCharacters = string.ascii_lowercase + string.digits + string.ascii_uppercase + ' ., !?;:'\n",
        "\n",
        "# string to be generated\n",
        "t = \"s\"\n",
        "\n",
        "# To take input from user\n",
        "# t = input(str(\"Enter your target text: \"))\n",
        "\n",
        "attemptThis = ''.join(random.choice(possibleCharacters)\n",
        "\t\t\t\t\t\t\t\tfor i in range(len(t)))\n",
        "attemptNext = ''\n",
        "\n",
        "completed = False\n",
        "iteration = 0\n",
        "\n",
        "# Iterate while completed is false\n",
        "while completed == False:\n",
        "\tprint(attemptThis)\n",
        "\n",
        "\tattemptNext = ''\n",
        "\tcompleted = True\n",
        "\n",
        "\t# Fix the index if matches with\n",
        "\t# the strings to be generated\n",
        "\tfor i in range(len(t)):\n",
        "\t\tif attemptThis[i] != t[i]:\n",
        "\t\t\tcompleted = False\n",
        "\t\t\tattemptNext += random.choice(possibleCharacters)\n",
        "\t\telse:\n",
        "\t\t\tattemptNext += t[i]\n",
        "\n",
        "\t# increment the iteration\n",
        "\titeration += 1\n",
        "\tattemptThis = attemptNext\n",
        "\ttime.sleep(0.1)\n",
        "\n",
        "# Driver Code\n",
        "print(\"Target matched after \" +\n",
        "\tstr(iteration) + \" iterations\")\n"
      ],
      "metadata": {
        "colab": {
          "base_uri": "https://localhost:8080/"
        },
        "id": "u53qtB149eon",
        "outputId": "42741871-107a-4f51-f288-469bb089187d"
      },
      "execution_count": null,
      "outputs": [
        {
          "output_type": "stream",
          "name": "stdout",
          "text": [
            "5\n",
            "O\n",
            "i\n",
            "Y\n",
            ":\n",
            "Y\n",
            "H\n",
            "O\n",
            "M\n",
            "Q\n",
            "q\n",
            "s\n",
            "Target matched after 12 iterations\n"
          ]
        }
      ]
    },
    {
      "cell_type": "code",
      "source": [
        "# Q17 Find words which are greater than given length k\n",
        "\n",
        "def greater_k(s, l):\n",
        "  s2 = s.split(\" \")\n",
        "  l1 = []\n",
        "  for i in s2:\n",
        "    if len(str(i)) > l:\n",
        "      l1.append(i)\n",
        "  print(f'The words which are lengthier than {l} charatcers are: \"{\" \".join(l1)}\"')\n",
        "\n",
        "string = 'words which are greater than'\n",
        "n = int(input('Enter the value of \"k\" for the length of the words: '))\n",
        "greater_k(string, n)"
      ],
      "metadata": {
        "colab": {
          "base_uri": "https://localhost:8080/"
        },
        "id": "Z4O0oLtP9eqs",
        "outputId": "1c48f2d3-9f9d-4670-9fdb-ed80045d4d8d"
      },
      "execution_count": null,
      "outputs": [
        {
          "output_type": "stream",
          "name": "stdout",
          "text": [
            "Enter the value of \"k\" for the length of the words: 4\n",
            "The words which are lengthier than 4 charatcers are: \"words which greater\"\n"
          ]
        }
      ]
    },
    {
      "cell_type": "code",
      "source": [
        "# Q18 Python program for removing i-th character from a string\n",
        "# repeated 4th question\n",
        "\n",
        "def string_ithremove(s, i):\n",
        "  k = ''\n",
        "  for j in s:\n",
        "    if j == s[i:i+1]:\n",
        "      pass\n",
        "    else:\n",
        "      k += j\n",
        "  print(f'The string after removing the given string \"{s}\" is: \"{k}\"')\n",
        "\n",
        "string1 = 'abcdefg'\n",
        "i = int(input('Enter the index of the string to be removed: '))\n",
        "\n",
        "string_ithremove(string1, i)"
      ],
      "metadata": {
        "colab": {
          "base_uri": "https://localhost:8080/"
        },
        "id": "XQq0azcu_fSm",
        "outputId": "8c55c96a-f458-4aa1-8c18-ef03338e19f5"
      },
      "execution_count": null,
      "outputs": [
        {
          "output_type": "stream",
          "name": "stdout",
          "text": [
            "Enter the index of the string to be removed: 3\n",
            "The string after removing the given string \"abcdefg\" is: \"abcefg\"\n"
          ]
        }
      ]
    },
    {
      "cell_type": "code",
      "source": [
        "# Q19 Python program to split and join a string\n",
        "\n",
        "def split_join_string(s, delimiter):\n",
        "  l  = s.split(\" \")\n",
        "  print(f'The split string is: {l}')\n",
        "  k = f\"{delimiter}\".join(l)\n",
        "  print(f'The string after joining by the given delimeter \"{delimiter}\" is: {k}')\n",
        "\n",
        "string = 'words which are greater than'\n",
        "de = (input('Enter the value of delimuer for the string to be joined with: '))\n",
        "split_join_string(string, de)"
      ],
      "metadata": {
        "colab": {
          "base_uri": "https://localhost:8080/"
        },
        "id": "FrH0bbGUpZuU",
        "outputId": "520037fa-1a32-48ae-9603-c8711d49ffef"
      },
      "execution_count": null,
      "outputs": [
        {
          "output_type": "stream",
          "name": "stdout",
          "text": [
            "Enter the value of delimuer for the string to be joined with: #\n",
            "The split string is: ['words', 'which', 'are', 'greater', 'than']\n",
            "The string after joining by the given delimeter \"#\" is: words#which#are#greater#than\n"
          ]
        }
      ]
    },
    {
      "cell_type": "code",
      "source": [
        "# Q20 Python | Check if a given string is binary string or not\n",
        "\n",
        "def binary_str_check(s):\n",
        "  k = set(s)\n",
        "  if k == {'0', '1'} or k == {'0'} or k == {'1'}:\n",
        "    print(f'2. The given string \"{s}\" is Binary.')\n",
        "  else:\n",
        "    print(f'1. The given string \"{s}\" is Not Binary.')\n",
        "\n",
        "\n",
        "# Method 2\n",
        "def binary_str_check2(s):\n",
        "  for i in s:\n",
        "    if i != '0' and i != '1':\n",
        "      return print(f'2. The given string \"{s}\" is Not Binary.')\n",
        "  return print(f'2. The given string \"{s}\" is Binary.')\n",
        "\n",
        "\n",
        "string = \"1001011\"\n",
        "binary_str_check2(string)"
      ],
      "metadata": {
        "colab": {
          "base_uri": "https://localhost:8080/"
        },
        "id": "rGdg-EhXpZ1C",
        "outputId": "c08b1f60-d172-4db1-94eb-3394354e14d7"
      },
      "execution_count": null,
      "outputs": [
        {
          "output_type": "stream",
          "name": "stdout",
          "text": [
            "The given string \"1001011\" is Binary.\n"
          ]
        }
      ]
    },
    {
      "cell_type": "code",
      "source": [
        "# Q21 Python program to find uncommon words from two Strings\n",
        "\n",
        "def uncommon_words(s1, s2):\n",
        "  s3 = s1.split(\" \")\n",
        "  s4 = s2.split(' ')\n",
        "  l1 = []\n",
        "  for i in s3:\n",
        "    if i not in s4:\n",
        "      l1.append(i)\n",
        "  for i in s4:\n",
        "    if i not in s3:\n",
        "      l1.append(i)\n",
        "  print(f'The uncommon words between the given strings \"{s1}\" and \"{s2}\" are: {l1}')\n",
        "\n",
        "string1 = 'program to find uncommon words from'\n",
        "string2 = 'program to be found uncommon words are'\n",
        "uncommon_words(string1, string2)"
      ],
      "metadata": {
        "colab": {
          "base_uri": "https://localhost:8080/"
        },
        "id": "RhciKlPRvPYA",
        "outputId": "0f85f04c-c26b-4fe2-9631-55310a3f54ab"
      },
      "execution_count": null,
      "outputs": [
        {
          "output_type": "stream",
          "name": "stdout",
          "text": [
            "The uncommon words between the given strings \"program to find uncommon words from\" and \"program to be found uncommon words are\" are: ['find', 'from', 'be', 'found', 'are']\n"
          ]
        }
      ]
    },
    {
      "cell_type": "code",
      "source": [
        "# Q22 Python – Replace duplicate Occurrence in String\n",
        "# Example: \"Gfg is best . Gfg also has Classes now. Classes help understand better\" --> \"Gfg is best . It also has Classes now. They help understand better\"\n",
        "\n",
        "def replace_dup(s):\n",
        "  repl_dict = {'Gfg' : 'It', 'Classes' : 'They' }\n",
        "\n",
        "  test_list = s.split(' ')\n",
        "  res = set()\n",
        "  for idx, ele in enumerate(test_list):\n",
        "    if ele in repl_dict:\n",
        "      if ele in res:\n",
        "        test_list[idx] = repl_dict[ele]\n",
        "      else:\n",
        "        res.add(ele)\n",
        "  print(f'The final string after replacing duplicates is: \"{\" \".join(test_list)}')\n",
        "\n",
        "string = 'Gfg is best . Gfg also has Classes now. Classes help understand better . '\n",
        "\n",
        "replace_dup(string)"
      ],
      "metadata": {
        "id": "XB0t54-1vPcE",
        "colab": {
          "base_uri": "https://localhost:8080/"
        },
        "outputId": "8a27fb0e-d24f-4760-fba2-fa9fccbde3ee"
      },
      "execution_count": 6,
      "outputs": [
        {
          "output_type": "stream",
          "name": "stdout",
          "text": [
            "The final string after replacing duplicates is: \"Gfg is best . It also has Classes now. They help understand better . \n"
          ]
        }
      ]
    },
    {
      "cell_type": "code",
      "source": [
        "# Q23 Python – Replace multiple words with K\n",
        "\n",
        "def replace_multi(s, word_list, word):\n",
        "  s2 = s.split()\n",
        "  for i in range(len(s2)):\n",
        "    if s2[i] in word_list:\n",
        "      s2[i] = word\n",
        "  print(f'The final string after replacing the entire list is: \"{\" \".join(s2)}\"')\n",
        "\n",
        "string = \"Gfg is best . Gfg also has Classes now. Classes help understand better\"\n",
        "word_l = ['best', 'has', 'understand']\n",
        "word_rep = 'kkkk'\n",
        "\n",
        "replace_multi(string, word_l , word_rep)"
      ],
      "metadata": {
        "id": "8QkYOjnB4uqL",
        "colab": {
          "base_uri": "https://localhost:8080/"
        },
        "outputId": "19fb8e89-7718-43fc-c3f7-037e086d2830"
      },
      "execution_count": null,
      "outputs": [
        {
          "output_type": "stream",
          "name": "stdout",
          "text": [
            "The final string after replacing the entire list is: \"Gfg is kkkk . Gfg also kkkk Classes now. Classes help kkkk better\"\n"
          ]
        }
      ]
    },
    {
      "cell_type": "code",
      "source": [
        "# Q24 Python | Permutation of a given string\n",
        "\n",
        "def generate_permutations(string):\n",
        "\tif len(string) == 1:\n",
        "\t\treturn [string]\n",
        "\n",
        "\tpermutations = []\n",
        "\tfor i in range(len(string)):\n",
        "\t\tfixed_char = string[i]\n",
        "\t\tremaining_chars = string[:i] + string[i+1:]\n",
        "\n",
        "\t\tfor perm in generate_permutations(remaining_chars):\n",
        "\t\t\tpermutations.append(fixed_char + perm)\n",
        "\n",
        "\treturn permutations\n",
        "\n",
        "string ='abc'\n",
        "\n",
        "permutations_list = generate_permutations(string)\n",
        "print(permutations_list)"
      ],
      "metadata": {
        "id": "Jn6DRjyObJR8",
        "colab": {
          "base_uri": "https://localhost:8080/"
        },
        "outputId": "5fda0d6b-c38f-47b3-e0c5-9064d1d19054"
      },
      "execution_count": 1,
      "outputs": [
        {
          "output_type": "stream",
          "name": "stdout",
          "text": [
            "['abc', 'acb', 'bac', 'bca', 'cab', 'cba']\n"
          ]
        }
      ]
    },
    {
      "cell_type": "code",
      "source": [
        "# Q25 Python | Check for URL in a String\n",
        "\n",
        "def url_check(s):\n",
        "  s2 = s.split()\n",
        "  l1 = []\n",
        "  for i in range(len(s2)):\n",
        "    if ('https' or 'http') in s2[i]:\n",
        "      l1.append(s2[i])\n",
        "  print(f'The url in the given string is/are: {l1}')\n",
        "\n",
        "# Method 2\n",
        "def url_check2(s):\n",
        "  s2 = s.split()\n",
        "  lst = []\n",
        "  for i in s2:\n",
        "    if i.startswith('https:') or i.startswith('http'):\n",
        "      lst.append(i)\n",
        "  print(f'The url in the given string is/are: {lst}')\n",
        "\n",
        "string = 'My Profile: https://auth.geeksforgeeks.org/user/Chinmoy%20Lenka/articles in the portal of https://www.geeksforgeeks.org/'\n",
        "url_check(string)"
      ],
      "metadata": {
        "id": "0_ikhPz225QK",
        "colab": {
          "base_uri": "https://localhost:8080/"
        },
        "outputId": "a6154d4d-8bb0-4857-cede-ef359024eea6"
      },
      "execution_count": 13,
      "outputs": [
        {
          "output_type": "stream",
          "name": "stdout",
          "text": [
            "The url in the given string is/are: ['https://auth.geeksforgeeks.org/user/Chinmoy%20Lenka/articles', 'https://www.geeksforgeeks.org/']\n"
          ]
        }
      ]
    },
    {
      "cell_type": "code",
      "source": [
        "# Q26 Execute a String of Code in Python\n",
        "\n",
        "def string_code(s):\n",
        "  print(f'The output of the given code in string is: {eval(s)}')\n",
        "\n",
        "string = '\"hello\" + \"world\"'\n",
        "string_code(string)"
      ],
      "metadata": {
        "colab": {
          "base_uri": "https://localhost:8080/"
        },
        "id": "P8_Vm459atBC",
        "outputId": "7e641ada-090a-498e-8a38-27c468004d57"
      },
      "execution_count": 23,
      "outputs": [
        {
          "output_type": "stream",
          "name": "stdout",
          "text": [
            "The output of the given code in string is: helloworld\n"
          ]
        }
      ]
    },
    {
      "cell_type": "code",
      "source": [
        "# Q27 String slicing in Python to rotate a string\n",
        "\n",
        "def str_slicing_rotation(s, ln):\n",
        "  left_rot = s[ln:] + s[:ln]\n",
        "  right_rot = s[-ln:] + s[:-ln]\n",
        "  print(f'For the given string: \"{s}\", the left rotation and right rotation by {ln} positions is \"{left_rot}\" and \"{right_rot}\" respectively.')\n",
        "\n",
        "string = 'abcdef'\n",
        "length = int(input('Enter the value for the string rotation: '))\n",
        "str_slicing_rotation(string, length)"
      ],
      "metadata": {
        "colab": {
          "base_uri": "https://localhost:8080/"
        },
        "id": "0-7DewIHfFGg",
        "outputId": "b842b853-4976-4114-ae17-ecbd7762961f"
      },
      "execution_count": 28,
      "outputs": [
        {
          "output_type": "stream",
          "name": "stdout",
          "text": [
            "Enter the value for the string rotation: 2\n",
            "For the given string: \"abcdef\", the left rotation and right rotation by 2 positions is \"cdefab\" and \"efabcd\" respectively.\n"
          ]
        }
      ]
    },
    {
      "cell_type": "code",
      "source": [
        "# Q28 String slicing in Python to check if a string can become empty by recursive deletion\n",
        "\n",
        "def recursive_empt_chk(s):\n",
        ""
      ],
      "metadata": {
        "id": "JMVUUEcTfFI8"
      },
      "execution_count": null,
      "outputs": []
    }
  ]
}