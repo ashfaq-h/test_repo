{
  "nbformat": 4,
  "nbformat_minor": 0,
  "metadata": {
    "colab": {
      "provenance": []
    },
    "kernelspec": {
      "name": "python3",
      "display_name": "Python 3"
    },
    "language_info": {
      "name": "python"
    }
  },
  "cells": [
    {
      "cell_type": "markdown",
      "source": [
        "## Geeks-for-Geeks String program python questions\n",
        "https://www.geeksforgeeks.org/python-programming-examples/"
      ],
      "metadata": {
        "id": "ff9iFra_i_a9"
      }
    },
    {
      "cell_type": "code",
      "source": [
        "# Q1 Python program to check if a string is palindrome or not\n",
        "\n",
        "def string_palindrome(str):\n",
        "  if str == str[::-1]:\n",
        "    print('The given string is Palindrome')\n",
        "  else:\n",
        "    print('The given string is not Palindrome')\n",
        "\n",
        "string1 = 'abcdef'\n",
        "string2 = 'malayalam'\n",
        "\n",
        "string_palindrome(string2)"
      ],
      "metadata": {
        "id": "X9ulAJpU-eh9",
        "colab": {
          "base_uri": "https://localhost:8080/"
        },
        "outputId": "07400eab-9e7f-4c80-e41b-059a37eec4da"
      },
      "execution_count": 6,
      "outputs": [
        {
          "output_type": "stream",
          "name": "stdout",
          "text": [
            "The given string is Palindrome\n"
          ]
        }
      ]
    },
    {
      "cell_type": "code",
      "source": [],
      "metadata": {
        "id": "GgaOa6xCK-OO"
      },
      "execution_count": null,
      "outputs": []
    },
    {
      "cell_type": "code",
      "source": [],
      "metadata": {
        "id": "R_gZaWHAK-Qg"
      },
      "execution_count": null,
      "outputs": []
    }
  ]
}