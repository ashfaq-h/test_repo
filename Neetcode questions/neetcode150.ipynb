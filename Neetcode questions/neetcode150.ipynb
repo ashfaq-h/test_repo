{
 "cells": [
  {
   "cell_type": "markdown",
   "id": "c73a524e",
   "metadata": {},
   "source": [
    "### Neetcode problems - neetcode150\n",
    "\n",
    "https://neetcode.io/practice?tab=neetcode150"
   ]
  },
  {
   "cell_type": "code",
   "execution_count": 13,
   "id": "03f27be6",
   "metadata": {},
   "outputs": [
    {
     "data": {
      "text/plain": [
       "True"
      ]
     },
     "execution_count": 13,
     "metadata": {},
     "output_type": "execute_result"
    }
   ],
   "source": [
    "'''Given an integer array nums, return true if any value appears more than once in the array, \n",
    "otherwise return false.'''\n",
    "\n",
    "def hasDuplicate(nums: list[int]) -> bool:\n",
    "    n = len(nums)\n",
    "    for i in range(n):\n",
    "        for j in range(i+1, n):\n",
    "            if nums[i] == nums[j]:\n",
    "                return True\n",
    "    return False\n",
    "\n",
    "\n",
    "def hasDuplicate2(nums):\n",
    "    nums.sort()\n",
    "    for i in range(len(nums)-1):\n",
    "        if nums[i] == nums[i+1]:\n",
    "            return True\n",
    "    return False\n",
    "\n",
    "def hasDuplicate3(nums):\n",
    "    seen = set()\n",
    "    for i in nums:\n",
    "        if i in seen:\n",
    "            return True\n",
    "        seen.add(i)\n",
    "    return False\n",
    "\n",
    "nums = [1, 2, 3, 3]\n",
    "hasDuplicate3(nums)"
   ]
  },
  {
   "cell_type": "code",
   "execution_count": null,
   "id": "202031fb",
   "metadata": {},
   "outputs": [],
   "source": [
    "'''Given two strings s and t, return true if the two strings are anagrams of each other, otherwise return false.'''\n",
    "\n",
    "def isAnagram(self, s: str, t: str) -> bool:\n",
    "    "
   ]
  },
  {
   "cell_type": "code",
   "execution_count": null,
   "id": "963ace4e",
   "metadata": {},
   "outputs": [],
   "source": []
  },
  {
   "cell_type": "code",
   "execution_count": null,
   "id": "96a82ada",
   "metadata": {},
   "outputs": [],
   "source": []
  },
  {
   "cell_type": "code",
   "execution_count": null,
   "id": "01877961",
   "metadata": {},
   "outputs": [],
   "source": []
  },
  {
   "cell_type": "code",
   "execution_count": null,
   "id": "85dc8994",
   "metadata": {},
   "outputs": [],
   "source": []
  },
  {
   "cell_type": "code",
   "execution_count": null,
   "id": "d5dddb67",
   "metadata": {},
   "outputs": [],
   "source": []
  }
 ],
 "metadata": {
  "kernelspec": {
   "display_name": "Python 3",
   "language": "python",
   "name": "python3"
  },
  "language_info": {
   "codemirror_mode": {
    "name": "ipython",
    "version": 3
   },
   "file_extension": ".py",
   "mimetype": "text/x-python",
   "name": "python",
   "nbconvert_exporter": "python",
   "pygments_lexer": "ipython3",
   "version": "3.12.0"
  }
 },
 "nbformat": 4,
 "nbformat_minor": 5
}
