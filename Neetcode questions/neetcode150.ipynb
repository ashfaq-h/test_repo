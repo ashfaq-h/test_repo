{
 "cells": [
  {
   "cell_type": "markdown",
   "id": "c73a524e",
   "metadata": {},
   "source": [
    "### Neetcode problems - neetcode150\n",
    "\n",
    "https://neetcode.io/practice?tab=neetcode150"
   ]
  },
  {
   "cell_type": "code",
   "execution_count": 13,
   "id": "03f27be6",
   "metadata": {},
   "outputs": [
    {
     "data": {
      "text/plain": [
       "True"
      ]
     },
     "execution_count": 13,
     "metadata": {},
     "output_type": "execute_result"
    }
   ],
   "source": [
    "'''Given an integer array nums, return true if any value appears more than once in the array, \n",
    "otherwise return false.'''\n",
    "\n",
    "def hasDuplicate(nums: list[int]) -> bool:\n",
    "    n = len(nums)\n",
    "    for i in range(n):\n",
    "        for j in range(i+1, n):\n",
    "            if nums[i] == nums[j]:\n",
    "                return True\n",
    "    return False\n",
    "\n",
    "\n",
    "def hasDuplicate2(nums):\n",
    "    nums.sort()\n",
    "    for i in range(len(nums)-1):\n",
    "        if nums[i] == nums[i+1]:\n",
    "            return True\n",
    "    return False\n",
    "\n",
    "def hasDuplicate3(nums):\n",
    "    seen = set()\n",
    "    for i in nums:\n",
    "        if i in seen:\n",
    "            return True\n",
    "        seen.add(i)\n",
    "    return False\n",
    "\n",
    "nums = [1, 2, 3, 3]\n",
    "hasDuplicate3(nums)"
   ]
  },
  {
   "cell_type": "code",
   "execution_count": 42,
   "id": "202031fb",
   "metadata": {},
   "outputs": [
    {
     "data": {
      "text/plain": [
       "True"
      ]
     },
     "execution_count": 42,
     "metadata": {},
     "output_type": "execute_result"
    }
   ],
   "source": [
    "'''Given two strings s and t, return true if the two strings are anagrams of each other, otherwise return false.'''\n",
    "\n",
    "def isAnagram(s: str, t: str) -> bool:\n",
    "    k1 = ''.join(sorted(s))\n",
    "    k2 = ''.join(sorted(t))\n",
    "    if k1 == k2:\n",
    "        return True\n",
    "    else: return False\n",
    "\n",
    "def isAnagram2(s, t):\n",
    "    return sorted(s) == sorted(t)\n",
    "\n",
    "from collections import defaultdict\n",
    "def isAnagram3(s: str, t: str) -> bool:\n",
    "    if len(s) != len(t):\n",
    "        return False\n",
    "    count = defaultdict(int)\n",
    "    for char in s:\n",
    "        count[char] += 1\n",
    "    for char in t:\n",
    "        count[char] -= 1\n",
    "        if count[char] < 0:  # Early exit if frequency goes negative\n",
    "            return False\n",
    "    return all(v == 0 for v in count.values())\n",
    "\n",
    "\n",
    "s = 'abcdea'\n",
    "t = 'ebcdaa'\n",
    "isAnagram3(s, t)"
   ]
  },
  {
   "cell_type": "code",
   "execution_count": 36,
   "id": "eabe1ae3",
   "metadata": {},
   "outputs": [
    {
     "data": {
      "text/plain": [
       "[3, 5]"
      ]
     },
     "execution_count": 36,
     "metadata": {},
     "output_type": "execute_result"
    }
   ],
   "source": [
    "'''Given an array of integers nums and an integer target, \n",
    "return the indices i and j such that nums[i] + nums[j] == target and i != j.'''\n",
    "\n",
    "def twoSum(nums: list[int], target: int) -> list[int]:\n",
    "    n = len(nums)\n",
    "    for i in range(n):\n",
    "        for j in range(i+1, n):\n",
    "            if nums[i] + nums[j] == target:\n",
    "                return [i, j]\n",
    "            \n",
    "def twoSum2(nums, target):\n",
    "    nums_maps = {}\n",
    "    for i, num in enumerate(nums):\n",
    "        complement = target - num\n",
    "        if complement in nums_maps:\n",
    "            return [nums_maps[complement], i]\n",
    "        nums_maps[num] = i\n",
    "            \n",
    "l1 = [1, 2, 3, 6, 9, 10, 0, 7]\n",
    "tar = 16\n",
    "twoSum2(l1, tar)"
   ]
  },
  {
   "cell_type": "code",
   "execution_count": 57,
   "id": "d5dddb67",
   "metadata": {},
   "outputs": [
    {
     "name": "stdout",
     "output_type": "stream",
     "text": [
      "s act\n",
      "else {'act': ['act']}\n",
      "s opst\n",
      "else {'act': ['act'], 'opst': ['pots']}\n",
      "s opst\n",
      "if {'act': ['act'], 'opst': ['pots', 'tops']}\n",
      "s act\n",
      "if {'act': ['act', 'cat'], 'opst': ['pots', 'tops']}\n",
      "s opst\n",
      "if {'act': ['act', 'cat'], 'opst': ['pots', 'tops', 'stop']}\n",
      "s aht\n",
      "else {'act': ['act', 'cat'], 'opst': ['pots', 'tops', 'stop'], 'aht': ['hat']}\n"
     ]
    },
    {
     "data": {
      "text/plain": [
       "[['act', 'cat'], ['pots', 'tops', 'stop'], ['hat']]"
      ]
     },
     "execution_count": 57,
     "metadata": {},
     "output_type": "execute_result"
    }
   ],
   "source": [
    "'''Given an array of strings strs, group all anagrams together into sublists. \n",
    "You may return the output in any order.'''\n",
    "\n",
    "def groupAnagrams(strs: list[str]) -> list[list[str]]:\n",
    "# Step 1: Create a dictionary to group anagrams\n",
    "    anagram_groups = {}\n",
    "    for s in strs:\n",
    "        sorted_s = ''.join(sorted(s))  # Key: sorted string\n",
    "        print('s', sorted_s)\n",
    "        if sorted_s in anagram_groups:\n",
    "            anagram_groups[sorted_s].append(s)  # Add to existing group\n",
    "            print('if', anagram_groups)\n",
    "        else:\n",
    "            anagram_groups[sorted_s] = [s]     # Create new group\n",
    "            print('else', anagram_groups)\n",
    "\n",
    "    # Step 2: Convert dictionary values to a list of lists\n",
    "    return list(anagram_groups.values())\n",
    "\n",
    "lst = [\"act\",\"pots\",\"tops\",\"cat\",\"stop\",\"hat\"]\n",
    "groupAnagrams(lst)"
   ]
  },
  {
   "cell_type": "code",
   "execution_count": null,
   "id": "3adc40c0",
   "metadata": {},
   "outputs": [],
   "source": []
  },
  {
   "cell_type": "code",
   "execution_count": null,
   "id": "02cb861a",
   "metadata": {},
   "outputs": [],
   "source": []
  },
  {
   "cell_type": "code",
   "execution_count": null,
   "id": "965b44d3",
   "metadata": {},
   "outputs": [],
   "source": []
  },
  {
   "cell_type": "code",
   "execution_count": null,
   "id": "062900da",
   "metadata": {},
   "outputs": [],
   "source": []
  },
  {
   "cell_type": "code",
   "execution_count": null,
   "id": "ce23c982",
   "metadata": {},
   "outputs": [],
   "source": []
  }
 ],
 "metadata": {
  "kernelspec": {
   "display_name": "Python 3",
   "language": "python",
   "name": "python3"
  },
  "language_info": {
   "codemirror_mode": {
    "name": "ipython",
    "version": 3
   },
   "file_extension": ".py",
   "mimetype": "text/x-python",
   "name": "python",
   "nbconvert_exporter": "python",
   "pygments_lexer": "ipython3",
   "version": "3.12.0"
  }
 },
 "nbformat": 4,
 "nbformat_minor": 5
}
