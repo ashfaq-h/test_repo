{
  "nbformat": 4,
  "nbformat_minor": 0,
  "metadata": {
    "colab": {
      "provenance": []
    },
    "kernelspec": {
      "name": "python3",
      "display_name": "Python 3"
    },
    "language_info": {
      "name": "python"
    }
  },
  "cells": [
    {
      "cell_type": "markdown",
      "source": [
        "## Geeks-for-Geeks Array program python questions\n",
        "https://www.geeksforgeeks.org/python-programming-examples/"
      ],
      "metadata": {
        "id": "ff9iFra_i_a9"
      }
    },
    {
      "cell_type": "code",
      "source": [
        "# Q1 Python Program to find sum of array\n",
        "\n",
        "def array_sum(a):\n",
        "  sum = 0\n",
        "  for i in a:\n",
        "    sum +=i\n",
        "  return(print(f'The Sum of the elementsof the array is: {sum}'))\n",
        "\n",
        "# Taking the array as user input\n",
        "n = int(input('Enter the number of elemets of the array: '))\n",
        "l1 = []\n",
        "for i in range(0, n):\n",
        "  e = int(input())\n",
        "  l1.append(e)\n",
        "print(f'The array is: {l1}')\n",
        "\n",
        "array_sum(l1)"
      ],
      "metadata": {
        "id": "xHR8DTmZNZ30",
        "colab": {
          "base_uri": "https://localhost:8080/"
        },
        "outputId": "2f696603-5b32-4e2c-9179-205b627b3678"
      },
      "execution_count": null,
      "outputs": [
        {
          "output_type": "stream",
          "name": "stdout",
          "text": [
            "Enter the number of elemets of the array: 5\n",
            "1\n",
            "3\n",
            "5\n",
            "7\n",
            "9\n",
            "The array is: [1, 3, 5, 7, 9]\n",
            "The Sum of the elementsof the array is: 25\n"
          ]
        }
      ]
    },
    {
      "cell_type": "code",
      "source": [
        "# Q2 Python Program to find largest element in an array\n",
        "\n",
        "def largest_arr(a):\n",
        "  a.sort()\n",
        "  return(print(f'The largest of the elements in the array is: {a[-1]}'))\n",
        "\n",
        "# Taking the array as user input\n",
        "n = int(input('Enter the number of elemets of the array: '))\n",
        "l1 = []\n",
        "for i in range(0, n):\n",
        "  e = int(input())\n",
        "  l1.append(e)\n",
        "print(f'The array is: {l1}')\n",
        "\n",
        "largest_arr(l1)"
      ],
      "metadata": {
        "colab": {
          "base_uri": "https://localhost:8080/"
        },
        "id": "QB22rx58K5p2",
        "outputId": "356536c8-01ef-47e1-b37f-2b7d7a46e193"
      },
      "execution_count": null,
      "outputs": [
        {
          "output_type": "stream",
          "name": "stdout",
          "text": [
            "Enter the number of elemets of the array: 5\n",
            "2\n",
            "9\n",
            "4\n",
            "7\n",
            "3\n",
            "The array is: [2, 9, 4, 7, 3]\n",
            "The largest of the elements in the array is: 9\n"
          ]
        }
      ]
    },
    {
      "cell_type": "code",
      "source": [
        "# Q2 Python Program to find largest element in an array - Geeks-for-Geeks Solution\n",
        "\n",
        "def largest_arr(a):\n",
        "  max = a[0]\n",
        "  for i in range(1, n):\n",
        "    if a[i] > max:\n",
        "      max = a[i]\n",
        "  return(print(f'The largest of the elements in the array is: {max}'))\n",
        "\n",
        "# Taking the array as user input\n",
        "n = int(input('Enter the number of elements of the array: '))\n",
        "l1 = []\n",
        "for i in range(0, n):\n",
        "  e = int(input())\n",
        "  l1.append(e)\n",
        "print(f'The array is: {l1}')\n",
        "\n",
        "largest_arr(l1)"
      ],
      "metadata": {
        "colab": {
          "base_uri": "https://localhost:8080/"
        },
        "id": "_lDYLkiiK56p",
        "outputId": "244e18cd-fbcc-4fe3-b013-dd2e1991fb0d"
      },
      "execution_count": null,
      "outputs": [
        {
          "output_type": "stream",
          "name": "stdout",
          "text": [
            "Enter the number of elements of the array: 5\n",
            "2\n",
            "9\n",
            "4\n",
            "7\n",
            "3\n",
            "The array is: [2, 9, 4, 7, 3]\n",
            "The largest of the elements in the array is: 9\n"
          ]
        }
      ]
    },
    {
      "cell_type": "code",
      "source": [
        "# Q3 Python Program for array rotation\n",
        "# Moving the elements of a list by 1 or more positions. 1 position rotation: [3, 5, 7, 1, 2] --> [5, 7, 1, 2, 3]\n",
        "\n",
        "def arr_rotate(arr, r):\n",
        "  for i in range(0, r):\n",
        "    arr.append(arr[i])\n",
        "  for i in range(0, r):\n",
        "    arr.remove(arr[0])\n",
        "  return(print(f'The array after rotating by {r} elements is: {arr}'))\n",
        "\n",
        "n = int(input('Enter the number of elements of the array: '))\n",
        "l1 = []\n",
        "for i in range(0, n):\n",
        "  l1.append(int(input()))\n",
        "print(f'The array is: {l1}')\n",
        "\n",
        "r = int(input('Enter the number of positions for array rotation: '))\n",
        "\n",
        "arr_rotate(l1, r)"
      ],
      "metadata": {
        "id": "qaEDNy0cK5-x",
        "colab": {
          "base_uri": "https://localhost:8080/"
        },
        "outputId": "60f6f90f-9eec-420e-fc12-541e03286f83"
      },
      "execution_count": null,
      "outputs": [
        {
          "output_type": "stream",
          "name": "stdout",
          "text": [
            "Enter the number of elements of the array: 6\n",
            "1\n",
            "9\n",
            "3\n",
            "4\n",
            "5\n",
            "7\n",
            "The array is: [1, 9, 3, 4, 5, 7]\n",
            "Enter the number of positions for array rotation: 3\n",
            "The array after rotating by 3 elements is: [4, 5, 7, 1, 9, 3]\n"
          ]
        }
      ]
    },
    {
      "cell_type": "code",
      "source": [
        "# Q6 Python Program for Find reminder of array multiplication divided by n\n",
        "# Multiplying all the elements of the array and diving the number bythe given value and print the reminder\n",
        "\n",
        "def arr_multi_reminder(arr, d):\n",
        "  sum = 1\n",
        "  for i in arr:\n",
        "    sum *= i\n",
        "  val = sum%d\n",
        "  return(print(f\"The reminder value is: {val}\"))\n",
        "\n",
        "\n",
        "# Taking the array as user input\n",
        "n = int(input('Enter the number of elements of the array: '))\n",
        "\n",
        "l1 = []\n",
        "for i in range(0, n):\n",
        "  e = int(input())\n",
        "  l1.append(e)\n",
        "print(f'The array is: {l1}')\n",
        "\n",
        "d = int(input('Enter the divisor: '))\n",
        "\n",
        "arr_multi_reminder(l1, d)"
      ],
      "metadata": {
        "id": "NVk_bxnvm9jR",
        "colab": {
          "base_uri": "https://localhost:8080/"
        },
        "outputId": "380be5e3-6f24-442f-8738-c74c2acaf136"
      },
      "execution_count": 2,
      "outputs": [
        {
          "output_type": "stream",
          "name": "stdout",
          "text": [
            "Enter the number of elements of the array: 3\n",
            "1\n",
            "3\n",
            "5\n",
            "The array is: [1, 3, 5]\n",
            "Enter the divisor: 2\n",
            "The reminder value is: 1\n"
          ]
        }
      ]
    },
    {
      "cell_type": "code",
      "source": [
        "# Q7 Python Program to check if given array is Monotonic\n",
        "# If an array is continuously increasing or contnuously decreasing then it is monotonic. a = [1, 2, 2, 5, 8]\n",
        "\n",
        "def monotonic_arr(arr):\n",
        "  if sorted(arr) == arr or sorted(arr, reverse=True) == arr:\n",
        "    print('Given array is monotonic')\n",
        "  else:\n",
        "    print('Given array is non-monotonic')\n",
        "\n",
        "# Taking the array as user input\n",
        "n = int(input('Enter the number of elements of the array: '))\n",
        "\n",
        "l1 = []\n",
        "for i in range(0, n):\n",
        "  e = int(input())\n",
        "  l1.append(e)\n",
        "print(f'The array is: {l1}')\n",
        "\n",
        "monotonic_arr(l1)"
      ],
      "metadata": {
        "id": "GDyna9-4m9ox",
        "colab": {
          "base_uri": "https://localhost:8080/"
        },
        "outputId": "19bc0223-c48e-4f8e-92c4-cd0a6d260cd7"
      },
      "execution_count": 29,
      "outputs": [
        {
          "output_type": "stream",
          "name": "stdout",
          "text": [
            "Enter the number of elements of the array: 5\n",
            "2\n",
            "4\n",
            "3\n",
            "6\n",
            "8\n",
            "The array is: [2, 4, 3, 6, 8]\n",
            "Given array is non-monotonic\n"
          ]
        }
      ]
    },
    {
      "cell_type": "code",
      "source": [],
      "metadata": {
        "id": "X9ulAJpU-eh9"
      },
      "execution_count": null,
      "outputs": []
    }
  ]
}