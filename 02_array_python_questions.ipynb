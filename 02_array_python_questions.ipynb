{
  "nbformat": 4,
  "nbformat_minor": 0,
  "metadata": {
    "colab": {
      "provenance": []
    },
    "kernelspec": {
      "name": "python3",
      "display_name": "Python 3"
    },
    "language_info": {
      "name": "python"
    }
  },
  "cells": [
    {
      "cell_type": "markdown",
      "source": [
        "## Geeks-for-Geeks Array program python questions\n",
        "https://www.geeksforgeeks.org/python-programming-examples/"
      ],
      "metadata": {
        "id": "ff9iFra_i_a9"
      }
    },
    {
      "cell_type": "code",
      "source": [
        "# Q1 Python Program to find sum of array\n",
        "\n",
        "def array_sum(a):\n",
        "  sum = 0\n",
        "  for i in a:\n",
        "    sum +=i\n",
        "  return(print(f'The Sum of the elementsof the array is: {sum}'))\n",
        "\n",
        "# Taking the array as user input\n",
        "n = int(input('Enter the number of elemets of the array: '))\n",
        "l1 = []\n",
        "for i in range(0, n):\n",
        "  e = int(input())\n",
        "  l1.append(e)\n",
        "print(f'The array is: {l1}')\n",
        "\n",
        "array_sum(l1)"
      ],
      "metadata": {
        "id": "xHR8DTmZNZ30",
        "colab": {
          "base_uri": "https://localhost:8080/"
        },
        "outputId": "2f696603-5b32-4e2c-9179-205b627b3678"
      },
      "execution_count": 10,
      "outputs": [
        {
          "output_type": "stream",
          "name": "stdout",
          "text": [
            "Enter the number of elemets of the array: 5\n",
            "1\n",
            "3\n",
            "5\n",
            "7\n",
            "9\n",
            "The array is: [1, 3, 5, 7, 9]\n",
            "The Sum of the elementsof the array is: 25\n"
          ]
        }
      ]
    },
    {
      "cell_type": "code",
      "source": [
        "# Q2 Python Program to find largest element in an array\n",
        "\n",
        "def largest_arr(a):\n",
        "  a.sort()\n",
        "  return(print(f'The largest of the elements in the array is: {a[-1]}'))\n",
        "\n",
        "# Taking the array as user input\n",
        "n = int(input('Enter the number of elemets of the array: '))\n",
        "l1 = []\n",
        "for i in range(0, n):\n",
        "  e = int(input())\n",
        "  l1.append(e)\n",
        "print(f'The array is: {l1}')\n",
        "\n",
        "largest_arr(l1)"
      ],
      "metadata": {
        "colab": {
          "base_uri": "https://localhost:8080/"
        },
        "id": "QB22rx58K5p2",
        "outputId": "356536c8-01ef-47e1-b37f-2b7d7a46e193"
      },
      "execution_count": 16,
      "outputs": [
        {
          "output_type": "stream",
          "name": "stdout",
          "text": [
            "Enter the number of elemets of the array: 5\n",
            "2\n",
            "9\n",
            "4\n",
            "7\n",
            "3\n",
            "The array is: [2, 9, 4, 7, 3]\n",
            "The largest of the elements in the array is: 9\n"
          ]
        }
      ]
    },
    {
      "cell_type": "code",
      "source": [],
      "metadata": {
        "id": "_lDYLkiiK56p"
      },
      "execution_count": null,
      "outputs": []
    },
    {
      "cell_type": "code",
      "source": [],
      "metadata": {
        "id": "qaEDNy0cK5-x"
      },
      "execution_count": null,
      "outputs": []
    },
    {
      "cell_type": "code",
      "source": [],
      "metadata": {
        "id": "vgey7AsuK6Ct"
      },
      "execution_count": null,
      "outputs": []
    },
    {
      "cell_type": "code",
      "source": [],
      "metadata": {
        "id": "cYB-IFtnK6E9"
      },
      "execution_count": null,
      "outputs": []
    }
  ]
}