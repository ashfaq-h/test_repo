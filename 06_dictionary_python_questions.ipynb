{
  "cells": [
    {
      "cell_type": "markdown",
      "metadata": {
        "id": "ff9iFra_i_a9"
      },
      "source": [
        "## Geeks-for-Geeks Dictionary program python questions\n",
        "https://www.geeksforgeeks.org/python-programming-examples/"
      ]
    },
    {
      "cell_type": "code",
      "execution_count": null,
      "metadata": {
        "colab": {
          "base_uri": "https://localhost:8080/"
        },
        "id": "X9ulAJpU-eh9",
        "outputId": "25da4f2a-15b4-4e93-dea7-adfe4ec27d15"
      },
      "outputs": [
        {
          "name": "stdout",
          "output_type": "stream",
          "text": [
            "The list of unique set of values from the given dictionary is: [3, 4, 5, 6, 7, 8, 10, 11]\n"
          ]
        }
      ],
      "source": [
        "# Q1 Python – Extract Unique values dictionary values\n",
        "\n",
        "def unique_val_dict(d):\n",
        "  l1 = list(d.values())\n",
        "  l2 = []\n",
        "  for i in l1:\n",
        "    for j in i:\n",
        "      l2.append(j)\n",
        "  print(f'The list of unique set of values from the given dictionary is: {list(set(l2))}')\n",
        "\n",
        "di = {'abc': [5, 6, 7, 8], 'def': [10, 11, 7, 5], 'hij': [3, 4, 5, 6]}\n",
        "unique_val_dict(di)"
      ]
    },
    {
      "cell_type": "code",
      "execution_count": null,
      "metadata": {
        "colab": {
          "base_uri": "https://localhost:8080/"
        },
        "id": "rS8KBIq09Dv_",
        "outputId": "55fbfea0-f0b3-412e-9f73-b1fef4754559"
      },
      "outputs": [
        {
          "name": "stdout",
          "output_type": "stream",
          "text": [
            "The sum of all the items of the given dictionary is: 59\n"
          ]
        }
      ],
      "source": [
        "# Q2 Python program to find the sum of all items in a dictionary\n",
        "\n",
        "def dict_sum(d):\n",
        "  sum = 0\n",
        "  for i in d.values():\n",
        "    for j in i:\n",
        "      sum += j\n",
        "  print(f'The sum of all the items of the given dictionary is: {sum}')\n",
        "\n",
        "di = {'abc': [5, 6, 7, 8], 'def': [10, 11, 7, 5]}\n",
        "dict_sum(di)"
      ]
    },
    {
      "cell_type": "code",
      "execution_count": null,
      "metadata": {
        "colab": {
          "base_uri": "https://localhost:8080/"
        },
        "id": "yYwOZXMaHOCG",
        "outputId": "37280d32-14b7-4df2-c1a0-fc5a08287ed8"
      },
      "outputs": [
        {
          "name": "stdout",
          "output_type": "stream",
          "text": [
            "The dictionary after removing the said disctionary is: {'abc': [5, 6, 8], 'def': [10, 11, 5], 'lmn': [23, 45, 1]}\n"
          ]
        }
      ],
      "source": [
        "# Q3 Python | Ways to remove a key from dictionary\n",
        "\n",
        "def dict_remove(d, item):\n",
        "  d2 = d.copy()\n",
        "  for i in d:\n",
        "    if i == item:\n",
        "      del d2[i]\n",
        "  print(f'The dictionary after removing the said disctionary is: {d2}')\n",
        "\n",
        "# Method 2\n",
        "def dict_remove2(d, item):\n",
        "  d2 = d.copy()\n",
        "  for i in d:\n",
        "    if i == item:\n",
        "      d2.pop(i)\n",
        "  print(f'The dictionary after removing the said disctionary is: {d2}')\n",
        "\n",
        "\n",
        "di = {'abc': [5, 6, 8], 'def': [10, 11, 5], 'hij': [3, 4, 6], 'lmn': [23, 45, 1]}\n",
        "remove_item = 'hijh'\n",
        "dict_remove2(di, remove_item)"
      ]
    },
    {
      "cell_type": "code",
      "execution_count": null,
      "metadata": {
        "colab": {
          "base_uri": "https://localhost:8080/"
        },
        "id": "Cl9ES0c8RMWn",
        "outputId": "9228dce6-5458-4342-fc47-8619a4612147"
      },
      "outputs": [
        {
          "name": "stdout",
          "output_type": "stream",
          "text": [
            "The sorted list of dictionaries by the age parameter is: [{'age': 2, 'name': 'Nandini3'}, {'age': 14, 'name': 'Manjeet'}, {'age': 19, 'name': 'Nikhil'}, {'age': 25, 'name': 'Nandini2'}]\n"
          ]
        }
      ],
      "source": [
        "# Q4 Ways to sort list of dictionaries by values in Python – Using itemgetter\n",
        "\n",
        "def list_dict_sort(l, param):\n",
        "  l1 = []\n",
        "  for i in l:\n",
        "    l1.append(i[param])\n",
        "  l1.sort()\n",
        "  l2 = []\n",
        "  for i in l1:\n",
        "    for j in l:\n",
        "      if j[param] == i:\n",
        "        l2.append(j)\n",
        "  return l2\n",
        "\n",
        "\n",
        "# Method 2\n",
        "from operator import itemgetter\n",
        "\n",
        "def list_dict_sort2(l, param):\n",
        "  return sorted(l, key=itemgetter(param))\n",
        "\n",
        "\n",
        "s = [{'age': 19, 'name': 'Nikhil'}, {'age': 25, 'name': 'Nandini2'}, {'age': 2, 'name': 'Nandini3'}, {'age': 14, 'name': 'Manjeet'}]\n",
        "\n",
        "print(f'The sorted list of dictionaries by the age parameter is: {list_dict_sort2(s, \"age\")}')"
      ]
    },
    {
      "cell_type": "code",
      "execution_count": null,
      "metadata": {
        "colab": {
          "base_uri": "https://localhost:8080/"
        },
        "id": "k2P2Xk-ioY3f",
        "outputId": "98bfb6a7-d7a3-4d38-ce58-1b873b51a3af"
      },
      "outputs": [
        {
          "name": "stdout",
          "output_type": "stream",
          "text": [
            "The sorted list of dictionaries by the age parameter is: [{'age': 2, 'name': 'Nandini3'}, {'age': 14, 'name': 'Manjeet'}, {'age': 19, 'name': 'Nikhil'}, {'age': 25, 'name': 'Nandini2'}]\n"
          ]
        }
      ],
      "source": [
        "# Q5 Ways to sort list of dictionaries by values in Python – Using lamdba\n",
        "\n",
        "from operator import itemgetter\n",
        "\n",
        "def list_dict_sort3(l, param):\n",
        "  return sorted(l, key=lambda i: i[param])\n",
        "\n",
        "s = [{'age': 19, 'name': 'Nikhil'}, {'age': 25, 'name': 'Nandini2'}, {'age': 2, 'name': 'Nandini3'}, {'age': 14, 'name': 'Manjeet'}]\n",
        "\n",
        "print(f'The sorted list of dictionaries by the age parameter is: {list_dict_sort3(s, \"age\")}')"
      ]
    },
    {
      "cell_type": "code",
      "execution_count": null,
      "metadata": {
        "colab": {
          "base_uri": "https://localhost:8080/"
        },
        "id": "yJ9a3RNuoY53",
        "outputId": "e2d5d49f-f826-4d18-f8f4-54284add8730"
      },
      "outputs": [
        {
          "name": "stdout",
          "output_type": "stream",
          "text": [
            "The final dictionary after merging the given 2 dictionaries is: {'abc': [5, 6, 8], 'def': [10, 11, 5], 'hij': [3, 4, 6], 'lmn': [23, 45, 1]}\n"
          ]
        }
      ],
      "source": [
        "# Q6 Python | Merging two Dictionaries\n",
        "\n",
        "def dict_merge(d1, d2):\n",
        "  d3 = d1.copy()\n",
        "  for i in d2.keys():\n",
        "    d3[i]=d2[i]\n",
        "  print(f'The final dictionary after merging the given 2 dictionaries is: {d3}')\n",
        "\n",
        "# Method 2\n",
        "def dict_merge2(d1, d2):\n",
        "  res = {**d1, **d2}\n",
        "  print(f'The final dictionary after merging the given 2 dictionaries is: {res}')\n",
        "\n",
        "# Method 3\n",
        "def dict_merge3(d1, d2):\n",
        "  res = d1 | d2\n",
        "  print(f'The final dictionary after merging the given 2 dictionaries is: {res}')\n",
        "\n",
        "# Method 4\n",
        "def dict_merge4(d1, d2):\n",
        "  d3 = d1.copy()\n",
        "  d3.update(d2)\n",
        "  print(f'The final dictionary after merging the given 2 dictionaries is: {d3}')\n",
        "\n",
        "\n",
        "di1 = {'abc': [5, 6, 8], 'def': [10, 11, 5]}\n",
        "di2 = { 'hij': [3, 4, 6], 'lmn': [23, 45, 1]}\n",
        "dict_merge4(di1, di2)"
      ]
    },
    {
      "cell_type": "code",
      "execution_count": null,
      "metadata": {
        "colab": {
          "base_uri": "https://localhost:8080/"
        },
        "id": "EmbAbfkBEOtf",
        "outputId": "4098d0d8-3785-4cd5-d164-85f3028d5e36"
      },
      "outputs": [
        {
          "name": "stdout",
          "output_type": "stream",
          "text": [
            "The flattened dictionary is: {1: 'Jan', 2: 'Feb', 3: 'March'}\n"
          ]
        }
      ],
      "source": [
        "# Q7 Python – Convert key-values list to flat dictionary\n",
        "# {'month': [1, 2, 3], 'name': ['Jan', 'Feb', 'March']} Flattened dictionary : {1: 'Jan', 2: 'Feb', 3: 'March'}\n",
        "\n",
        "def dict_flat(d):\n",
        "  d2 = {}\n",
        "  for i in range(len(list(d.values())[0])):\n",
        "    d2[list(d.values())[0][i]] = list(d.values())[1][i]\n",
        "  print(f'The flattened dictionary is: {d2}')\n",
        "\n",
        "di = {'month': [1, 2, 3], 'name': ['Jan', 'Feb', 'March']}\n",
        "dict_flat(di)"
      ]
    },
    {
      "cell_type": "code",
      "execution_count": null,
      "metadata": {
        "colab": {
          "base_uri": "https://localhost:8080/"
        },
        "id": "WdkgqnZ2NVo7",
        "outputId": "1088bd65-5f2e-4ae0-c490-02057b76ef97"
      },
      "outputs": [
        {
          "name": "stdout",
          "output_type": "stream",
          "text": [
            "1. The final dictionary after inserting the given items \"('c', 3)\" at the beginning of the dictionary is: {'c': 3, 'a': 1, 'b': 2}\n"
          ]
        }
      ],
      "source": [
        "# Q8 Python – Insertion at the beginning in OrderedDict\n",
        "\n",
        "def dict_insert_begin(d, items):\n",
        "  final_dict = {}\n",
        "  for i, j in d.items():\n",
        "    i, j = items[0], items[1]\n",
        "    final_dict[i] = j\n",
        "  for i in d.keys():\n",
        "    final_dict[i] = d[i]\n",
        "  print(f'1. The final dictionary after inserting the given items \"{items}\" at the beginning of the dictionary is: {final_dict}')\n",
        "\n",
        "# Method 2\n",
        "def dict_insert_begin2(d, items):\n",
        "  keys = list(d.keys())\n",
        "  values = list(d.values())\n",
        "  for i in items:\n",
        "    keys.insert(0, i[0])\n",
        "    values.insert(0, i[1])\n",
        "  d = dict(zip(keys, values))\n",
        "  print(f'2. The final dictionary after inserting the given items \"{items}\" at the beginning of the dictionary is: {d}')\n",
        "\n",
        "\n",
        "# Method 3\n",
        "from collections import OrderedDict\n",
        "iniordered_dict = OrderedDict([('akshat', '1'), ('nikhil', '2')])\n",
        "iniordered_dict.update({'manjeet': '3'})\n",
        "iniordered_dict.move_to_end('manjeet', last=False)\n",
        "print(\"Resultant Dictionary : \"+str(iniordered_dict))\n",
        "\n",
        "\n",
        "dict1 = {'a':1, 'b':2}\n",
        "items_insert = ('c', 3)\n",
        "\n",
        "dict_insert_begin(dict1, items_insert)"
      ]
    },
    {
      "cell_type": "code",
      "execution_count": null,
      "metadata": {
        "colab": {
          "base_uri": "https://localhost:8080/"
        },
        "id": "3ZJxUnuHp_cK",
        "outputId": "acab42a4-9f1b-45f7-e9b7-dd0b6b320664"
      },
      "outputs": [
        {
          "name": "stdout",
          "output_type": "stream",
          "text": [
            "Enter the pattern to be found in order: at\n",
            "The given pattern \"at\" is present in the string in the same order as in the pattern, hence True.\n"
          ]
        }
      ],
      "source": [
        "# Q9 Python | Check order of character in string\n",
        "'''\n",
        "string = \"engineers rock\"; pattern = \"er\";\n",
        "Output: true\n",
        "Explanation: All 'e' in the input string are before all 'r'.'''\n",
        "\n",
        "def string_char_order(string, pattern):\n",
        "  n = string.count(pattern[0])\n",
        "  k = []\n",
        "  count = 0\n",
        "  for i in string:\n",
        "    k.append(i)\n",
        "    if i == pattern[0]:\n",
        "      count += 1\n",
        "      if count == n:\n",
        "        k.append('-')\n",
        "  k2 = \"\".join(k)\n",
        "  s2 = k2.split('-')\n",
        "\n",
        "  count2 = 0\n",
        "  count3 = 0\n",
        "  for i in s2[0]:\n",
        "    if i == pattern[1]:\n",
        "      count2 += 1\n",
        "  for i in s2[1]:\n",
        "    if i == pattern[0]:\n",
        "      count3 += 1\n",
        "\n",
        "  if count2 == 0 and count3 == 0:\n",
        "    print(f'The given pattern \"{pattern}\" is present in the string in the same order as in the pattern, hence True.')\n",
        "  else:\n",
        "    print(f'The given pattern \"{pattern}\" is not present in the string in the same order as in the pattern, hence False.')\n",
        "\n",
        "\n",
        "# Method 2\n",
        "def string_char_order2(string, pattern):\n",
        "\ti, j = 0, 0\n",
        "\tfor char in string:\n",
        "\t\tif char == pattern[j]:\n",
        "\t\t\tj += 1\n",
        "\t\tif j == len(pattern):\n",
        "\t\t\treturn True\n",
        "\t\ti += 1\n",
        "\n",
        "\treturn False\n",
        "string = 'engineers rock'\n",
        "pattern = 'er'\n",
        "print(string_char_order2(string, pattern))\n",
        "\n",
        "\n",
        "str1 = \"Explanation python\"\n",
        "pat = str(input('Enter the pattern to be found in order: '))\n",
        "string_char_order(str1, pat)"
      ]
    },
    {
      "cell_type": "code",
      "execution_count": null,
      "metadata": {
        "colab": {
          "base_uri": "https://localhost:8080/"
        },
        "id": "guvMgrmjOHym",
        "outputId": "0f0e2134-30ee-42ae-ff51-7c13e9fb6fc8"
      },
      "outputs": [
        {
          "name": "stdout",
          "output_type": "stream",
          "text": [
            "The person with maximum number of votes is/are ['john', 'johnny'] and the winner is : \"john\"\n"
          ]
        }
      ],
      "source": [
        "# Q10 Dictionary and counter in Python to find winner of election\n",
        "# ['john','johnny','jackie','johnny', 'john','jackie','jamie','jamie','john','johnny','jamie','johnny','john'] --> 'john'\n",
        "\n",
        "def votes_counter(voters):\n",
        "  dict1 = {}\n",
        "  for i in voters:\n",
        "    if i in dict1:\n",
        "      dict1[i] += 1\n",
        "    else:\n",
        "      dict1[i] = 1\n",
        "  max_votes = max(dict1.values())\n",
        "  winners = []\n",
        "  for i, j in dict1.items():\n",
        "    if j == max_votes:\n",
        "      winners.append(i)\n",
        "  print(f'The person with maximum number of votes is/are {winners} and the winner is : \"{min(winners)}\"')\n",
        "\n",
        "list1 = ['john','johnny','jackie','johnny', 'john','jackie','jamie','jamie','john','johnny','jamie','johnny','john']\n",
        "votes_counter(list1)"
      ]
    },
    {
      "cell_type": "code",
      "execution_count": null,
      "metadata": {
        "colab": {
          "base_uri": "https://localhost:8080/"
        },
        "id": "AhRZHcFj4vh_",
        "outputId": "200bbf27-6908-45a4-c098-ab9effc239cf"
      },
      "outputs": [
        {
          "name": "stdout",
          "output_type": "stream",
          "text": [
            "The appended Dictionary Keys and Values ( In order ) in dictionary is: ['Gfg', 'is', 'Best', 1, 3, 2]\n"
          ]
        }
      ],
      "source": [
        "# Q11 Python – Append Dictionary Keys and Values ( In order ) in dictionary\n",
        "# {'Gfg': 1, 'is': 3, 'Best': 2} --> ['Gfg', 'is', 'Best', 1, 3, 2]\n",
        "\n",
        "def dictionary_order(d):\n",
        "  l1 = []\n",
        "  for i in d.keys():\n",
        "    l1.append(i)\n",
        "  for i in d.values():\n",
        "    l1.append(i)\n",
        "  print(f'The appended Dictionary Keys and Values ( In order ) in dictionary is: {l1}')\n",
        "\n",
        "d1 = {'Gfg': 1, 'is': 3, 'Best': 2}\n",
        "dictionary_order(d1)"
      ]
    },
    {
      "cell_type": "code",
      "execution_count": null,
      "metadata": {
        "colab": {
          "base_uri": "https://localhost:8080/"
        },
        "id": "wYzMdHbCa-yj",
        "outputId": "c9b00553-e31b-44db-a7ac-fdd4e091b74b"
      },
      "outputs": [
        {
          "name": "stdout",
          "output_type": "stream",
          "text": [
            "The sorted dictionary by key is {'age': 20, 'jcwe': 95, 'nis': 90, 'sduhwg': 2} and by value is {'sduhwg': 2, 'age': 20, 'nis': 90, 'jcwe': 95}\n"
          ]
        }
      ],
      "source": [
        "# Q12 Python | Sort Python Dictionaries by Key or Value **\n",
        "\n",
        "def dict_sort_bykey_byval(d):\n",
        "  d1 = dict(sorted(d.items()))\n",
        "\n",
        "  l1 = sorted(d.values())\n",
        "  l2 = []\n",
        "  for i in l1:\n",
        "    for j in d.keys():\n",
        "      if d[j] == i:\n",
        "        l2.append(j)\n",
        "  d2 = {}\n",
        "  for i in range(len(l1)):\n",
        "    d2[l2[i]] = l1[i]\n",
        "  print(f'The sorted dictionary by key is {d1} and by value is {d2}')\n",
        "\n",
        "di = {'nis': 90, 'sduhwg': 2, 'age': 20, 'jcwe': 95}\n",
        "dict_sort_bykey_byval(di)"
      ]
    },
    {
      "cell_type": "code",
      "execution_count": null,
      "metadata": {
        "colab": {
          "base_uri": "https://localhost:8080/"
        },
        "id": "PFsIQn9emNL9",
        "outputId": "f64c1108-b6b8-49f5-aae2-20b95ed0ea68"
      },
      "outputs": [
        {
          "name": "stdout",
          "output_type": "stream",
          "text": [
            "The sorted dictionary key and values list is {'best': [4, 19], 'gfg': [3, 6, 7], 'is': [2, 3, 10]}\n"
          ]
        }
      ],
      "source": [
        "# Q13 Python – Sort Dictionary key and values List\n",
        "# {'gfg': [7, 6, 3], 'is': [2, 10, 3], 'best': [19, 4]}  --> {'best': [4, 19], 'gfg': [3, 6, 7], 'is': [2, 3, 10]}\n",
        "\n",
        "def dict_sort_keyval(dic):\n",
        "  res = {}\n",
        "  for key in sorted(dic):\n",
        "    res[key] = sorted(dic[key])\n",
        "  print(f'The sorted dictionary key and values list is {res}')\n",
        "\n",
        "a = {'gfg': [7, 6, 3], 'is': [2, 10, 3], 'best': [19, 4]}\n",
        "dict_sort_keyval(a)"
      ]
    },
    {
      "cell_type": "code",
      "execution_count": null,
      "metadata": {
        "colab": {
          "base_uri": "https://localhost:8080/"
        },
        "id": "MUrOydDfGFQL",
        "outputId": "3ad7e7f0-a173-4c37-8d11-5771a0151073"
      },
      "outputs": [
        {
          "name": "stdout",
          "output_type": "stream",
          "text": [
            "Enter a key : ab\n",
            "The key asked is not found in the given dictionary\n"
          ]
        }
      ],
      "source": [
        "# Q14 Handling missing keys in Python dictionaries\n",
        "\n",
        "def missingkey_exception(d, find_key):\n",
        "  if find_key in d:\n",
        "    print(f'The key asked in the dictionary is \"{find_key}\" and its value is : {d[find_key]}')\n",
        "  else:\n",
        "    print('The key asked is not found in the given dictionary')\n",
        "\n",
        "k = str(input(\"Enter a key : \"))\n",
        "dictionary = {'a': 2, 'b': 20, 'c': 90, 'd': 95}\n",
        "missingkey_exception(dictionary, k)"
      ]
    },
    {
      "cell_type": "code",
      "execution_count": null,
      "metadata": {
        "colab": {
          "base_uri": "https://localhost:8080/"
        },
        "id": "Cw6ocgm69-lw",
        "outputId": "f89f1fba-71e8-43ca-ef95-56c9e017502d"
      },
      "outputs": [
        {
          "name": "stdout",
          "output_type": "stream",
          "text": [
            "Enter the total number of key-value pairs in the dictionary: 3\n",
            "Enter the length of each of the keys in the dictionary: 2\n",
            "Enter the 1 input for the 1 key of the dictionary: a\n",
            "Enter the 2 input for the 1 key of the dictionary: b\n",
            "Enter the input for the 1 value of the dictionary: Mumbai\n",
            "Enter the 1 input for the 2 key of the dictionary: c\n",
            "Enter the 2 input for the 2 key of the dictionary: d\n",
            "Enter the input for the 2 value of the dictionary: Delhi\n",
            "Enter the 1 input for the 3 key of the dictionary: e\n",
            "Enter the 2 input for the 3 key of the dictionary: f\n",
            "Enter the input for the 3 value of the dictionary: Bengaluru\n",
            "The final dictionary with 3 items and 2 inputs in each of the keys of the dictionary is : {('a', 'b'): 'Mumbai', ('c', 'd'): 'Delhi', ('e', 'f'): 'Bengaluru'}\n"
          ]
        }
      ],
      "source": [
        "# Q15 Python dictionary with keys having multiple inputs\n",
        "# {(\"a\", \"b\"):\"Mumbai\", (\"c\", \"d\"):\"Delhi\", ('e', 'f'):'Bengaluru'}\n",
        "\n",
        "def dict_multiple_inputs(dict_len, key_len):\n",
        "  b = {}\n",
        "  for i in range(dict_len):\n",
        "    l = []\n",
        "    for j in range(key_len):\n",
        "      l.append(str(input(f'Enter the {j+1} input for the {i+1} key of the dictionary: ')))\n",
        "    b[tuple(l)] = str(input(f'Enter the input for the {i+1} value of the dictionary: '))\n",
        "  print(f'The final dictionary with {i+1} items and {j+1} inputs in each of the keys of the dictionary is : {b}')\n",
        "\n",
        "len_of_dict = int(input('Enter the total number of key-value pairs in the dictionary: '))\n",
        "len_of_key = int(input('Enter the length of each of the keys in the dictionary: '))\n",
        "\n",
        "dict_multiple_inputs(len_of_dict, len_of_key)"
      ]
    },
    {
      "cell_type": "code",
      "execution_count": null,
      "metadata": {
        "colab": {
          "base_uri": "https://localhost:8080/"
        },
        "id": "Rocx4SM1F_hW",
        "outputId": "69ce2404-c934-455f-e298-6fdafc585b78"
      },
      "outputs": [
        {
          "name": "stdout",
          "output_type": "stream",
          "text": [
            "The final dictionary with the all the anagrams grouped together is: {'act': ['cat', 'tac', 'act'], 'dgo': ['dog', 'god']}\n"
          ]
        }
      ],
      "source": [
        "# Q16 Print anagrams together in Python using List and Dictionary\n",
        "# ['cat', 'dog', 'tac', 'god', 'act']\n",
        "\n",
        "def dict_anagram(lst):\n",
        "  final_dict = {}\n",
        "  for i in lst:\n",
        "    sort_word = \"\".join(sorted(i))\n",
        "    if sort_word in final_dict:\n",
        "      final_dict[sort_word].append(i)\n",
        "    else:\n",
        "      final_dict[sort_word] = [i]\n",
        "  print(f'The final dictionary with the all the anagrams grouped together is: {final_dict}')\n",
        "\n",
        "lis = ['cat', 'dog', 'tac', 'god', 'act']\n",
        "dict_anagram(lis)"
      ]
    },
    {
      "cell_type": "code",
      "execution_count": null,
      "metadata": {
        "colab": {
          "base_uri": "https://localhost:8080/"
        },
        "id": "xwjuH3xa8QN3",
        "outputId": "48d9bf71-9048-4876-8b4d-ecd26160de5e"
      },
      "outputs": [
        {
          "name": "stdout",
          "output_type": "stream",
          "text": [
            "Enter the value of k for the k-th non-repeating Character of the given string: 2\n",
            "The list of non-repeating charatcres is - ['f', 'o', 'z', 'r'] and the K’th Non-repeating Character is: r\n"
          ]
        }
      ],
      "source": [
        "# Q17 K’th Non-repeating Character in Python using List Comprehension and OrderedDict\n",
        "\n",
        "def kth_Non_repeating_char(string, index):\n",
        "  list_char = []\n",
        "  #spliting the string\n",
        "  split_str = list(string)\n",
        "  dic = {}\n",
        "\n",
        "  #checking the count of words\n",
        "  for i in split_str:\n",
        "    if i in dic:\n",
        "      dic[i] += 1\n",
        "    else:\n",
        "      dic[i] = 1\n",
        "  #calling least count keys\n",
        "  for i,j in dic.items():\n",
        "    if j == 1:\n",
        "      list_char.append(i)\n",
        "  print(f'The list of non-repeating charatcres is - {list_char} and the K’th Non-repeating Character is: {sorted(list_char)[index]}')\n",
        "\n",
        "kth = int(input(\"Enter the value of k for the k-th non-repeating Character of the given string: \"))\n",
        "st = \"geeksfozrgeeks\"\n",
        "kth_Non_repeating_char(st, kth)"
      ]
    },
    {
      "cell_type": "code",
      "execution_count": null,
      "metadata": {
        "colab": {
          "base_uri": "https://localhost:8080/"
        },
        "id": "tw71gSuhGDTs",
        "outputId": "7b08e986-6597-4c53-b405-f700562fe839"
      },
      "outputs": [
        {
          "name": "stdout",
          "output_type": "stream",
          "text": [
            "Yes\n"
          ]
        }
      ],
      "source": [
        "# Q18 Check if binary representations of two numbers are anagram\n",
        "\n",
        "# function to Check if binary representations of two numbers are anagram\n",
        "from collections import Counter\n",
        "\n",
        "def checkAnagram(num1,num2):\n",
        "\n",
        "\t# convert numbers into in binary and remove first two characters of output string because bin function\n",
        "\t# '0b' as prefix in output string\n",
        "\tbin1 = bin(num1)[2:]\n",
        "\tbin2 = bin(num2)[2:]\n",
        "\n",
        "\t# append zeros in shorter string\n",
        "\tzeros = abs(len(bin1)-len(bin2))\n",
        "\tif (len(bin1)>len(bin2)):\n",
        "\t\tbin2 = zeros * '0' + bin2\n",
        "\telse:\n",
        "\t\tbin1 = zeros * '0' + bin1\n",
        "\n",
        "\t# convert binary representations in to dictionary\n",
        "\tdict1 = Counter(bin1)\n",
        "\tdict2 = Counter(bin2)\n",
        "\n",
        "\t# compare both dictionaries\n",
        "\tif dict1 == dict2:\n",
        "\t\tprint('Yes')\n",
        "\telse:\n",
        "\t\tprint('No')\n",
        "\n",
        "num1 = 8\n",
        "num2 = 4\n",
        "checkAnagram(num1,num2)"
      ]
    },
    {
      "cell_type": "code",
      "execution_count": 2,
      "metadata": {
        "colab": {
          "base_uri": "https://localhost:8080/"
        },
        "id": "twf2NIKqGDWC",
        "outputId": "0f2f0794-7aaf-4277-bc7c-db90c9334c5e"
      },
      "outputs": [
        {
          "name": "stdout",
          "output_type": "stream",
          "text": [
            "The frequency of size of largest subset of anagram words is: 3\n"
          ]
        }
      ],
      "source": [
        "# Q19 Python Counter to find the size of largest subset of anagram words\n",
        "# 'abcd ghij bcad jhig adbc lmno' --> 3 --> ## abcd combination is repeated thrice\n",
        "\n",
        "from collections import Counter\n",
        "\n",
        "def maxAnagramSize(input):\n",
        "\tinput = input.split(\" \")\n",
        "\tfor i in range(0,len(input)):\n",
        "\t\tinput[i]=''.join(sorted(input[i]))\n",
        "\tfreqDict = Counter(input)\n",
        "\tprint(f'The frequency of size of largest subset of anagram words is: {max(freqDict.values())}')\n",
        "\n",
        "input = 'ant magenta magnate tan gnamate'\n",
        "maxAnagramSize(input)"
      ]
    },
    {
      "cell_type": "code",
      "execution_count": 1,
      "metadata": {
        "colab": {
          "base_uri": "https://localhost:8080/"
        },
        "id": "wYFkHldsC3Vz",
        "outputId": "8f836a4b-e6d7-42ca-c11b-4afc2efb6184"
      },
      "outputs": [
        {
          "name": "stdout",
          "output_type": "stream",
          "text": [
            "The final sentence after removing the duplicates: \"is also Python and Java great\"\n"
          ]
        }
      ],
      "source": [
        "# Q20 Python | Remove all duplicates words from a given sentence\n",
        "\n",
        "def sent_duplicate_remove(string):\n",
        "  final_sent = \" \".join(set(string.split()))\n",
        "  print(f'The final sentence after removing the duplicates: \"{final_sent}\"')\n",
        "\n",
        "st = 'Python is great and Java is also great'\n",
        "sent_duplicate_remove(st)"
      ]
    }
  ],
  "metadata": {
    "colab": {
      "provenance": []
    },
    "kernelspec": {
      "display_name": "Python 3",
      "name": "python3"
    },
    "language_info": {
      "codemirror_mode": {
        "name": "ipython",
        "version": 3
      },
      "file_extension": ".py",
      "mimetype": "text/x-python",
      "name": "python",
      "nbconvert_exporter": "python",
      "pygments_lexer": "ipython3",
      "version": "3.12.0"
    }
  },
  "nbformat": 4,
  "nbformat_minor": 0
}
