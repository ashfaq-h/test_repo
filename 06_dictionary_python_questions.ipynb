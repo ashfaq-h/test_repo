{
  "nbformat": 4,
  "nbformat_minor": 0,
  "metadata": {
    "colab": {
      "provenance": []
    },
    "kernelspec": {
      "name": "python3",
      "display_name": "Python 3"
    },
    "language_info": {
      "name": "python"
    }
  },
  "cells": [
    {
      "cell_type": "markdown",
      "source": [
        "## Geeks-for-Geeks Dictionary program python questions\n",
        "https://www.geeksforgeeks.org/python-programming-examples/"
      ],
      "metadata": {
        "id": "ff9iFra_i_a9"
      }
    },
    {
      "cell_type": "code",
      "source": [
        "# Q1 Python – Extract Unique values dictionary values\n",
        "\n",
        "def unique_val_dict(d):\n",
        "  l1 = list(d.values())\n",
        "  l2 = []\n",
        "  for i in l1:\n",
        "    for j in i:\n",
        "      l2.append(j)\n",
        "  print(f'The list of unique set of values from the given dictionary is: {list(set(l2))}')\n",
        "\n",
        "di = {'abc': [5, 6, 7, 8], 'def': [10, 11, 7, 5], 'hij': [3, 4, 5, 6]}\n",
        "unique_val_dict(di)"
      ],
      "metadata": {
        "id": "X9ulAJpU-eh9",
        "colab": {
          "base_uri": "https://localhost:8080/"
        },
        "outputId": "25da4f2a-15b4-4e93-dea7-adfe4ec27d15"
      },
      "execution_count": null,
      "outputs": [
        {
          "output_type": "stream",
          "name": "stdout",
          "text": [
            "The list of unique set of values from the given dictionary is: [3, 4, 5, 6, 7, 8, 10, 11]\n"
          ]
        }
      ]
    },
    {
      "cell_type": "code",
      "source": [
        "# Q2 Python program to find the sum of all items in a dictionary\n",
        "\n",
        "def dict_sum(d):\n",
        "  sum = 0\n",
        "  for i in d.values():\n",
        "    for j in i:\n",
        "      sum += j\n",
        "  print(f'The sum of all the items of the given dictionary is: {sum}')\n",
        "\n",
        "di = {'abc': [5, 6, 7, 8], 'def': [10, 11, 7, 5]}\n",
        "dict_sum(di)"
      ],
      "metadata": {
        "id": "rS8KBIq09Dv_",
        "colab": {
          "base_uri": "https://localhost:8080/"
        },
        "outputId": "55fbfea0-f0b3-412e-9f73-b1fef4754559"
      },
      "execution_count": null,
      "outputs": [
        {
          "output_type": "stream",
          "name": "stdout",
          "text": [
            "The sum of all the items of the given dictionary is: 59\n"
          ]
        }
      ]
    },
    {
      "cell_type": "code",
      "source": [
        "# Q3 Python | Ways to remove a key from dictionary\n",
        "\n",
        "def dict_remove(d, item):\n",
        "  d2 = d.copy()\n",
        "  for i in d:\n",
        "    if i == item:\n",
        "      del d2[i]\n",
        "  print(f'The dictionary after removing the said disctionary is: {d2}')\n",
        "\n",
        "# Method 2\n",
        "def dict_remove2(d, item):\n",
        "  d2 = d.copy()\n",
        "  for i in d:\n",
        "    if i == item:\n",
        "      d2.pop(i)\n",
        "  print(f'The dictionary after removing the said disctionary is: {d2}')\n",
        "\n",
        "\n",
        "di = {'abc': [5, 6, 8], 'def': [10, 11, 5], 'hij': [3, 4, 6], 'lmn': [23, 45, 1]}\n",
        "remove_item = 'hijh'\n",
        "dict_remove2(di, remove_item)"
      ],
      "metadata": {
        "id": "yYwOZXMaHOCG",
        "colab": {
          "base_uri": "https://localhost:8080/"
        },
        "outputId": "37280d32-14b7-4df2-c1a0-fc5a08287ed8"
      },
      "execution_count": null,
      "outputs": [
        {
          "output_type": "stream",
          "name": "stdout",
          "text": [
            "The dictionary after removing the said disctionary is: {'abc': [5, 6, 8], 'def': [10, 11, 5], 'lmn': [23, 45, 1]}\n"
          ]
        }
      ]
    },
    {
      "cell_type": "code",
      "source": [
        "# Q4 Ways to sort list of dictionaries by values in Python – Using itemgetter\n",
        "\n",
        "def list_dict_sort(l, param):\n",
        "  l1 = []\n",
        "  for i in l:\n",
        "    l1.append(i[param])\n",
        "  l1.sort()\n",
        "  l2 = []\n",
        "  for i in l1:\n",
        "    for j in l:\n",
        "      if j[param] == i:\n",
        "        l2.append(j)\n",
        "  return l2\n",
        "\n",
        "\n",
        "# Method 2\n",
        "from operator import itemgetter\n",
        "\n",
        "def list_dict_sort2(l, param):\n",
        "  return sorted(l, key=itemgetter(param))\n",
        "\n",
        "\n",
        "s = [{'age': 19, 'name': 'Nikhil'}, {'age': 25, 'name': 'Nandini2'}, {'age': 2, 'name': 'Nandini3'}, {'age': 14, 'name': 'Manjeet'}]\n",
        "\n",
        "print(f'The sorted list of dictionaries by the age parameter is: {list_dict_sort2(s, \"age\")}')"
      ],
      "metadata": {
        "id": "Cl9ES0c8RMWn",
        "colab": {
          "base_uri": "https://localhost:8080/"
        },
        "outputId": "9228dce6-5458-4342-fc47-8619a4612147"
      },
      "execution_count": null,
      "outputs": [
        {
          "output_type": "stream",
          "name": "stdout",
          "text": [
            "The sorted list of dictionaries by the age parameter is: [{'age': 2, 'name': 'Nandini3'}, {'age': 14, 'name': 'Manjeet'}, {'age': 19, 'name': 'Nikhil'}, {'age': 25, 'name': 'Nandini2'}]\n"
          ]
        }
      ]
    },
    {
      "cell_type": "code",
      "source": [
        "# Q5 Ways to sort list of dictionaries by values in Python – Using lamdba\n",
        "\n",
        "from operator import itemgetter\n",
        "\n",
        "def list_dict_sort3(l, param):\n",
        "  return sorted(l, key=lambda i: i[param])\n",
        "\n",
        "s = [{'age': 19, 'name': 'Nikhil'}, {'age': 25, 'name': 'Nandini2'}, {'age': 2, 'name': 'Nandini3'}, {'age': 14, 'name': 'Manjeet'}]\n",
        "\n",
        "print(f'The sorted list of dictionaries by the age parameter is: {list_dict_sort3(s, \"age\")}')"
      ],
      "metadata": {
        "colab": {
          "base_uri": "https://localhost:8080/"
        },
        "id": "k2P2Xk-ioY3f",
        "outputId": "98bfb6a7-d7a3-4d38-ce58-1b873b51a3af"
      },
      "execution_count": null,
      "outputs": [
        {
          "output_type": "stream",
          "name": "stdout",
          "text": [
            "The sorted list of dictionaries by the age parameter is: [{'age': 2, 'name': 'Nandini3'}, {'age': 14, 'name': 'Manjeet'}, {'age': 19, 'name': 'Nikhil'}, {'age': 25, 'name': 'Nandini2'}]\n"
          ]
        }
      ]
    },
    {
      "cell_type": "code",
      "source": [
        "# Q6 Python | Merging two Dictionaries\n",
        "\n",
        "def dict_merge(d1, d2):\n",
        "  d3 = d1.copy()\n",
        "  for i in d2.keys():\n",
        "    d3[i]=d2[i]\n",
        "  print(f'The final dictionary after merging the given 2 dictionaries is: {d3}')\n",
        "\n",
        "# Method 2\n",
        "def dict_merge2(d1, d2):\n",
        "  res = {**d1, **d2}\n",
        "  print(f'The final dictionary after merging the given 2 dictionaries is: {res}')\n",
        "\n",
        "# Method 3\n",
        "def dict_merge3(d1, d2):\n",
        "  res = d1 | d2\n",
        "  print(f'The final dictionary after merging the given 2 dictionaries is: {res}')\n",
        "\n",
        "# Method 4\n",
        "def dict_merge4(d1, d2):\n",
        "  d3 = d1.copy()\n",
        "  d3.update(d2)\n",
        "  print(f'The final dictionary after merging the given 2 dictionaries is: {d3}')\n",
        "\n",
        "\n",
        "di1 = {'abc': [5, 6, 8], 'def': [10, 11, 5]}\n",
        "di2 = { 'hij': [3, 4, 6], 'lmn': [23, 45, 1]}\n",
        "dict_merge4(di1, di2)"
      ],
      "metadata": {
        "id": "yJ9a3RNuoY53",
        "colab": {
          "base_uri": "https://localhost:8080/"
        },
        "outputId": "e2d5d49f-f826-4d18-f8f4-54284add8730"
      },
      "execution_count": 6,
      "outputs": [
        {
          "output_type": "stream",
          "name": "stdout",
          "text": [
            "The final dictionary after merging the given 2 dictionaries is: {'abc': [5, 6, 8], 'def': [10, 11, 5], 'hij': [3, 4, 6], 'lmn': [23, 45, 1]}\n"
          ]
        }
      ]
    },
    {
      "cell_type": "code",
      "source": [
        "# Q7 Python – Convert key-values list to flat dictionary\n",
        "# {'month': [1, 2, 3], 'name': ['Jan', 'Feb', 'March']} Flattened dictionary : {1: 'Jan', 2: 'Feb', 3: 'March'}\n",
        "\n",
        "def dict_flat(d):\n",
        "  d2 = {}\n",
        "  for i in range(len(list(d.values())[0])):\n",
        "    d2[list(d.values())[0][i]] = list(d.values())[1][i]\n",
        "  print(f'The flattened dictionary is: {d2}')\n",
        "\n",
        "di = {'month': [1, 2, 3], 'name': ['Jan', 'Feb', 'March']}\n",
        "dict_flat(di)"
      ],
      "metadata": {
        "colab": {
          "base_uri": "https://localhost:8080/"
        },
        "id": "EmbAbfkBEOtf",
        "outputId": "4098d0d8-3785-4cd5-d164-85f3028d5e36"
      },
      "execution_count": null,
      "outputs": [
        {
          "output_type": "stream",
          "name": "stdout",
          "text": [
            "The flattened dictionary is: {1: 'Jan', 2: 'Feb', 3: 'March'}\n"
          ]
        }
      ]
    },
    {
      "cell_type": "code",
      "source": [
        "# Q8 Python – Insertion at the beginning in OrderedDict\n",
        "\n",
        "def dict_insert_begin(d, items):\n",
        "  final_dict = {}\n",
        "  for i, j in d.items():\n",
        "    i, j = items[0], items[1]\n",
        "    final_dict[i] = j\n",
        "  for i in d.keys():\n",
        "    final_dict[i] = d[i]\n",
        "  print(f'1. The final dictionary after inserting the given items \"{items}\" at the beginning of the dictionary is: {final_dict}')\n",
        "\n",
        "# Method 2\n",
        "def dict_insert_begin2(d, items):\n",
        "  keys = list(d.keys())\n",
        "  values = list(d.values())\n",
        "  for i in items:\n",
        "    keys.insert(0, i[0])\n",
        "    values.insert(0, i[1])\n",
        "  d = dict(zip(keys, values))\n",
        "  print(f'2. The final dictionary after inserting the given items \"{items}\" at the beginning of the dictionary is: {final_dict}')\n",
        "\n",
        "dict1 = {'a':1, 'b':2}\n",
        "items_insert = ('c', 3)\n",
        "\n",
        "dict_insert_begin(dict1, items_insert)"
      ],
      "metadata": {
        "id": "WdkgqnZ2NVo7",
        "colab": {
          "base_uri": "https://localhost:8080/"
        },
        "outputId": "1088bd65-5f2e-4ae0-c490-02057b76ef97"
      },
      "execution_count": 9,
      "outputs": [
        {
          "output_type": "stream",
          "name": "stdout",
          "text": [
            "1. The final dictionary after inserting the given items \"('c', 3)\" at the beginning of the dictionary is: {'c': 3, 'a': 1, 'b': 2}\n"
          ]
        }
      ]
    },
    {
      "cell_type": "code",
      "source": [
        "# Q9 Python | Check order of character in string\n",
        "'''\n",
        "string = \"engineers rock\"\n",
        "pattern = \"er\";\n",
        "Output: true\n",
        "Explanation:\n",
        "All 'e' in the input string are before all 'r'.'''\n",
        "\n",
        "\n"
      ],
      "metadata": {
        "id": "3ZJxUnuHp_cK"
      },
      "execution_count": null,
      "outputs": []
    }
  ]
}