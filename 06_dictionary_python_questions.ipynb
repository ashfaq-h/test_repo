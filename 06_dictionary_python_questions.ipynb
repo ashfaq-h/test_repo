{
  "nbformat": 4,
  "nbformat_minor": 0,
  "metadata": {
    "colab": {
      "provenance": []
    },
    "kernelspec": {
      "name": "python3",
      "display_name": "Python 3"
    },
    "language_info": {
      "name": "python"
    }
  },
  "cells": [
    {
      "cell_type": "markdown",
      "source": [
        "## Geeks-for-Geeks Dictionary program python questions\n",
        "https://www.geeksforgeeks.org/python-programming-examples/"
      ],
      "metadata": {
        "id": "ff9iFra_i_a9"
      }
    },
    {
      "cell_type": "code",
      "source": [
        "# Q1 Python – Extract Unique values dictionary values\n",
        "\n",
        "def unique_val_dict(d):\n",
        "  l1 = list(d.values())\n",
        "  l2 = []\n",
        "  for i in l1:\n",
        "    for j in i:\n",
        "      l2.append(j)\n",
        "  print(f'The list of unique set of values from the given dictionary is: {list(set(l2))}')\n",
        "\n",
        "di = {'abc': [5, 6, 7, 8], 'def': [10, 11, 7, 5], 'hij': [3, 4, 5, 6]}\n",
        "unique_val_dict(di)"
      ],
      "metadata": {
        "id": "X9ulAJpU-eh9",
        "colab": {
          "base_uri": "https://localhost:8080/"
        },
        "outputId": "25da4f2a-15b4-4e93-dea7-adfe4ec27d15"
      },
      "execution_count": null,
      "outputs": [
        {
          "output_type": "stream",
          "name": "stdout",
          "text": [
            "The list of unique set of values from the given dictionary is: [3, 4, 5, 6, 7, 8, 10, 11]\n"
          ]
        }
      ]
    },
    {
      "cell_type": "code",
      "source": [
        "# Q2 Python program to find the sum of all items in a dictionary\n",
        "\n",
        "def dict_sum(d):\n",
        "  sum = 0\n",
        "  for i in d.values():\n",
        "    for j in i:\n",
        "      sum += j\n",
        "  print(f'The sum of all the items of the given dictionary is: {sum}')\n",
        "\n",
        "di = {'abc': [5, 6, 7, 8], 'def': [10, 11, 7, 5]}\n",
        "dict_sum(di)"
      ],
      "metadata": {
        "id": "rS8KBIq09Dv_",
        "colab": {
          "base_uri": "https://localhost:8080/"
        },
        "outputId": "55fbfea0-f0b3-412e-9f73-b1fef4754559"
      },
      "execution_count": null,
      "outputs": [
        {
          "output_type": "stream",
          "name": "stdout",
          "text": [
            "The sum of all the items of the given dictionary is: 59\n"
          ]
        }
      ]
    },
    {
      "cell_type": "code",
      "source": [
        "# Q3 Python | Ways to remove a key from dictionary\n",
        "\n",
        "def dict_remove(d, item):\n",
        "  d2 = d.copy()\n",
        "  for i in d:\n",
        "    if i == item:\n",
        "      del d2[i]\n",
        "  print(f'The dictionary after removing the said disctionary is: {d2}')\n",
        "\n",
        "# Method 2\n",
        "def dict_remove2(d, item):\n",
        "  d2 = d.copy()\n",
        "  for i in d:\n",
        "    if i == item:\n",
        "      d2.pop(i)\n",
        "  print(f'The dictionary after removing the said disctionary is: {d2}')\n",
        "\n",
        "\n",
        "di = {'abc': [5, 6, 8], 'def': [10, 11, 5], 'hij': [3, 4, 6], 'lmn': [23, 45, 1]}\n",
        "remove_item = 'hijh'\n",
        "dict_remove2(di, remove_item)"
      ],
      "metadata": {
        "id": "yYwOZXMaHOCG",
        "colab": {
          "base_uri": "https://localhost:8080/"
        },
        "outputId": "37280d32-14b7-4df2-c1a0-fc5a08287ed8"
      },
      "execution_count": null,
      "outputs": [
        {
          "output_type": "stream",
          "name": "stdout",
          "text": [
            "The dictionary after removing the said disctionary is: {'abc': [5, 6, 8], 'def': [10, 11, 5], 'lmn': [23, 45, 1]}\n"
          ]
        }
      ]
    },
    {
      "cell_type": "code",
      "source": [
        "# Q4 Ways to sort list of dictionaries by values in Python – Using itemgetter\n",
        "\n",
        "def list_dict_sort(l, param):\n",
        "  l1 = []\n",
        "  for i in l:\n",
        "    l1.append(i[param])\n",
        "  l1.sort()\n",
        "  l2 = []\n",
        "  for i in l1:\n",
        "    for j in l:\n",
        "      if j[param] == i:\n",
        "        l2.append(j)\n",
        "  return l2\n",
        "\n",
        "\n",
        "# Method 2\n",
        "from operator import itemgetter\n",
        "\n",
        "def list_dict_sort2(l, param):\n",
        "  return sorted(l, key=itemgetter(param))\n",
        "\n",
        "\n",
        "s = [{'age': 19, 'name': 'Nikhil'}, {'age': 25, 'name': 'Nandini2'}, {'age': 2, 'name': 'Nandini3'}, {'age': 14, 'name': 'Manjeet'}]\n",
        "\n",
        "print(f'The sorted list of dictionaries by the age parameter is: {list_dict_sort2(s, \"age\")}')"
      ],
      "metadata": {
        "id": "Cl9ES0c8RMWn",
        "colab": {
          "base_uri": "https://localhost:8080/"
        },
        "outputId": "9228dce6-5458-4342-fc47-8619a4612147"
      },
      "execution_count": null,
      "outputs": [
        {
          "output_type": "stream",
          "name": "stdout",
          "text": [
            "The sorted list of dictionaries by the age parameter is: [{'age': 2, 'name': 'Nandini3'}, {'age': 14, 'name': 'Manjeet'}, {'age': 19, 'name': 'Nikhil'}, {'age': 25, 'name': 'Nandini2'}]\n"
          ]
        }
      ]
    },
    {
      "cell_type": "code",
      "source": [
        "# Q5 Ways to sort list of dictionaries by values in Python – Using lamdba\n",
        "\n",
        "from operator import itemgetter\n",
        "\n",
        "def list_dict_sort3(l, param):\n",
        "  return sorted(l, key=lambda i: i[param])\n",
        "\n",
        "s = [{'age': 19, 'name': 'Nikhil'}, {'age': 25, 'name': 'Nandini2'}, {'age': 2, 'name': 'Nandini3'}, {'age': 14, 'name': 'Manjeet'}]\n",
        "\n",
        "print(f'The sorted list of dictionaries by the age parameter is: {list_dict_sort3(s, \"age\")}')"
      ],
      "metadata": {
        "colab": {
          "base_uri": "https://localhost:8080/"
        },
        "id": "k2P2Xk-ioY3f",
        "outputId": "98bfb6a7-d7a3-4d38-ce58-1b873b51a3af"
      },
      "execution_count": null,
      "outputs": [
        {
          "output_type": "stream",
          "name": "stdout",
          "text": [
            "The sorted list of dictionaries by the age parameter is: [{'age': 2, 'name': 'Nandini3'}, {'age': 14, 'name': 'Manjeet'}, {'age': 19, 'name': 'Nikhil'}, {'age': 25, 'name': 'Nandini2'}]\n"
          ]
        }
      ]
    },
    {
      "cell_type": "code",
      "source": [
        "# Q6 Python | Merging two Dictionaries\n",
        "\n",
        "def dict_merge(d1, d2):\n",
        "  d3 = d1.copy()\n",
        "  for i in d2.keys():\n",
        "    d3[i]=d2[i]\n",
        "  print(f'The final dictionary after merging the given 2 dictionaries is: {d3}')\n",
        "\n",
        "# Method 2\n",
        "def dict_merge2(d1, d2):\n",
        "  res = {**d1, **d2}\n",
        "  print(f'The final dictionary after merging the given 2 dictionaries is: {res}')\n",
        "\n",
        "# Method 3\n",
        "def dict_merge3(d1, d2):\n",
        "  res = d1 | d2\n",
        "  print(f'The final dictionary after merging the given 2 dictionaries is: {res}')\n",
        "\n",
        "# Method 4\n",
        "def dict_merge4(d1, d2):\n",
        "  d3 = d1.copy()\n",
        "  d3.update(d2)\n",
        "  print(f'The final dictionary after merging the given 2 dictionaries is: {d3}')\n",
        "\n",
        "\n",
        "di1 = {'abc': [5, 6, 8], 'def': [10, 11, 5]}\n",
        "di2 = { 'hij': [3, 4, 6], 'lmn': [23, 45, 1]}\n",
        "dict_merge4(di1, di2)"
      ],
      "metadata": {
        "id": "yJ9a3RNuoY53",
        "colab": {
          "base_uri": "https://localhost:8080/"
        },
        "outputId": "e2d5d49f-f826-4d18-f8f4-54284add8730"
      },
      "execution_count": null,
      "outputs": [
        {
          "output_type": "stream",
          "name": "stdout",
          "text": [
            "The final dictionary after merging the given 2 dictionaries is: {'abc': [5, 6, 8], 'def': [10, 11, 5], 'hij': [3, 4, 6], 'lmn': [23, 45, 1]}\n"
          ]
        }
      ]
    },
    {
      "cell_type": "code",
      "source": [
        "# Q7 Python – Convert key-values list to flat dictionary\n",
        "# {'month': [1, 2, 3], 'name': ['Jan', 'Feb', 'March']} Flattened dictionary : {1: 'Jan', 2: 'Feb', 3: 'March'}\n",
        "\n",
        "def dict_flat(d):\n",
        "  d2 = {}\n",
        "  for i in range(len(list(d.values())[0])):\n",
        "    d2[list(d.values())[0][i]] = list(d.values())[1][i]\n",
        "  print(f'The flattened dictionary is: {d2}')\n",
        "\n",
        "di = {'month': [1, 2, 3], 'name': ['Jan', 'Feb', 'March']}\n",
        "dict_flat(di)"
      ],
      "metadata": {
        "colab": {
          "base_uri": "https://localhost:8080/"
        },
        "id": "EmbAbfkBEOtf",
        "outputId": "4098d0d8-3785-4cd5-d164-85f3028d5e36"
      },
      "execution_count": null,
      "outputs": [
        {
          "output_type": "stream",
          "name": "stdout",
          "text": [
            "The flattened dictionary is: {1: 'Jan', 2: 'Feb', 3: 'March'}\n"
          ]
        }
      ]
    },
    {
      "cell_type": "code",
      "source": [
        "# Q8 Python – Insertion at the beginning in OrderedDict\n",
        "\n",
        "def dict_insert_begin(d, items):\n",
        "  final_dict = {}\n",
        "  for i, j in d.items():\n",
        "    i, j = items[0], items[1]\n",
        "    final_dict[i] = j\n",
        "  for i in d.keys():\n",
        "    final_dict[i] = d[i]\n",
        "  print(f'1. The final dictionary after inserting the given items \"{items}\" at the beginning of the dictionary is: {final_dict}')\n",
        "\n",
        "# Method 2\n",
        "def dict_insert_begin2(d, items):\n",
        "  keys = list(d.keys())\n",
        "  values = list(d.values())\n",
        "  for i in items:\n",
        "    keys.insert(0, i[0])\n",
        "    values.insert(0, i[1])\n",
        "  d = dict(zip(keys, values))\n",
        "  print(f'2. The final dictionary after inserting the given items \"{items}\" at the beginning of the dictionary is: {d}')\n",
        "\n",
        "\n",
        "# Method 3\n",
        "from collections import OrderedDict\n",
        "iniordered_dict = OrderedDict([('akshat', '1'), ('nikhil', '2')])\n",
        "iniordered_dict.update({'manjeet': '3'})\n",
        "iniordered_dict.move_to_end('manjeet', last=False)\n",
        "print(\"Resultant Dictionary : \"+str(iniordered_dict))\n",
        "\n",
        "\n",
        "dict1 = {'a':1, 'b':2}\n",
        "items_insert = ('c', 3)\n",
        "\n",
        "dict_insert_begin(dict1, items_insert)"
      ],
      "metadata": {
        "id": "WdkgqnZ2NVo7",
        "colab": {
          "base_uri": "https://localhost:8080/"
        },
        "outputId": "1088bd65-5f2e-4ae0-c490-02057b76ef97"
      },
      "execution_count": null,
      "outputs": [
        {
          "output_type": "stream",
          "name": "stdout",
          "text": [
            "1. The final dictionary after inserting the given items \"('c', 3)\" at the beginning of the dictionary is: {'c': 3, 'a': 1, 'b': 2}\n"
          ]
        }
      ]
    },
    {
      "cell_type": "code",
      "source": [
        "# Q9 Python | Check order of character in string\n",
        "'''\n",
        "string = \"engineers rock\"\n",
        "pattern = \"er\";\n",
        "Output: true\n",
        "Explanation: All 'e' in the input string are before all 'r'.'''\n",
        "\n",
        "def string_char(d):\n"
      ],
      "metadata": {
        "id": "3ZJxUnuHp_cK"
      },
      "execution_count": null,
      "outputs": []
    },
    {
      "cell_type": "code",
      "source": [
        "def check_order(string, pattern):\n",
        "\ti, j = 0, 0\n",
        "\tfor char in string:\n",
        "\t\tif char == pattern[j]:\n",
        "\t\t\tj += 1\n",
        "\t\tif j == len(pattern):\n",
        "\t\t\treturn True\n",
        "\t\ti += 1\n",
        "\n",
        "\treturn False\n",
        "string = 'engineeres roeck'\n",
        "pattern = 'er'\n",
        "print(check_order(string, pattern))\n"
      ],
      "metadata": {
        "colab": {
          "base_uri": "https://localhost:8080/"
        },
        "id": "zFblv72Lgj51",
        "outputId": "ed6256d1-d773-4dc8-f8be-eecae9a790fd"
      },
      "execution_count": null,
      "outputs": [
        {
          "output_type": "stream",
          "name": "stdout",
          "text": [
            "True\n"
          ]
        }
      ]
    },
    {
      "cell_type": "code",
      "source": [
        "string = \"engineers rock\"\n",
        "pattern = 'er'"
      ],
      "metadata": {
        "id": "oIXR15NNgj-5",
        "colab": {
          "base_uri": "https://localhost:8080/"
        },
        "outputId": "a12d5f08-ead4-4b3a-fe83-10b746364747"
      },
      "execution_count": null,
      "outputs": [
        {
          "output_type": "execute_result",
          "data": {
            "text/plain": [
              "['e', 'n', 'g', 'i', 'n', 'e', 'e', 'r', 's', ' ', 'r', 'o', 'c', 'k']"
            ]
          },
          "metadata": {},
          "execution_count": 7
        }
      ]
    },
    {
      "cell_type": "code",
      "source": [
        "string.count('e')\n"
      ],
      "metadata": {
        "colab": {
          "base_uri": "https://localhost:8080/"
        },
        "id": "63cKqS-BGMS0",
        "outputId": "a8afd1d0-4794-4a1f-a1f7-5a85b0dc7458"
      },
      "execution_count": null,
      "outputs": [
        {
          "output_type": "execute_result",
          "data": {
            "text/plain": [
              "3"
            ]
          },
          "metadata": {},
          "execution_count": 9
        }
      ]
    },
    {
      "cell_type": "code",
      "source": [
        "k = []\n",
        "count = 0\n",
        "for i in string:\n",
        "  k.append(i)\n",
        "  if i == 'e':\n",
        "    count += 1\n",
        "    if count == 3:\n",
        "      k.append('-')\n",
        "k2 = \"\".join(k)\n",
        "print(k2)"
      ],
      "metadata": {
        "colab": {
          "base_uri": "https://localhost:8080/"
        },
        "id": "KSTMoyzfGMVe",
        "outputId": "874143bb-27bf-4778-f524-7333ad668a4c"
      },
      "execution_count": null,
      "outputs": [
        {
          "output_type": "stream",
          "name": "stdout",
          "text": [
            "['e', 'n', 'g', 'i', 'n', 'e', 'e', '-', 'r', 's', ' ', 'r', 'o', 'c', 'k']\n"
          ]
        }
      ]
    },
    {
      "cell_type": "code",
      "source": [
        "s2 = k2.split('-')\n",
        "s2"
      ],
      "metadata": {
        "id": "YhzKGPZ9L_2f",
        "colab": {
          "base_uri": "https://localhost:8080/"
        },
        "outputId": "7c586762-8665-4ecf-cdba-32fe7549d044"
      },
      "execution_count": 15,
      "outputs": [
        {
          "output_type": "execute_result",
          "data": {
            "text/plain": [
              "['enginee', 'rs rock']"
            ]
          },
          "metadata": {},
          "execution_count": 15
        }
      ]
    },
    {
      "cell_type": "code",
      "source": [
        "count2 = 0\n",
        "count3 = 0\n",
        "\n",
        "for i in s2[0]:\n",
        "  if i == 'r':\n",
        "    count2 += 1\n",
        "  else:\n",
        "    pass\n",
        "for i in s2[1]:\n",
        "  if i == 'e':\n",
        "    count3 += 1\n",
        "  else:\n",
        "    pass\n",
        "\n",
        "if count2 == 0 and count3 == 0:\n",
        "  print(True)\n",
        "else:\n",
        "  print(False)"
      ],
      "metadata": {
        "id": "6muwPQZiL_4m",
        "colab": {
          "base_uri": "https://localhost:8080/"
        },
        "outputId": "73a5d35a-d8f1-4760-d129-f4989a82468e"
      },
      "execution_count": 16,
      "outputs": [
        {
          "output_type": "stream",
          "name": "stdout",
          "text": [
            "True\n"
          ]
        }
      ]
    },
    {
      "cell_type": "code",
      "source": [
        "str2 = \"Explanation python\"\n",
        "pat2 = str(input('Enter the pattern to be found in order: '))\n",
        "n = str2.count(pat2[0])\n",
        "k = []\n",
        "count = 0\n",
        "for i in str2:\n",
        "  k.append(i)\n",
        "  if i == pat2[0]:\n",
        "    count += 1\n",
        "    if count == n:\n",
        "      k.append('-')\n",
        "k2 = \"\".join(k)\n",
        "print(k2)\n",
        "s2 = k2.split('-')\n",
        "\n",
        "count2 = 0\n",
        "count3 = 0\n",
        "\n",
        "for i in s2[0]:\n",
        "  if i == pat2[1]:\n",
        "    count2 += 1\n",
        "for i in s2[1]:\n",
        "  if i == pat2[0]:\n",
        "    count3 += 1\n",
        "\n",
        "if count2 == 0 and count3 == 0:\n",
        "  print(True)\n",
        "else:\n",
        "  print(False)"
      ],
      "metadata": {
        "colab": {
          "base_uri": "https://localhost:8080/"
        },
        "id": "0wFXa2u_OHuF",
        "outputId": "12a8d2cf-7c75-481a-c728-1a547e70dfd9"
      },
      "execution_count": 20,
      "outputs": [
        {
          "output_type": "stream",
          "name": "stdout",
          "text": [
            "Enter the pattern to be found in order: at\n",
            "Explana-tion python\n",
            "True\n"
          ]
        }
      ]
    },
    {
      "cell_type": "code",
      "source": [],
      "metadata": {
        "colab": {
          "base_uri": "https://localhost:8080/"
        },
        "id": "uBi0zYMGOHwX",
        "outputId": "996fba4f-765e-4886-d106-7b3ff8cb80a7"
      },
      "execution_count": 17,
      "outputs": [
        {
          "output_type": "execute_result",
          "data": {
            "text/plain": [
              "2"
            ]
          },
          "metadata": {},
          "execution_count": 17
        }
      ]
    },
    {
      "cell_type": "code",
      "source": [],
      "metadata": {
        "id": "guvMgrmjOHym"
      },
      "execution_count": null,
      "outputs": []
    }
  ]
}