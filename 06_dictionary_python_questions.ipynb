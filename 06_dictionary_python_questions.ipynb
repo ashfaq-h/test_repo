{
  "nbformat": 4,
  "nbformat_minor": 0,
  "metadata": {
    "colab": {
      "provenance": []
    },
    "kernelspec": {
      "name": "python3",
      "display_name": "Python 3"
    },
    "language_info": {
      "name": "python"
    }
  },
  "cells": [
    {
      "cell_type": "markdown",
      "source": [
        "## Geeks-for-Geeks Dictionary program python questions\n",
        "https://www.geeksforgeeks.org/python-programming-examples/"
      ],
      "metadata": {
        "id": "ff9iFra_i_a9"
      }
    },
    {
      "cell_type": "code",
      "source": [
        "# Q1 Python – Extract Unique values dictionary values\n",
        "\n",
        "def unique_val_dict(d):\n",
        "  l1 = list(d.values())\n",
        "  l2 = []\n",
        "  for i in l1:\n",
        "    for j in i:\n",
        "      l2.append(j)\n",
        "  print(f'The list of unique set of values from the given dictionary is: {list(set(l2))}')\n",
        "\n",
        "di = {'abc': [5, 6, 7, 8], 'def': [10, 11, 7, 5], 'hij': [3, 4, 5, 6]}\n",
        "unique_val_dict(di)"
      ],
      "metadata": {
        "id": "X9ulAJpU-eh9",
        "colab": {
          "base_uri": "https://localhost:8080/"
        },
        "outputId": "25da4f2a-15b4-4e93-dea7-adfe4ec27d15"
      },
      "execution_count": null,
      "outputs": [
        {
          "output_type": "stream",
          "name": "stdout",
          "text": [
            "The list of unique set of values from the given dictionary is: [3, 4, 5, 6, 7, 8, 10, 11]\n"
          ]
        }
      ]
    },
    {
      "cell_type": "code",
      "source": [
        "# Q2 Python program to find the sum of all items in a dictionary\n",
        "\n",
        "def dict_sum(d):\n",
        "  sum = 0\n",
        "  for i in d.values():\n",
        "    for j in i:\n",
        "      sum += j\n",
        "  print(f'The sum of all the items of the given dictionary is: {sum}')\n",
        "\n",
        "di = {'abc': [5, 6, 7, 8], 'def': [10, 11, 7, 5]}\n",
        "dict_sum(di)"
      ],
      "metadata": {
        "id": "rS8KBIq09Dv_",
        "colab": {
          "base_uri": "https://localhost:8080/"
        },
        "outputId": "55fbfea0-f0b3-412e-9f73-b1fef4754559"
      },
      "execution_count": null,
      "outputs": [
        {
          "output_type": "stream",
          "name": "stdout",
          "text": [
            "The sum of all the items of the given dictionary is: 59\n"
          ]
        }
      ]
    },
    {
      "cell_type": "code",
      "source": [
        "# Q3 Python | Ways to remove a key from dictionary\n",
        "\n",
        "def dict_remove(d, item):\n",
        "  d2 = d.copy()\n",
        "  for i in d:\n",
        "    if i == item:\n",
        "      del d2[i]\n",
        "  print(f'The dictionary after removing the said disctionary is: {d2}')\n",
        "\n",
        "# Method 2\n",
        "def dict_remove2(d, item):\n",
        "  d2 = d.copy()\n",
        "  for i in d:\n",
        "    if i == item:\n",
        "      d2.pop(i)\n",
        "  print(f'The dictionary after removing the said disctionary is: {d2}')\n",
        "\n",
        "\n",
        "di = {'abc': [5, 6, 8], 'def': [10, 11, 5], 'hij': [3, 4, 6], 'lmn': [23, 45, 1]}\n",
        "remove_item = 'hijh'\n",
        "dict_remove2(di, remove_item)"
      ],
      "metadata": {
        "id": "yYwOZXMaHOCG",
        "colab": {
          "base_uri": "https://localhost:8080/"
        },
        "outputId": "37280d32-14b7-4df2-c1a0-fc5a08287ed8"
      },
      "execution_count": null,
      "outputs": [
        {
          "output_type": "stream",
          "name": "stdout",
          "text": [
            "The dictionary after removing the said disctionary is: {'abc': [5, 6, 8], 'def': [10, 11, 5], 'lmn': [23, 45, 1]}\n"
          ]
        }
      ]
    },
    {
      "cell_type": "code",
      "source": [
        "# Q4 Ways to sort list of dictionaries by values in Python – Using itemgetter\n",
        "\n",
        "def list_dict_sort(d, param):\n",
        ""
      ],
      "metadata": {
        "id": "Cl9ES0c8RMWn"
      },
      "execution_count": null,
      "outputs": []
    },
    {
      "cell_type": "code",
      "source": [],
      "metadata": {
        "id": "Av6c6UDuim6r"
      },
      "execution_count": null,
      "outputs": []
    },
    {
      "cell_type": "code",
      "source": [],
      "metadata": {
        "id": "HjnvB_qKim9i"
      },
      "execution_count": null,
      "outputs": []
    }
  ]
}